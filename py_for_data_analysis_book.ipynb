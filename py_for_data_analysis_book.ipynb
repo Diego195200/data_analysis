{
 "cells": [
  {
   "cell_type": "code",
   "id": "initial_id",
   "metadata": {
    "collapsed": true,
    "ExecuteTime": {
     "end_time": "2024-06-16T19:39:20.000046Z",
     "start_time": "2024-06-16T19:39:19.110735Z"
    }
   },
   "source": "import pandas as pd",
   "outputs": [
    {
     "name": "stderr",
     "output_type": "stream",
     "text": [
      "/usr/lib/python3/dist-packages/pytz/__init__.py:31: SyntaxWarning: invalid escape sequence '\\s'\n",
      "  match = re.match(\"^#\\s*version\\s*([0-9a-z]*)\\s*$\", line)\n"
     ]
    }
   ],
   "execution_count": 1
  },
  {
   "metadata": {},
   "cell_type": "markdown",
   "source": [
    "Pandas has two main objects. Series and DataFrame\n",
    "\n",
    "We will start with Series"
   ],
   "id": "ed13ec48c117e243"
  },
  {
   "metadata": {
    "ExecuteTime": {
     "end_time": "2024-06-16T19:46:31.628083Z",
     "start_time": "2024-06-16T19:46:31.619750Z"
    }
   },
   "cell_type": "code",
   "source": [
    "series_iterable = pd.Series([4, 7, -5, 3])\n",
    "series_iterable"
   ],
   "id": "e3d1f3341235beff",
   "outputs": [
    {
     "data": {
      "text/plain": [
       "0    4\n",
       "1    7\n",
       "2   -5\n",
       "3    3\n",
       "dtype: int64"
      ]
     },
     "execution_count": 4,
     "metadata": {},
     "output_type": "execute_result"
    }
   ],
   "execution_count": 4
  },
  {
   "metadata": {},
   "cell_type": "markdown",
   "source": "When use a dictionary to create the Series, the key values will create the indexes and the values are the second columns next to indexes",
   "id": "4aebfb8a1cbce9ee"
  },
  {
   "metadata": {
    "ExecuteTime": {
     "end_time": "2024-06-16T19:47:24.892253Z",
     "start_time": "2024-06-16T19:47:24.883019Z"
    }
   },
   "cell_type": "code",
   "source": [
    "series_dict = pd.Series(\n",
    "    {\n",
    "        'name': 'Diego',\n",
    "        'age': 21\n",
    "    }\n",
    ")\n",
    "series_dict"
   ],
   "id": "6618a61535d8e7f9",
   "outputs": [
    {
     "data": {
      "text/plain": [
       "name    Diego\n",
       "age        21\n",
       "dtype: object"
      ]
     },
     "execution_count": 5,
     "metadata": {},
     "output_type": "execute_result"
    }
   ],
   "execution_count": 5
  },
  {
   "metadata": {},
   "cell_type": "markdown",
   "source": "So **Series is actually a class**, when we make an instance of it, We need to pass am iterable, dictionary with data and by default it creates an index column starting from 0 to n-1\n",
   "id": "d16d1c654f3ea199"
  },
  {
   "metadata": {},
   "cell_type": "markdown",
   "source": "We can get an array representation and index object of the series with the **attributes** `array` and `index`",
   "id": "de88a1a0206cb8da"
  },
  {
   "metadata": {
    "ExecuteTime": {
     "end_time": "2024-06-16T19:54:03.911237Z",
     "start_time": "2024-06-16T19:54:03.904871Z"
    }
   },
   "cell_type": "code",
   "source": [
    "series_dict.array\n",
    "series_dict.index"
   ],
   "id": "91d9e02337448982",
   "outputs": [
    {
     "data": {
      "text/plain": [
       "Index(['name', 'age'], dtype='object')"
      ]
     },
     "execution_count": 9,
     "metadata": {},
     "output_type": "execute_result"
    }
   ],
   "execution_count": 9
  },
  {
   "metadata": {
    "ExecuteTime": {
     "end_time": "2024-06-16T19:58:05.012571Z",
     "start_time": "2024-06-16T19:58:05.006206Z"
    }
   },
   "cell_type": "code",
   "source": "series_iterable.array",
   "id": "6c85fc7592d047ac",
   "outputs": [
    {
     "data": {
      "text/plain": [
       "<NumpyExtensionArray>\n",
       "[4, 7, -5, 3]\n",
       "Length: 4, dtype: int64"
      ]
     },
     "execution_count": 10,
     "metadata": {},
     "output_type": "execute_result"
    }
   ],
   "execution_count": 10
  },
  {
   "metadata": {},
   "cell_type": "markdown",
   "source": "If we want to add our own indexes",
   "id": "9746a6259ef8c88d"
  },
  {
   "metadata": {
    "ExecuteTime": {
     "end_time": "2024-06-16T20:00:15.180552Z",
     "start_time": "2024-06-16T20:00:15.171087Z"
    }
   },
   "cell_type": "code",
   "source": [
    "series_custom = pd.Series([4, 7, -5, 3], index=['d', 'b', 'a', 'c'])\n",
    "series_custom"
   ],
   "id": "7d68ba4582f710e6",
   "outputs": [
    {
     "data": {
      "text/plain": [
       "d    4\n",
       "b    7\n",
       "a   -5\n",
       "c    3\n",
       "dtype: int64"
      ]
     },
     "execution_count": 12,
     "metadata": {},
     "output_type": "execute_result"
    }
   ],
   "execution_count": 12
  },
  {
   "metadata": {},
   "cell_type": "markdown",
   "source": "Like normal slicing we use the index to get the value",
   "id": "dd79eb78694581f0"
  },
  {
   "metadata": {
    "ExecuteTime": {
     "end_time": "2024-06-16T20:22:19.086865Z",
     "start_time": "2024-06-16T20:22:19.080556Z"
    }
   },
   "cell_type": "code",
   "source": "series_custom['a']",
   "id": "39fd7d060f52026b",
   "outputs": [
    {
     "data": {
      "text/plain": [
       "-5"
      ]
     },
     "execution_count": 17,
     "metadata": {},
     "output_type": "execute_result"
    }
   ],
   "execution_count": 17
  },
  {
   "metadata": {
    "ExecuteTime": {
     "end_time": "2024-06-16T20:21:52.847254Z",
     "start_time": "2024-06-16T20:21:52.837425Z"
    }
   },
   "cell_type": "code",
   "source": [
    "series_custom[['a', 'c']]\n",
    "# Here the list is interpreted as a list of indexes"
   ],
   "id": "6e4f7787d3db4d8f",
   "outputs": [
    {
     "data": {
      "text/plain": [
       "a   -5\n",
       "c    3\n",
       "dtype: int64"
      ]
     },
     "execution_count": 16,
     "metadata": {},
     "output_type": "execute_result"
    }
   ],
   "execution_count": 16
  },
  {
   "metadata": {
    "ExecuteTime": {
     "end_time": "2024-06-16T20:45:22.335243Z",
     "start_time": "2024-06-16T20:45:22.324108Z"
    }
   },
   "cell_type": "code",
   "source": "series_custom[series_custom > 0]",
   "id": "1794c7fc6a6d8886",
   "outputs": [
    {
     "data": {
      "text/plain": [
       "d    4\n",
       "b    7\n",
       "c    3\n",
       "dtype: int64"
      ]
     },
     "execution_count": 18,
     "metadata": {},
     "output_type": "execute_result"
    }
   ],
   "execution_count": 18
  },
  {
   "metadata": {
    "ExecuteTime": {
     "end_time": "2024-06-16T20:46:55.247931Z",
     "start_time": "2024-06-16T20:46:55.235221Z"
    }
   },
   "cell_type": "code",
   "source": "series_custom * 2",
   "id": "7144319fd289579b",
   "outputs": [
    {
     "data": {
      "text/plain": [
       "d     8\n",
       "b    14\n",
       "a   -10\n",
       "c     6\n",
       "dtype: int64"
      ]
     },
     "execution_count": 19,
     "metadata": {},
     "output_type": "execute_result"
    }
   ],
   "execution_count": 19
  }
 ],
 "metadata": {
  "kernelspec": {
   "display_name": "Python 3",
   "language": "python",
   "name": "python3"
  },
  "language_info": {
   "codemirror_mode": {
    "name": "ipython",
    "version": 2
   },
   "file_extension": ".py",
   "mimetype": "text/x-python",
   "name": "python",
   "nbconvert_exporter": "python",
   "pygments_lexer": "ipython2",
   "version": "2.7.6"
  }
 },
 "nbformat": 4,
 "nbformat_minor": 5
}
