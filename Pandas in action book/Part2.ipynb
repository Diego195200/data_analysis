{
 "cells": [
  {
   "metadata": {},
   "cell_type": "markdown",
   "source": [
    "# Series Object\n",
    "\n",
    "* A series is a one-dimensional object labeled array for homogeneous data\n",
    "* Pandas assigns each `Series` value a `label` an identifier we can use to locate the value\n",
    "* The series combine and expand Python's native structures\n",
    "* The best object to compare Series is with Python **dictionaries**\n"
   ],
   "id": "6eb436607e451fe0"
  },
  {
   "cell_type": "code",
   "id": "initial_id",
   "metadata": {
    "collapsed": true,
    "ExecuteTime": {
     "end_time": "2024-06-20T14:09:40.862849Z",
     "start_time": "2024-06-20T14:09:40.854813Z"
    }
   },
   "source": [
    "import pandas as pd\n",
    "import numpy as np"
   ],
   "outputs": [],
   "execution_count": 5
  },
  {
   "metadata": {},
   "cell_type": "markdown",
   "source": "A Series object with no data",
   "id": "38f71905c01b38f"
  },
  {
   "metadata": {
    "ExecuteTime": {
     "end_time": "2024-06-20T14:12:40.933471Z",
     "start_time": "2024-06-20T14:12:40.917941Z"
    }
   },
   "cell_type": "code",
   "source": "pd.Series()",
   "id": "e4809b9e2764a34c",
   "outputs": [
    {
     "data": {
      "text/plain": [
       "Series([], dtype: object)"
      ]
     },
     "execution_count": 7,
     "metadata": {},
     "output_type": "execute_result"
    }
   ],
   "execution_count": 7
  },
  {
   "metadata": {},
   "cell_type": "markdown",
   "source": "Creating an object Series with data from a python list",
   "id": "fd1bce7c4bc8057b"
  },
  {
   "metadata": {
    "ExecuteTime": {
     "end_time": "2024-06-20T14:26:05.909856Z",
     "start_time": "2024-06-20T14:26:05.905101Z"
    }
   },
   "cell_type": "code",
   "source": "ice_cream_flavors = ['Chocolate', 'Vanilla', 'Strawberry', 'Rum Raisin',]",
   "id": "1c7a74460f35bf18",
   "outputs": [],
   "execution_count": 14
  },
  {
   "metadata": {},
   "cell_type": "markdown",
   "source": [
    "When instantiating a Series object, we se that it has two columns, the `index` and the `values`\n",
    "\n",
    "Index describes both the collection of identifiers and an individual identifier. By default, the index will be numbers starting from 0 and end in n-1"
   ],
   "id": "1121d624bc5250fd"
  },
  {
   "metadata": {},
   "cell_type": "markdown",
   "source": [
    "We have `index position` and `index label`\n",
    "\n",
    "We can reference a value by its position or by a key/label. In a sense, each value has two identifiers"
   ],
   "id": "204646ddf86ebf6d"
  },
  {
   "metadata": {
    "ExecuteTime": {
     "end_time": "2024-06-20T15:39:58.571363Z",
     "start_time": "2024-06-20T15:39:58.548593Z"
    }
   },
   "cell_type": "code",
   "source": [
    "# Series with index position (number) by default\n",
    "pd.Series(data=ice_cream_flavors)"
   ],
   "id": "b84982e57ca6c57c",
   "outputs": [
    {
     "data": {
      "text/plain": [
       "0     Chocolate\n",
       "1       Vanilla\n",
       "2    Strawberry\n",
       "3    Rum Raisin\n",
       "dtype: object"
      ]
     },
     "execution_count": 16,
     "metadata": {},
     "output_type": "execute_result"
    }
   ],
   "execution_count": 16
  },
  {
   "metadata": {
    "ExecuteTime": {
     "end_time": "2024-06-20T15:53:32.396340Z",
     "start_time": "2024-06-20T15:53:32.370311Z"
    }
   },
   "cell_type": "code",
   "source": [
    "# Series with both index position (inherent) and with index label (we put it)\n",
    "days_of_the_week = ('Monday', 'Wednesday', 'Friday', 'Saturday')\n",
    "\n",
    "pd.Series(data=ice_cream_flavors, index=days_of_the_week)"
   ],
   "id": "3737bdeb747621d4",
   "outputs": [
    {
     "data": {
      "text/plain": [
       "Monday        Chocolate\n",
       "Wednesday       Vanilla\n",
       "Friday       Strawberry\n",
       "Saturday     Rum Raisin\n",
       "dtype: object"
      ]
     },
     "execution_count": 18,
     "metadata": {},
     "output_type": "execute_result"
    }
   ],
   "execution_count": 18
  },
  {
   "metadata": {},
   "cell_type": "markdown",
   "source": "**So we always can access to values with an index position and with the label position (if it is provided**",
   "id": "1a5f59bd90226e5e"
  },
  {
   "metadata": {},
   "cell_type": "markdown",
   "source": "It is possible to have duplicated index labels. But we should avoid that",
   "id": "875d0fffd5ed953d"
  },
  {
   "metadata": {
    "ExecuteTime": {
     "end_time": "2024-06-20T15:57:25.135176Z",
     "start_time": "2024-06-20T15:57:25.118955Z"
    }
   },
   "cell_type": "code",
   "source": [
    "# Series with both index position (inherent) and with index label (we put it)\n",
    "days_of_the_week = ('Monday', 'Wednesday', 'Friday', 'Wednesday')\n",
    "\n",
    "pd.Series(data=ice_cream_flavors, index=days_of_the_week)"
   ],
   "id": "861befcc2ede47ec",
   "outputs": [
    {
     "data": {
      "text/plain": [
       "Monday        Chocolate\n",
       "Wednesday       Vanilla\n",
       "Friday       Strawberry\n",
       "Wednesday    Rum Raisin\n",
       "dtype: object"
      ]
     },
     "execution_count": 19,
     "metadata": {},
     "output_type": "execute_result"
    }
   ],
   "execution_count": 19
  },
  {
   "metadata": {},
   "cell_type": "markdown",
   "source": [
    "## missing values\n",
    "\n",
    "When pandas sees a missing value, it is substituted by a `nan` object. \n",
    "\n",
    "nan -> not a number\n",
    "\n",
    "Notice that pandas converts numeric values from integers to floating-points when it spots a `nan` value"
   ],
   "id": "197fbaf618cfc1b0"
  },
  {
   "metadata": {
    "ExecuteTime": {
     "end_time": "2024-06-20T16:24:18.247616Z",
     "start_time": "2024-06-20T16:24:18.233386Z"
    }
   },
   "cell_type": "code",
   "source": [
    "temperatures = [94, 88, np.nan, 91]\n",
    "pd.Series(data=temperatures)"
   ],
   "id": "75d5c5760b006c5c",
   "outputs": [
    {
     "data": {
      "text/plain": [
       "0    94.0\n",
       "1    88.0\n",
       "2     NaN\n",
       "3    91.0\n",
       "dtype: float64"
      ]
     },
     "execution_count": 21,
     "metadata": {},
     "output_type": "execute_result"
    }
   ],
   "execution_count": 21
  },
  {
   "metadata": {},
   "cell_type": "markdown",
   "source": "## constructing Series with other Python structures",
   "id": "9d51f4643dc465e0"
  },
  {
   "metadata": {
    "ExecuteTime": {
     "end_time": "2024-06-20T16:29:41.589123Z",
     "start_time": "2024-06-20T16:29:41.569090Z"
    }
   },
   "cell_type": "code",
   "source": [
    "# With dictionaries\n",
    "calorie_info = {\n",
    "    'Cereal': 125,\n",
    "    'Chocolate Bar': 406,\n",
    "    'Ice Cream Sundae': 342,\n",
    "}\n",
    "\n",
    "diet = pd.Series(data=calorie_info)\n",
    "diet"
   ],
   "id": "f14ce17ddc65a2e0",
   "outputs": [
    {
     "data": {
      "text/plain": [
       "Cereal              125\n",
       "Chocolate Bar       406\n",
       "Ice Cream Sundae    342\n",
       "dtype: int64"
      ]
     },
     "execution_count": 23,
     "metadata": {},
     "output_type": "execute_result"
    }
   ],
   "execution_count": 23
  },
  {
   "metadata": {
    "ExecuteTime": {
     "end_time": "2024-06-20T16:31:16.000414Z",
     "start_time": "2024-06-20T16:31:15.983060Z"
    }
   },
   "cell_type": "code",
   "source": [
    "# With tuples\n",
    "\n",
    "pd.Series(data=('Red', 'Green', 'Blue'))"
   ],
   "id": "a58416bf57af547",
   "outputs": [
    {
     "data": {
      "text/plain": [
       "0      Red\n",
       "1    Green\n",
       "2     Blue\n",
       "dtype: object"
      ]
     },
     "execution_count": 24,
     "metadata": {},
     "output_type": "execute_result"
    }
   ],
   "execution_count": 24
  },
  {
   "metadata": {
    "ExecuteTime": {
     "end_time": "2024-06-20T16:33:07.190770Z",
     "start_time": "2024-06-20T16:33:07.168055Z"
    }
   },
   "cell_type": "code",
   "source": [
    "# We can store any data, for example, tuples\n",
    "\n",
    "rgb_colors = [(120, 141, 26), (196, 165, 45)]\n",
    "pd.Series(data=rgb_colors)"
   ],
   "id": "cd18bdf98b2d456d",
   "outputs": [
    {
     "data": {
      "text/plain": [
       "0    (120, 141, 26)\n",
       "1    (196, 165, 45)\n",
       "dtype: object"
      ]
     },
     "execution_count": 25,
     "metadata": {},
     "output_type": "execute_result"
    }
   ],
   "execution_count": 25
  },
  {
   "metadata": {},
   "cell_type": "markdown",
   "source": "**We can't create a Series object with sets**",
   "id": "eea6468eafc36ec1"
  },
  {
   "metadata": {
    "ExecuteTime": {
     "end_time": "2024-06-20T16:34:47.040961Z",
     "start_time": "2024-06-20T16:34:46.778546Z"
    }
   },
   "cell_type": "code",
   "source": "pd.Series(data={1,2})",
   "id": "646cc0c5a1ea1e04",
   "outputs": [
    {
     "ename": "TypeError",
     "evalue": "'set' type is unordered",
     "output_type": "error",
     "traceback": [
      "\u001B[0;31m---------------------------------------------------------------------------\u001B[0m",
      "\u001B[0;31mTypeError\u001B[0m                                 Traceback (most recent call last)",
      "Cell \u001B[0;32mIn[26], line 1\u001B[0m\n\u001B[0;32m----> 1\u001B[0m \u001B[43mpd\u001B[49m\u001B[38;5;241;43m.\u001B[39;49m\u001B[43mSeries\u001B[49m\u001B[43m(\u001B[49m\u001B[43mdata\u001B[49m\u001B[38;5;241;43m=\u001B[39;49m\u001B[43m{\u001B[49m\u001B[38;5;241;43m1\u001B[39;49m\u001B[43m,\u001B[49m\u001B[38;5;241;43m2\u001B[39;49m\u001B[43m}\u001B[49m\u001B[43m)\u001B[49m\n",
      "File \u001B[0;32m~/.local/lib/python3.12/site-packages/pandas/core/series.py:584\u001B[0m, in \u001B[0;36mSeries.__init__\u001B[0;34m(self, data, index, dtype, name, copy, fastpath)\u001B[0m\n\u001B[1;32m    582\u001B[0m         data \u001B[38;5;241m=\u001B[39m data\u001B[38;5;241m.\u001B[39mcopy()\n\u001B[1;32m    583\u001B[0m \u001B[38;5;28;01melse\u001B[39;00m:\n\u001B[0;32m--> 584\u001B[0m     data \u001B[38;5;241m=\u001B[39m \u001B[43msanitize_array\u001B[49m\u001B[43m(\u001B[49m\u001B[43mdata\u001B[49m\u001B[43m,\u001B[49m\u001B[43m \u001B[49m\u001B[43mindex\u001B[49m\u001B[43m,\u001B[49m\u001B[43m \u001B[49m\u001B[43mdtype\u001B[49m\u001B[43m,\u001B[49m\u001B[43m \u001B[49m\u001B[43mcopy\u001B[49m\u001B[43m)\u001B[49m\n\u001B[1;32m    586\u001B[0m     manager \u001B[38;5;241m=\u001B[39m _get_option(\u001B[38;5;124m\"\u001B[39m\u001B[38;5;124mmode.data_manager\u001B[39m\u001B[38;5;124m\"\u001B[39m, silent\u001B[38;5;241m=\u001B[39m\u001B[38;5;28;01mTrue\u001B[39;00m)\n\u001B[1;32m    587\u001B[0m     \u001B[38;5;28;01mif\u001B[39;00m manager \u001B[38;5;241m==\u001B[39m \u001B[38;5;124m\"\u001B[39m\u001B[38;5;124mblock\u001B[39m\u001B[38;5;124m\"\u001B[39m:\n",
      "File \u001B[0;32m~/.local/lib/python3.12/site-packages/pandas/core/construction.py:642\u001B[0m, in \u001B[0;36msanitize_array\u001B[0;34m(data, index, dtype, copy, allow_2d)\u001B[0m\n\u001B[1;32m    633\u001B[0m     \u001B[38;5;28;01mreturn\u001B[39;00m sanitize_array(\n\u001B[1;32m    634\u001B[0m         data,\n\u001B[1;32m    635\u001B[0m         index\u001B[38;5;241m=\u001B[39mindex,\n\u001B[0;32m   (...)\u001B[0m\n\u001B[1;32m    638\u001B[0m         allow_2d\u001B[38;5;241m=\u001B[39mallow_2d,\n\u001B[1;32m    639\u001B[0m     )\n\u001B[1;32m    641\u001B[0m \u001B[38;5;28;01melse\u001B[39;00m:\n\u001B[0;32m--> 642\u001B[0m     \u001B[43m_sanitize_non_ordered\u001B[49m\u001B[43m(\u001B[49m\u001B[43mdata\u001B[49m\u001B[43m)\u001B[49m\n\u001B[1;32m    643\u001B[0m     \u001B[38;5;66;03m# materialize e.g. generators, convert e.g. tuples, abc.ValueView\u001B[39;00m\n\u001B[1;32m    644\u001B[0m     data \u001B[38;5;241m=\u001B[39m \u001B[38;5;28mlist\u001B[39m(data)\n",
      "File \u001B[0;32m~/.local/lib/python3.12/site-packages/pandas/core/construction.py:693\u001B[0m, in \u001B[0;36m_sanitize_non_ordered\u001B[0;34m(data)\u001B[0m\n\u001B[1;32m    689\u001B[0m \u001B[38;5;250m\u001B[39m\u001B[38;5;124;03m\"\"\"\u001B[39;00m\n\u001B[1;32m    690\u001B[0m \u001B[38;5;124;03mRaise only for unordered sets, e.g., not for dict_keys\u001B[39;00m\n\u001B[1;32m    691\u001B[0m \u001B[38;5;124;03m\"\"\"\u001B[39;00m\n\u001B[1;32m    692\u001B[0m \u001B[38;5;28;01mif\u001B[39;00m \u001B[38;5;28misinstance\u001B[39m(data, (\u001B[38;5;28mset\u001B[39m, \u001B[38;5;28mfrozenset\u001B[39m)):\n\u001B[0;32m--> 693\u001B[0m     \u001B[38;5;28;01mraise\u001B[39;00m \u001B[38;5;167;01mTypeError\u001B[39;00m(\u001B[38;5;124mf\u001B[39m\u001B[38;5;124m\"\u001B[39m\u001B[38;5;124m'\u001B[39m\u001B[38;5;132;01m{\u001B[39;00m\u001B[38;5;28mtype\u001B[39m(data)\u001B[38;5;241m.\u001B[39m\u001B[38;5;18m__name__\u001B[39m\u001B[38;5;132;01m}\u001B[39;00m\u001B[38;5;124m'\u001B[39m\u001B[38;5;124m type is unordered\u001B[39m\u001B[38;5;124m\"\u001B[39m)\n",
      "\u001B[0;31mTypeError\u001B[0m: 'set' type is unordered"
     ]
    }
   ],
   "execution_count": 26
  },
  {
   "metadata": {},
   "cell_type": "markdown",
   "source": "Series constructor also accepts ndarray object",
   "id": "98ce789f93eb7996"
  },
  {
   "metadata": {
    "ExecuteTime": {
     "end_time": "2024-06-20T16:43:10.863419Z",
     "start_time": "2024-06-20T16:43:10.846059Z"
    }
   },
   "cell_type": "code",
   "source": [
    "random_data = np.random.randint(1, 101, 10)\n",
    "random_data"
   ],
   "id": "5aa6358eab9949cb",
   "outputs": [
    {
     "data": {
      "text/plain": [
       "array([91, 34, 87, 53, 70, 79, 11, 84,  2, 86])"
      ]
     },
     "execution_count": 32,
     "metadata": {},
     "output_type": "execute_result"
    }
   ],
   "execution_count": 32
  },
  {
   "metadata": {
    "ExecuteTime": {
     "end_time": "2024-06-20T16:43:18.741021Z",
     "start_time": "2024-06-20T16:43:18.734646Z"
    }
   },
   "cell_type": "code",
   "source": "pd.Series(data=random_data)",
   "id": "64ee5af94e836a95",
   "outputs": [
    {
     "data": {
      "text/plain": [
       "0    91\n",
       "1    34\n",
       "2    87\n",
       "3    53\n",
       "4    70\n",
       "5    79\n",
       "6    11\n",
       "7    84\n",
       "8     2\n",
       "9    86\n",
       "dtype: int64"
      ]
     },
     "execution_count": 35,
     "metadata": {},
     "output_type": "execute_result"
    }
   ],
   "execution_count": 35
  },
  {
   "metadata": {},
   "cell_type": "markdown",
   "source": "# Series attributes",
   "id": "47d199b771923f5f"
  },
  {
   "metadata": {
    "ExecuteTime": {
     "end_time": "2024-06-20T16:58:40.215703Z",
     "start_time": "2024-06-20T16:58:40.208436Z"
    }
   },
   "cell_type": "code",
   "source": "diet",
   "id": "e7f214f6499e7226",
   "outputs": [
    {
     "data": {
      "text/plain": [
       "Cereal              125\n",
       "Chocolate Bar       406\n",
       "Ice Cream Sundae    342\n",
       "dtype: int64"
      ]
     },
     "execution_count": 50,
     "metadata": {},
     "output_type": "execute_result"
    }
   ],
   "execution_count": 50
  },
  {
   "metadata": {
    "ExecuteTime": {
     "end_time": "2024-06-20T16:49:30.436683Z",
     "start_time": "2024-06-20T16:49:30.413474Z"
    }
   },
   "cell_type": "code",
   "source": [
    "# from diet series\n",
    "\n",
    "# values attributes returns an ndarray Numpy objec\n",
    "diet.values"
   ],
   "id": "746345c8618e5824",
   "outputs": [
    {
     "data": {
      "text/plain": [
       "array([125, 406, 342])"
      ]
     },
     "execution_count": 39,
     "metadata": {},
     "output_type": "execute_result"
    }
   ],
   "execution_count": 39
  },
  {
   "metadata": {
    "ExecuteTime": {
     "end_time": "2024-06-20T16:54:32.238593Z",
     "start_time": "2024-06-20T16:54:32.228888Z"
    }
   },
   "cell_type": "code",
   "source": [
    "# index method returns an Index Pandas object\n",
    "diet.index"
   ],
   "id": "1a90a70efd5d2aa1",
   "outputs": [
    {
     "data": {
      "text/plain": [
       "Index(['Cereal', 'Chocolate Bar', 'Ice Cream Sundae'], dtype='object')"
      ]
     },
     "execution_count": 42,
     "metadata": {},
     "output_type": "execute_result"
    }
   ],
   "execution_count": 42
  },
  {
   "metadata": {
    "ExecuteTime": {
     "end_time": "2024-06-20T16:57:40.808103Z",
     "start_time": "2024-06-20T16:57:40.802090Z"
    }
   },
   "cell_type": "code",
   "source": "diet.dtype",
   "id": "cba5bb3b326ce6bf",
   "outputs": [
    {
     "data": {
      "text/plain": [
       "dtype('int64')"
      ]
     },
     "execution_count": 48,
     "metadata": {},
     "output_type": "execute_result"
    }
   ],
   "execution_count": 48
  },
  {
   "metadata": {
    "ExecuteTime": {
     "end_time": "2024-06-20T16:58:28.660822Z",
     "start_time": "2024-06-20T16:58:28.655792Z"
    }
   },
   "cell_type": "code",
   "source": "diet.size",
   "id": "7923ef68c7c1e4bf",
   "outputs": [
    {
     "data": {
      "text/plain": [
       "3"
      ]
     },
     "execution_count": 49,
     "metadata": {},
     "output_type": "execute_result"
    }
   ],
   "execution_count": 49
  },
  {
   "metadata": {
    "ExecuteTime": {
     "end_time": "2024-06-20T17:00:31.501818Z",
     "start_time": "2024-06-20T17:00:31.496205Z"
    }
   },
   "cell_type": "code",
   "source": "diet.shape",
   "id": "c186150a61a85fa2",
   "outputs": [
    {
     "data": {
      "text/plain": [
       "(3,)"
      ]
     },
     "execution_count": 52,
     "metadata": {},
     "output_type": "execute_result"
    }
   ],
   "execution_count": 52
  },
  {
   "metadata": {
    "ExecuteTime": {
     "end_time": "2024-06-20T17:05:24.014305Z",
     "start_time": "2024-06-20T17:05:24.006783Z"
    }
   },
   "cell_type": "code",
   "source": "diet.is_unique",
   "id": "897b3115c4608933",
   "outputs": [
    {
     "data": {
      "text/plain": [
       "True"
      ]
     },
     "execution_count": 53,
     "metadata": {},
     "output_type": "execute_result"
    }
   ],
   "execution_count": 53
  },
  {
   "metadata": {
    "ExecuteTime": {
     "end_time": "2024-06-20T17:08:55.007560Z",
     "start_time": "2024-06-20T17:08:55.000362Z"
    }
   },
   "cell_type": "code",
   "source": "diet.is_monotonic_increasing",
   "id": "e3ef5254513474f5",
   "outputs": [
    {
     "data": {
      "text/plain": [
       "False"
      ]
     },
     "execution_count": 58,
     "metadata": {},
     "output_type": "execute_result"
    }
   ],
   "execution_count": 58
  }
 ],
 "metadata": {
  "kernelspec": {
   "display_name": "Python 3",
   "language": "python",
   "name": "python3"
  },
  "language_info": {
   "codemirror_mode": {
    "name": "ipython",
    "version": 2
   },
   "file_extension": ".py",
   "mimetype": "text/x-python",
   "name": "python",
   "nbconvert_exporter": "python",
   "pygments_lexer": "ipython2",
   "version": "2.7.6"
  }
 },
 "nbformat": 4,
 "nbformat_minor": 5
}
