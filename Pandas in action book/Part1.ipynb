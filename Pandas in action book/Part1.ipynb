{
 "cells": [
  {
   "cell_type": "code",
   "id": "initial_id",
   "metadata": {
    "collapsed": true,
    "ExecuteTime": {
     "end_time": "2024-06-18T16:49:11.812517Z",
     "start_time": "2024-06-18T16:49:10.844504Z"
    }
   },
   "source": "import pandas as pd",
   "outputs": [
    {
     "name": "stderr",
     "output_type": "stream",
     "text": [
      "/usr/lib/python3/dist-packages/pytz/__init__.py:31: SyntaxWarning: invalid escape sequence '\\s'\n",
      "  match = re.match(\"^#\\s*version\\s*([0-9a-z]*)\\s*$\", line)\n"
     ]
    }
   ],
   "execution_count": 1
  },
  {
   "metadata": {},
   "cell_type": "markdown",
   "source": "Working with movies file",
   "id": "cd24a04f65e0e19c"
  },
  {
   "metadata": {
    "ExecuteTime": {
     "end_time": "2024-06-18T16:51:51.418382Z",
     "start_time": "2024-06-18T16:51:51.396031Z"
    }
   },
   "cell_type": "code",
   "source": "movies = pd.read_csv('/home/diego/Documents/Data/movies.csv')",
   "id": "901df693b4494ea4",
   "outputs": [],
   "execution_count": 4
  },
  {
   "metadata": {
    "ExecuteTime": {
     "end_time": "2024-06-18T16:51:56.583715Z",
     "start_time": "2024-06-18T16:51:56.558378Z"
    }
   },
   "cell_type": "code",
   "source": "movies",
   "id": "f6d9843be436ce73",
   "outputs": [
    {
     "data": {
      "text/plain": [
       "     Rank                         Title           Studio       Gross  Year\n",
       "0       1             Avengers: Endgame      Buena Vista  $2,796.30   2019\n",
       "1       2                        Avatar              Fox  $2,789.70   2009\n",
       "2       3                       Titanic        Paramount  $2,187.50   1997\n",
       "3       4  Star Wars: The Force Awakens      Buena Vista  $2,068.20   2015\n",
       "4       5        Avengers: Infinity War      Buena Vista  $2,048.40   2018\n",
       "..    ...                           ...              ...         ...   ...\n",
       "777   778                     Yogi Bear  Warner Brothers    $201.60   2010\n",
       "778   779           Garfield: The Movie              Fox    $200.80   2004\n",
       "779   780                   Cats & Dogs  Warner Brothers    $200.70   2001\n",
       "780   781      The Hunt for Red October        Paramount    $200.50   1990\n",
       "781   782                      Valkyrie              MGM    $200.30   2008\n",
       "\n",
       "[782 rows x 5 columns]"
      ],
      "text/html": [
       "<div>\n",
       "<style scoped>\n",
       "    .dataframe tbody tr th:only-of-type {\n",
       "        vertical-align: middle;\n",
       "    }\n",
       "\n",
       "    .dataframe tbody tr th {\n",
       "        vertical-align: top;\n",
       "    }\n",
       "\n",
       "    .dataframe thead th {\n",
       "        text-align: right;\n",
       "    }\n",
       "</style>\n",
       "<table border=\"1\" class=\"dataframe\">\n",
       "  <thead>\n",
       "    <tr style=\"text-align: right;\">\n",
       "      <th></th>\n",
       "      <th>Rank</th>\n",
       "      <th>Title</th>\n",
       "      <th>Studio</th>\n",
       "      <th>Gross</th>\n",
       "      <th>Year</th>\n",
       "    </tr>\n",
       "  </thead>\n",
       "  <tbody>\n",
       "    <tr>\n",
       "      <th>0</th>\n",
       "      <td>1</td>\n",
       "      <td>Avengers: Endgame</td>\n",
       "      <td>Buena Vista</td>\n",
       "      <td>$2,796.30</td>\n",
       "      <td>2019</td>\n",
       "    </tr>\n",
       "    <tr>\n",
       "      <th>1</th>\n",
       "      <td>2</td>\n",
       "      <td>Avatar</td>\n",
       "      <td>Fox</td>\n",
       "      <td>$2,789.70</td>\n",
       "      <td>2009</td>\n",
       "    </tr>\n",
       "    <tr>\n",
       "      <th>2</th>\n",
       "      <td>3</td>\n",
       "      <td>Titanic</td>\n",
       "      <td>Paramount</td>\n",
       "      <td>$2,187.50</td>\n",
       "      <td>1997</td>\n",
       "    </tr>\n",
       "    <tr>\n",
       "      <th>3</th>\n",
       "      <td>4</td>\n",
       "      <td>Star Wars: The Force Awakens</td>\n",
       "      <td>Buena Vista</td>\n",
       "      <td>$2,068.20</td>\n",
       "      <td>2015</td>\n",
       "    </tr>\n",
       "    <tr>\n",
       "      <th>4</th>\n",
       "      <td>5</td>\n",
       "      <td>Avengers: Infinity War</td>\n",
       "      <td>Buena Vista</td>\n",
       "      <td>$2,048.40</td>\n",
       "      <td>2018</td>\n",
       "    </tr>\n",
       "    <tr>\n",
       "      <th>...</th>\n",
       "      <td>...</td>\n",
       "      <td>...</td>\n",
       "      <td>...</td>\n",
       "      <td>...</td>\n",
       "      <td>...</td>\n",
       "    </tr>\n",
       "    <tr>\n",
       "      <th>777</th>\n",
       "      <td>778</td>\n",
       "      <td>Yogi Bear</td>\n",
       "      <td>Warner Brothers</td>\n",
       "      <td>$201.60</td>\n",
       "      <td>2010</td>\n",
       "    </tr>\n",
       "    <tr>\n",
       "      <th>778</th>\n",
       "      <td>779</td>\n",
       "      <td>Garfield: The Movie</td>\n",
       "      <td>Fox</td>\n",
       "      <td>$200.80</td>\n",
       "      <td>2004</td>\n",
       "    </tr>\n",
       "    <tr>\n",
       "      <th>779</th>\n",
       "      <td>780</td>\n",
       "      <td>Cats &amp; Dogs</td>\n",
       "      <td>Warner Brothers</td>\n",
       "      <td>$200.70</td>\n",
       "      <td>2001</td>\n",
       "    </tr>\n",
       "    <tr>\n",
       "      <th>780</th>\n",
       "      <td>781</td>\n",
       "      <td>The Hunt for Red October</td>\n",
       "      <td>Paramount</td>\n",
       "      <td>$200.50</td>\n",
       "      <td>1990</td>\n",
       "    </tr>\n",
       "    <tr>\n",
       "      <th>781</th>\n",
       "      <td>782</td>\n",
       "      <td>Valkyrie</td>\n",
       "      <td>MGM</td>\n",
       "      <td>$200.30</td>\n",
       "      <td>2008</td>\n",
       "    </tr>\n",
       "  </tbody>\n",
       "</table>\n",
       "<p>782 rows × 5 columns</p>\n",
       "</div>"
      ]
     },
     "execution_count": 5,
     "metadata": {},
     "output_type": "execute_result"
    }
   ],
   "execution_count": 5
  },
  {
   "metadata": {},
   "cell_type": "markdown",
   "source": [
    "We can see the index (first column) and then the proper columns of the file\n",
    "\n",
    "**Remember that read_* returns a DataFrame object**"
   ],
   "id": "5a654c1689731396"
  },
  {
   "metadata": {
    "ExecuteTime": {
     "end_time": "2024-06-18T16:54:39.466222Z",
     "start_time": "2024-06-18T16:54:39.447909Z"
    }
   },
   "cell_type": "code",
   "source": "type(movies)",
   "id": "27f75463feb5908c",
   "outputs": [
    {
     "data": {
      "text/plain": [
       "pandas.core.frame.DataFrame"
      ]
     },
     "execution_count": 6,
     "metadata": {},
     "output_type": "execute_result"
    }
   ],
   "execution_count": 6
  },
  {
   "metadata": {},
   "cell_type": "markdown",
   "source": [
    "We will always have a index columns that are labels to identify rows in the DataFrame\n",
    "\n",
    "**We can set any column as an index**\n"
   ],
   "id": "e94c4d17cd47e4ee"
  },
  {
   "metadata": {
    "ExecuteTime": {
     "end_time": "2024-06-18T17:04:29.832879Z",
     "start_time": "2024-06-18T17:04:29.819043Z"
    }
   },
   "cell_type": "code",
   "source": [
    "# In this case, I want to set the column Title as index\n",
    "\n",
    "movies = pd.read_csv('/home/diego/Documents/Data/movies.csv', index_col='Title')"
   ],
   "id": "ca881c3b8dda8207",
   "outputs": [],
   "execution_count": 9
  },
  {
   "metadata": {},
   "cell_type": "markdown",
   "source": "Now I have a DataFrame with the index column Title",
   "id": "dcc7a4ed1ffd1941"
  },
  {
   "metadata": {
    "ExecuteTime": {
     "end_time": "2024-06-18T17:04:35.021743Z",
     "start_time": "2024-06-18T17:04:35.002092Z"
    }
   },
   "cell_type": "code",
   "source": "movies",
   "id": "9f8f671bbcde825b",
   "outputs": [
    {
     "data": {
      "text/plain": [
       "                              Rank           Studio       Gross  Year\n",
       "Title                                                                \n",
       "Avengers: Endgame                1      Buena Vista  $2,796.30   2019\n",
       "Avatar                           2              Fox  $2,789.70   2009\n",
       "Titanic                          3        Paramount  $2,187.50   1997\n",
       "Star Wars: The Force Awakens     4      Buena Vista  $2,068.20   2015\n",
       "Avengers: Infinity War           5      Buena Vista  $2,048.40   2018\n",
       "...                            ...              ...         ...   ...\n",
       "Yogi Bear                      778  Warner Brothers    $201.60   2010\n",
       "Garfield: The Movie            779              Fox    $200.80   2004\n",
       "Cats & Dogs                    780  Warner Brothers    $200.70   2001\n",
       "The Hunt for Red October       781        Paramount    $200.50   1990\n",
       "Valkyrie                       782              MGM    $200.30   2008\n",
       "\n",
       "[782 rows x 4 columns]"
      ],
      "text/html": [
       "<div>\n",
       "<style scoped>\n",
       "    .dataframe tbody tr th:only-of-type {\n",
       "        vertical-align: middle;\n",
       "    }\n",
       "\n",
       "    .dataframe tbody tr th {\n",
       "        vertical-align: top;\n",
       "    }\n",
       "\n",
       "    .dataframe thead th {\n",
       "        text-align: right;\n",
       "    }\n",
       "</style>\n",
       "<table border=\"1\" class=\"dataframe\">\n",
       "  <thead>\n",
       "    <tr style=\"text-align: right;\">\n",
       "      <th></th>\n",
       "      <th>Rank</th>\n",
       "      <th>Studio</th>\n",
       "      <th>Gross</th>\n",
       "      <th>Year</th>\n",
       "    </tr>\n",
       "    <tr>\n",
       "      <th>Title</th>\n",
       "      <th></th>\n",
       "      <th></th>\n",
       "      <th></th>\n",
       "      <th></th>\n",
       "    </tr>\n",
       "  </thead>\n",
       "  <tbody>\n",
       "    <tr>\n",
       "      <th>Avengers: Endgame</th>\n",
       "      <td>1</td>\n",
       "      <td>Buena Vista</td>\n",
       "      <td>$2,796.30</td>\n",
       "      <td>2019</td>\n",
       "    </tr>\n",
       "    <tr>\n",
       "      <th>Avatar</th>\n",
       "      <td>2</td>\n",
       "      <td>Fox</td>\n",
       "      <td>$2,789.70</td>\n",
       "      <td>2009</td>\n",
       "    </tr>\n",
       "    <tr>\n",
       "      <th>Titanic</th>\n",
       "      <td>3</td>\n",
       "      <td>Paramount</td>\n",
       "      <td>$2,187.50</td>\n",
       "      <td>1997</td>\n",
       "    </tr>\n",
       "    <tr>\n",
       "      <th>Star Wars: The Force Awakens</th>\n",
       "      <td>4</td>\n",
       "      <td>Buena Vista</td>\n",
       "      <td>$2,068.20</td>\n",
       "      <td>2015</td>\n",
       "    </tr>\n",
       "    <tr>\n",
       "      <th>Avengers: Infinity War</th>\n",
       "      <td>5</td>\n",
       "      <td>Buena Vista</td>\n",
       "      <td>$2,048.40</td>\n",
       "      <td>2018</td>\n",
       "    </tr>\n",
       "    <tr>\n",
       "      <th>...</th>\n",
       "      <td>...</td>\n",
       "      <td>...</td>\n",
       "      <td>...</td>\n",
       "      <td>...</td>\n",
       "    </tr>\n",
       "    <tr>\n",
       "      <th>Yogi Bear</th>\n",
       "      <td>778</td>\n",
       "      <td>Warner Brothers</td>\n",
       "      <td>$201.60</td>\n",
       "      <td>2010</td>\n",
       "    </tr>\n",
       "    <tr>\n",
       "      <th>Garfield: The Movie</th>\n",
       "      <td>779</td>\n",
       "      <td>Fox</td>\n",
       "      <td>$200.80</td>\n",
       "      <td>2004</td>\n",
       "    </tr>\n",
       "    <tr>\n",
       "      <th>Cats &amp; Dogs</th>\n",
       "      <td>780</td>\n",
       "      <td>Warner Brothers</td>\n",
       "      <td>$200.70</td>\n",
       "      <td>2001</td>\n",
       "    </tr>\n",
       "    <tr>\n",
       "      <th>The Hunt for Red October</th>\n",
       "      <td>781</td>\n",
       "      <td>Paramount</td>\n",
       "      <td>$200.50</td>\n",
       "      <td>1990</td>\n",
       "    </tr>\n",
       "    <tr>\n",
       "      <th>Valkyrie</th>\n",
       "      <td>782</td>\n",
       "      <td>MGM</td>\n",
       "      <td>$200.30</td>\n",
       "      <td>2008</td>\n",
       "    </tr>\n",
       "  </tbody>\n",
       "</table>\n",
       "<p>782 rows × 4 columns</p>\n",
       "</div>"
      ]
     },
     "execution_count": 10,
     "metadata": {},
     "output_type": "execute_result"
    }
   ],
   "execution_count": 10
  },
  {
   "metadata": {},
   "cell_type": "markdown",
   "source": "We can look for a number of rows from the beginning of the DF",
   "id": "5fa238782d524421"
  },
  {
   "metadata": {
    "ExecuteTime": {
     "end_time": "2024-06-18T17:10:04.233707Z",
     "start_time": "2024-06-18T17:10:04.218308Z"
    }
   },
   "cell_type": "code",
   "source": "movies.head()",
   "id": "7df9f1e6d7e915a5",
   "outputs": [
    {
     "data": {
      "text/plain": [
       "                              Rank       Studio       Gross  Year\n",
       "Title                                                            \n",
       "Avengers: Endgame                1  Buena Vista  $2,796.30   2019\n",
       "Avatar                           2          Fox  $2,789.70   2009\n",
       "Titanic                          3    Paramount  $2,187.50   1997\n",
       "Star Wars: The Force Awakens     4  Buena Vista  $2,068.20   2015\n",
       "Avengers: Infinity War           5  Buena Vista  $2,048.40   2018"
      ],
      "text/html": [
       "<div>\n",
       "<style scoped>\n",
       "    .dataframe tbody tr th:only-of-type {\n",
       "        vertical-align: middle;\n",
       "    }\n",
       "\n",
       "    .dataframe tbody tr th {\n",
       "        vertical-align: top;\n",
       "    }\n",
       "\n",
       "    .dataframe thead th {\n",
       "        text-align: right;\n",
       "    }\n",
       "</style>\n",
       "<table border=\"1\" class=\"dataframe\">\n",
       "  <thead>\n",
       "    <tr style=\"text-align: right;\">\n",
       "      <th></th>\n",
       "      <th>Rank</th>\n",
       "      <th>Studio</th>\n",
       "      <th>Gross</th>\n",
       "      <th>Year</th>\n",
       "    </tr>\n",
       "    <tr>\n",
       "      <th>Title</th>\n",
       "      <th></th>\n",
       "      <th></th>\n",
       "      <th></th>\n",
       "      <th></th>\n",
       "    </tr>\n",
       "  </thead>\n",
       "  <tbody>\n",
       "    <tr>\n",
       "      <th>Avengers: Endgame</th>\n",
       "      <td>1</td>\n",
       "      <td>Buena Vista</td>\n",
       "      <td>$2,796.30</td>\n",
       "      <td>2019</td>\n",
       "    </tr>\n",
       "    <tr>\n",
       "      <th>Avatar</th>\n",
       "      <td>2</td>\n",
       "      <td>Fox</td>\n",
       "      <td>$2,789.70</td>\n",
       "      <td>2009</td>\n",
       "    </tr>\n",
       "    <tr>\n",
       "      <th>Titanic</th>\n",
       "      <td>3</td>\n",
       "      <td>Paramount</td>\n",
       "      <td>$2,187.50</td>\n",
       "      <td>1997</td>\n",
       "    </tr>\n",
       "    <tr>\n",
       "      <th>Star Wars: The Force Awakens</th>\n",
       "      <td>4</td>\n",
       "      <td>Buena Vista</td>\n",
       "      <td>$2,068.20</td>\n",
       "      <td>2015</td>\n",
       "    </tr>\n",
       "    <tr>\n",
       "      <th>Avengers: Infinity War</th>\n",
       "      <td>5</td>\n",
       "      <td>Buena Vista</td>\n",
       "      <td>$2,048.40</td>\n",
       "      <td>2018</td>\n",
       "    </tr>\n",
       "  </tbody>\n",
       "</table>\n",
       "</div>"
      ]
     },
     "execution_count": 17,
     "metadata": {},
     "output_type": "execute_result"
    }
   ],
   "execution_count": 17
  },
  {
   "metadata": {},
   "cell_type": "markdown",
   "source": "Or from the end",
   "id": "5c0b4400ce5504c"
  },
  {
   "metadata": {
    "ExecuteTime": {
     "end_time": "2024-06-18T17:20:04.701117Z",
     "start_time": "2024-06-18T17:20:04.670720Z"
    }
   },
   "cell_type": "code",
   "source": "movies.tail()",
   "id": "f8f9089bbbd210f0",
   "outputs": [
    {
     "data": {
      "text/plain": [
       "                          Rank           Studio     Gross  Year\n",
       "Title                                                          \n",
       "Yogi Bear                  778  Warner Brothers  $201.60   2010\n",
       "Garfield: The Movie        779              Fox  $200.80   2004\n",
       "Cats & Dogs                780  Warner Brothers  $200.70   2001\n",
       "The Hunt for Red October   781        Paramount  $200.50   1990\n",
       "Valkyrie                   782              MGM  $200.30   2008"
      ],
      "text/html": [
       "<div>\n",
       "<style scoped>\n",
       "    .dataframe tbody tr th:only-of-type {\n",
       "        vertical-align: middle;\n",
       "    }\n",
       "\n",
       "    .dataframe tbody tr th {\n",
       "        vertical-align: top;\n",
       "    }\n",
       "\n",
       "    .dataframe thead th {\n",
       "        text-align: right;\n",
       "    }\n",
       "</style>\n",
       "<table border=\"1\" class=\"dataframe\">\n",
       "  <thead>\n",
       "    <tr style=\"text-align: right;\">\n",
       "      <th></th>\n",
       "      <th>Rank</th>\n",
       "      <th>Studio</th>\n",
       "      <th>Gross</th>\n",
       "      <th>Year</th>\n",
       "    </tr>\n",
       "    <tr>\n",
       "      <th>Title</th>\n",
       "      <th></th>\n",
       "      <th></th>\n",
       "      <th></th>\n",
       "      <th></th>\n",
       "    </tr>\n",
       "  </thead>\n",
       "  <tbody>\n",
       "    <tr>\n",
       "      <th>Yogi Bear</th>\n",
       "      <td>778</td>\n",
       "      <td>Warner Brothers</td>\n",
       "      <td>$201.60</td>\n",
       "      <td>2010</td>\n",
       "    </tr>\n",
       "    <tr>\n",
       "      <th>Garfield: The Movie</th>\n",
       "      <td>779</td>\n",
       "      <td>Fox</td>\n",
       "      <td>$200.80</td>\n",
       "      <td>2004</td>\n",
       "    </tr>\n",
       "    <tr>\n",
       "      <th>Cats &amp; Dogs</th>\n",
       "      <td>780</td>\n",
       "      <td>Warner Brothers</td>\n",
       "      <td>$200.70</td>\n",
       "      <td>2001</td>\n",
       "    </tr>\n",
       "    <tr>\n",
       "      <th>The Hunt for Red October</th>\n",
       "      <td>781</td>\n",
       "      <td>Paramount</td>\n",
       "      <td>$200.50</td>\n",
       "      <td>1990</td>\n",
       "    </tr>\n",
       "    <tr>\n",
       "      <th>Valkyrie</th>\n",
       "      <td>782</td>\n",
       "      <td>MGM</td>\n",
       "      <td>$200.30</td>\n",
       "      <td>2008</td>\n",
       "    </tr>\n",
       "  </tbody>\n",
       "</table>\n",
       "</div>"
      ]
     },
     "execution_count": 18,
     "metadata": {},
     "output_type": "execute_result"
    }
   ],
   "execution_count": 18
  },
  {
   "metadata": {},
   "cell_type": "markdown",
   "source": "to find out **how many rows** our dataframe has just with the len built in function",
   "id": "d97a4ccc76ad242"
  },
  {
   "metadata": {
    "ExecuteTime": {
     "end_time": "2024-06-18T17:38:02.914944Z",
     "start_time": "2024-06-18T17:38:02.907523Z"
    }
   },
   "cell_type": "code",
   "source": "len(movies)",
   "id": "612e832616051588",
   "outputs": [
    {
     "data": {
      "text/plain": [
       "782"
      ]
     },
     "execution_count": 23,
     "metadata": {},
     "output_type": "execute_result"
    }
   ],
   "execution_count": 23
  },
  {
   "metadata": {},
   "cell_type": "markdown",
   "source": "**Number of rows and columns in the DF**",
   "id": "4d2caf1f74b81f43"
  },
  {
   "metadata": {
    "ExecuteTime": {
     "end_time": "2024-06-18T17:40:49.546700Z",
     "start_time": "2024-06-18T17:40:49.537613Z"
    }
   },
   "cell_type": "code",
   "source": "movies.shape",
   "id": "1bad83841379795a",
   "outputs": [
    {
     "data": {
      "text/plain": [
       "(782, 4)"
      ]
     },
     "execution_count": 24,
     "metadata": {},
     "output_type": "execute_result"
    }
   ],
   "execution_count": 24
  },
  {
   "metadata": {},
   "cell_type": "markdown",
   "source": "**How many cells?**",
   "id": "aee66c94ff023843"
  },
  {
   "metadata": {
    "ExecuteTime": {
     "end_time": "2024-06-18T17:44:24.007762Z",
     "start_time": "2024-06-18T17:44:24.001397Z"
    }
   },
   "cell_type": "code",
   "source": "movies.size",
   "id": "622ea4328c547383",
   "outputs": [
    {
     "data": {
      "text/plain": [
       "3128"
      ]
     },
     "execution_count": 26,
     "metadata": {},
     "output_type": "execute_result"
    }
   ],
   "execution_count": 26
  },
  {
   "metadata": {},
   "cell_type": "markdown",
   "source": "**Knowing the Data types of each column",
   "id": "d200c8e75b0c7fb1"
  },
  {
   "metadata": {
    "ExecuteTime": {
     "end_time": "2024-06-18T17:46:52.796060Z",
     "start_time": "2024-06-18T17:46:52.787666Z"
    }
   },
   "cell_type": "code",
   "source": "movies.dtypes",
   "id": "b9f0b01b8382b298",
   "outputs": [
    {
     "data": {
      "text/plain": [
       "Rank       int64\n",
       "Studio    object\n",
       "Gross     object\n",
       "Year       int64\n",
       "dtype: object"
      ]
     },
     "execution_count": 29,
     "metadata": {},
     "output_type": "execute_result"
    }
   ],
   "execution_count": 29
  },
  {
   "metadata": {},
   "cell_type": "markdown",
   "source": "Extracting rows from a dataframe",
   "id": "7ebd88be6cb05638"
  },
  {
   "metadata": {
    "ExecuteTime": {
     "end_time": "2024-06-18T17:52:21.358818Z",
     "start_time": "2024-06-18T17:52:21.345609Z"
    }
   },
   "cell_type": "code",
   "source": "movies.iloc[0]",
   "id": "eab353ef758007bc",
   "outputs": [
    {
     "data": {
      "text/plain": [
       "Rank                1\n",
       "Studio    Buena Vista\n",
       "Gross      $2,796.30 \n",
       "Year             2019\n",
       "Name: Avengers: Endgame, dtype: object"
      ]
     },
     "execution_count": 31,
     "metadata": {},
     "output_type": "execute_result"
    }
   ],
   "execution_count": 31
  },
  {
   "metadata": {},
   "cell_type": "markdown",
   "source": "We can access also with the index label with the following syntax: `df.loc['index_value']`",
   "id": "d212890500efe3eb"
  },
  {
   "metadata": {
    "ExecuteTime": {
     "end_time": "2024-06-18T18:21:59.564314Z",
     "start_time": "2024-06-18T18:21:59.555360Z"
    }
   },
   "cell_type": "code",
   "source": "movies.loc['Avengers: Endgame']",
   "id": "3990f1df6ebefb6e",
   "outputs": [
    {
     "data": {
      "text/plain": [
       "Rank                1\n",
       "Studio    Buena Vista\n",
       "Gross      $2,796.30 \n",
       "Year             2019\n",
       "Name: Avengers: Endgame, dtype: object"
      ]
     },
     "execution_count": 34,
     "metadata": {},
     "output_type": "execute_result"
    }
   ],
   "execution_count": 34
  },
  {
   "metadata": {
    "ExecuteTime": {
     "end_time": "2024-06-18T18:22:57.202993Z",
     "start_time": "2024-06-18T18:22:57.192903Z"
    }
   },
   "cell_type": "code",
   "source": "movies.loc['Forrest Gump']",
   "id": "fe4991c596d36102",
   "outputs": [
    {
     "data": {
      "text/plain": [
       "Rank            119\n",
       "Studio    Paramount\n",
       "Gross      $677.90 \n",
       "Year           1994\n",
       "Name: Forrest Gump, dtype: object"
      ]
     },
     "execution_count": 37,
     "metadata": {},
     "output_type": "execute_result"
    }
   ],
   "execution_count": 37
  },
  {
   "metadata": {},
   "cell_type": "markdown",
   "source": [
    "It's the best to have labels with one correspondence\n",
    "Here the are two record to the label 101 Dalmatians"
   ],
   "id": "c2e4d193ab042dbf"
  },
  {
   "metadata": {
    "ExecuteTime": {
     "end_time": "2024-06-18T18:24:04.032614Z",
     "start_time": "2024-06-18T18:24:04.014619Z"
    }
   },
   "cell_type": "code",
   "source": "movies.loc['101 Dalmatians']",
   "id": "af03f633ed3067b6",
   "outputs": [
    {
     "data": {
      "text/plain": [
       "                Rank       Studio     Gross  Year\n",
       "Title                                            \n",
       "101 Dalmatians   425  Buena Vista  $320.70   1996\n",
       "101 Dalmatians   708  Buena Vista  $215.90   1961"
      ],
      "text/html": [
       "<div>\n",
       "<style scoped>\n",
       "    .dataframe tbody tr th:only-of-type {\n",
       "        vertical-align: middle;\n",
       "    }\n",
       "\n",
       "    .dataframe tbody tr th {\n",
       "        vertical-align: top;\n",
       "    }\n",
       "\n",
       "    .dataframe thead th {\n",
       "        text-align: right;\n",
       "    }\n",
       "</style>\n",
       "<table border=\"1\" class=\"dataframe\">\n",
       "  <thead>\n",
       "    <tr style=\"text-align: right;\">\n",
       "      <th></th>\n",
       "      <th>Rank</th>\n",
       "      <th>Studio</th>\n",
       "      <th>Gross</th>\n",
       "      <th>Year</th>\n",
       "    </tr>\n",
       "    <tr>\n",
       "      <th>Title</th>\n",
       "      <th></th>\n",
       "      <th></th>\n",
       "      <th></th>\n",
       "      <th></th>\n",
       "    </tr>\n",
       "  </thead>\n",
       "  <tbody>\n",
       "    <tr>\n",
       "      <th>101 Dalmatians</th>\n",
       "      <td>425</td>\n",
       "      <td>Buena Vista</td>\n",
       "      <td>$320.70</td>\n",
       "      <td>1996</td>\n",
       "    </tr>\n",
       "    <tr>\n",
       "      <th>101 Dalmatians</th>\n",
       "      <td>708</td>\n",
       "      <td>Buena Vista</td>\n",
       "      <td>$215.90</td>\n",
       "      <td>1961</td>\n",
       "    </tr>\n",
       "  </tbody>\n",
       "</table>\n",
       "</div>"
      ]
     },
     "execution_count": 38,
     "metadata": {},
     "output_type": "execute_result"
    }
   ],
   "execution_count": 38
  },
  {
   "metadata": {},
   "cell_type": "markdown",
   "source": [
    "# An introduction to sort data\n",
    "\n",
    "What if we are interested in the five movies with the most recent release date?"
   ],
   "id": "69fda30e6f6a1761"
  },
  {
   "metadata": {},
   "cell_type": "markdown",
   "source": [
    "> inplace\n",
    ": This parameter takes a `True` or a `False` to make the modification in the original object (if true) and returning None or if False, return a copy with the modifications"
   ],
   "id": "cfab94f9025e75c0"
  },
  {
   "metadata": {
    "ExecuteTime": {
     "end_time": "2024-06-18T18:44:31.616954Z",
     "start_time": "2024-06-18T18:44:31.603361Z"
    }
   },
   "cell_type": "code",
   "source": [
    "# Getting the five latest movies\n",
    "\n",
    "movies.sort_values(by='Year', ascending=False).head()  # ascending is True by default"
   ],
   "id": "e50df263e7b70567",
   "outputs": [
    {
     "data": {
      "text/plain": [
       "                                            Rank                  Studio  \\\n",
       "Title                                                                      \n",
       "Avengers: Endgame                              1             Buena Vista   \n",
       "John Wick: Chapter 3 - Parabellum            458               Lionsgate   \n",
       "The Wandering Earth                          114  China Film Corporation   \n",
       "Toy Story 4                                  198             Buena Vista   \n",
       "How to Train Your Dragon: The Hidden World   199               Universal   \n",
       "\n",
       "                                                 Gross  Year  \n",
       "Title                                                         \n",
       "Avengers: Endgame                           $2,796.30   2019  \n",
       "John Wick: Chapter 3 - Parabellum             $304.70   2019  \n",
       "The Wandering Earth                           $699.80   2019  \n",
       "Toy Story 4                                   $519.80   2019  \n",
       "How to Train Your Dragon: The Hidden World    $519.80   2019  "
      ],
      "text/html": [
       "<div>\n",
       "<style scoped>\n",
       "    .dataframe tbody tr th:only-of-type {\n",
       "        vertical-align: middle;\n",
       "    }\n",
       "\n",
       "    .dataframe tbody tr th {\n",
       "        vertical-align: top;\n",
       "    }\n",
       "\n",
       "    .dataframe thead th {\n",
       "        text-align: right;\n",
       "    }\n",
       "</style>\n",
       "<table border=\"1\" class=\"dataframe\">\n",
       "  <thead>\n",
       "    <tr style=\"text-align: right;\">\n",
       "      <th></th>\n",
       "      <th>Rank</th>\n",
       "      <th>Studio</th>\n",
       "      <th>Gross</th>\n",
       "      <th>Year</th>\n",
       "    </tr>\n",
       "    <tr>\n",
       "      <th>Title</th>\n",
       "      <th></th>\n",
       "      <th></th>\n",
       "      <th></th>\n",
       "      <th></th>\n",
       "    </tr>\n",
       "  </thead>\n",
       "  <tbody>\n",
       "    <tr>\n",
       "      <th>Avengers: Endgame</th>\n",
       "      <td>1</td>\n",
       "      <td>Buena Vista</td>\n",
       "      <td>$2,796.30</td>\n",
       "      <td>2019</td>\n",
       "    </tr>\n",
       "    <tr>\n",
       "      <th>John Wick: Chapter 3 - Parabellum</th>\n",
       "      <td>458</td>\n",
       "      <td>Lionsgate</td>\n",
       "      <td>$304.70</td>\n",
       "      <td>2019</td>\n",
       "    </tr>\n",
       "    <tr>\n",
       "      <th>The Wandering Earth</th>\n",
       "      <td>114</td>\n",
       "      <td>China Film Corporation</td>\n",
       "      <td>$699.80</td>\n",
       "      <td>2019</td>\n",
       "    </tr>\n",
       "    <tr>\n",
       "      <th>Toy Story 4</th>\n",
       "      <td>198</td>\n",
       "      <td>Buena Vista</td>\n",
       "      <td>$519.80</td>\n",
       "      <td>2019</td>\n",
       "    </tr>\n",
       "    <tr>\n",
       "      <th>How to Train Your Dragon: The Hidden World</th>\n",
       "      <td>199</td>\n",
       "      <td>Universal</td>\n",
       "      <td>$519.80</td>\n",
       "      <td>2019</td>\n",
       "    </tr>\n",
       "  </tbody>\n",
       "</table>\n",
       "</div>"
      ]
     },
     "execution_count": 41,
     "metadata": {},
     "output_type": "execute_result"
    }
   ],
   "execution_count": 41
  },
  {
   "metadata": {},
   "cell_type": "markdown",
   "source": "We can also sort the DF across multiple columns",
   "id": "8ca392580ec10cb0"
  },
  {
   "metadata": {
    "ExecuteTime": {
     "end_time": "2024-06-18T18:54:51.668706Z",
     "start_time": "2024-06-18T18:54:51.656010Z"
    }
   },
   "cell_type": "code",
   "source": [
    "# Order alphabetically by studio and by year.\n",
    "# In this case, the sort is ascending is True for the two columns\n",
    "movies.sort_values(by=['Studio', 'Year']).head()"
   ],
   "id": "584584f9565d8de6",
   "outputs": [
    {
     "data": {
      "text/plain": [
       "                         Rank       Studio     Gross  Year\n",
       "Title                                                     \n",
       "The Blair Witch Project   588      Artisan  $248.60   1999\n",
       "101 Dalmatians            708  Buena Vista  $215.90   1961\n",
       "The Jungle Book           755  Buena Vista  $205.80   1967\n",
       "Who Framed Roger Rabbit   410  Buena Vista  $329.80   1988\n",
       "Dead Poets Society        636  Buena Vista  $235.90   1989"
      ],
      "text/html": [
       "<div>\n",
       "<style scoped>\n",
       "    .dataframe tbody tr th:only-of-type {\n",
       "        vertical-align: middle;\n",
       "    }\n",
       "\n",
       "    .dataframe tbody tr th {\n",
       "        vertical-align: top;\n",
       "    }\n",
       "\n",
       "    .dataframe thead th {\n",
       "        text-align: right;\n",
       "    }\n",
       "</style>\n",
       "<table border=\"1\" class=\"dataframe\">\n",
       "  <thead>\n",
       "    <tr style=\"text-align: right;\">\n",
       "      <th></th>\n",
       "      <th>Rank</th>\n",
       "      <th>Studio</th>\n",
       "      <th>Gross</th>\n",
       "      <th>Year</th>\n",
       "    </tr>\n",
       "    <tr>\n",
       "      <th>Title</th>\n",
       "      <th></th>\n",
       "      <th></th>\n",
       "      <th></th>\n",
       "      <th></th>\n",
       "    </tr>\n",
       "  </thead>\n",
       "  <tbody>\n",
       "    <tr>\n",
       "      <th>The Blair Witch Project</th>\n",
       "      <td>588</td>\n",
       "      <td>Artisan</td>\n",
       "      <td>$248.60</td>\n",
       "      <td>1999</td>\n",
       "    </tr>\n",
       "    <tr>\n",
       "      <th>101 Dalmatians</th>\n",
       "      <td>708</td>\n",
       "      <td>Buena Vista</td>\n",
       "      <td>$215.90</td>\n",
       "      <td>1961</td>\n",
       "    </tr>\n",
       "    <tr>\n",
       "      <th>The Jungle Book</th>\n",
       "      <td>755</td>\n",
       "      <td>Buena Vista</td>\n",
       "      <td>$205.80</td>\n",
       "      <td>1967</td>\n",
       "    </tr>\n",
       "    <tr>\n",
       "      <th>Who Framed Roger Rabbit</th>\n",
       "      <td>410</td>\n",
       "      <td>Buena Vista</td>\n",
       "      <td>$329.80</td>\n",
       "      <td>1988</td>\n",
       "    </tr>\n",
       "    <tr>\n",
       "      <th>Dead Poets Society</th>\n",
       "      <td>636</td>\n",
       "      <td>Buena Vista</td>\n",
       "      <td>$235.90</td>\n",
       "      <td>1989</td>\n",
       "    </tr>\n",
       "  </tbody>\n",
       "</table>\n",
       "</div>"
      ]
     },
     "execution_count": 45,
     "metadata": {},
     "output_type": "execute_result"
    }
   ],
   "execution_count": 45
  },
  {
   "metadata": {
    "ExecuteTime": {
     "end_time": "2024-06-18T18:54:55.426305Z",
     "start_time": "2024-06-18T18:54:55.408529Z"
    }
   },
   "cell_type": "code",
   "source": [
    "# Specifying for each columns what order\n",
    "\n",
    "movies.sort_values(by=['Studio', 'Year'], ascending=[True, False]).head()"
   ],
   "id": "2094a841226cda4",
   "outputs": [
    {
     "data": {
      "text/plain": [
       "                         Rank       Studio       Gross  Year\n",
       "Title                                                       \n",
       "The Blair Witch Project   588      Artisan    $248.60   1999\n",
       "Avengers: Endgame           1  Buena Vista  $2,796.30   2019\n",
       "Captain Marvel             22  Buena Vista  $1,128.30   2019\n",
       "Aladdin                    59  Buena Vista    $880.20   2019\n",
       "Toy Story 4               198  Buena Vista    $519.80   2019"
      ],
      "text/html": [
       "<div>\n",
       "<style scoped>\n",
       "    .dataframe tbody tr th:only-of-type {\n",
       "        vertical-align: middle;\n",
       "    }\n",
       "\n",
       "    .dataframe tbody tr th {\n",
       "        vertical-align: top;\n",
       "    }\n",
       "\n",
       "    .dataframe thead th {\n",
       "        text-align: right;\n",
       "    }\n",
       "</style>\n",
       "<table border=\"1\" class=\"dataframe\">\n",
       "  <thead>\n",
       "    <tr style=\"text-align: right;\">\n",
       "      <th></th>\n",
       "      <th>Rank</th>\n",
       "      <th>Studio</th>\n",
       "      <th>Gross</th>\n",
       "      <th>Year</th>\n",
       "    </tr>\n",
       "    <tr>\n",
       "      <th>Title</th>\n",
       "      <th></th>\n",
       "      <th></th>\n",
       "      <th></th>\n",
       "      <th></th>\n",
       "    </tr>\n",
       "  </thead>\n",
       "  <tbody>\n",
       "    <tr>\n",
       "      <th>The Blair Witch Project</th>\n",
       "      <td>588</td>\n",
       "      <td>Artisan</td>\n",
       "      <td>$248.60</td>\n",
       "      <td>1999</td>\n",
       "    </tr>\n",
       "    <tr>\n",
       "      <th>Avengers: Endgame</th>\n",
       "      <td>1</td>\n",
       "      <td>Buena Vista</td>\n",
       "      <td>$2,796.30</td>\n",
       "      <td>2019</td>\n",
       "    </tr>\n",
       "    <tr>\n",
       "      <th>Captain Marvel</th>\n",
       "      <td>22</td>\n",
       "      <td>Buena Vista</td>\n",
       "      <td>$1,128.30</td>\n",
       "      <td>2019</td>\n",
       "    </tr>\n",
       "    <tr>\n",
       "      <th>Aladdin</th>\n",
       "      <td>59</td>\n",
       "      <td>Buena Vista</td>\n",
       "      <td>$880.20</td>\n",
       "      <td>2019</td>\n",
       "    </tr>\n",
       "    <tr>\n",
       "      <th>Toy Story 4</th>\n",
       "      <td>198</td>\n",
       "      <td>Buena Vista</td>\n",
       "      <td>$519.80</td>\n",
       "      <td>2019</td>\n",
       "    </tr>\n",
       "  </tbody>\n",
       "</table>\n",
       "</div>"
      ]
     },
     "execution_count": 46,
     "metadata": {},
     "output_type": "execute_result"
    }
   ],
   "execution_count": 46
  },
  {
   "metadata": {},
   "cell_type": "markdown",
   "source": "We also can sort the index",
   "id": "891624b02c0ffedf"
  },
  {
   "metadata": {
    "ExecuteTime": {
     "end_time": "2024-06-18T18:59:57.851525Z",
     "start_time": "2024-06-18T18:59:57.838989Z"
    }
   },
   "cell_type": "code",
   "source": [
    "# in this case I set as index the Title column\n",
    "\n",
    "movies.sort_index().head()"
   ],
   "id": "bad76fb02978175",
   "outputs": [
    {
     "data": {
      "text/plain": [
       "                  Rank           Studio     Gross  Year\n",
       "Title                                                  \n",
       "10,000 B.C.        536  Warner Brothers  $269.80   2008\n",
       "101 Dalmatians     708      Buena Vista  $215.90   1961\n",
       "101 Dalmatians     425      Buena Vista  $320.70   1996\n",
       "2 Fast 2 Furious   632        Universal  $236.40   2003\n",
       "2012                93             Sony  $769.70   2009"
      ],
      "text/html": [
       "<div>\n",
       "<style scoped>\n",
       "    .dataframe tbody tr th:only-of-type {\n",
       "        vertical-align: middle;\n",
       "    }\n",
       "\n",
       "    .dataframe tbody tr th {\n",
       "        vertical-align: top;\n",
       "    }\n",
       "\n",
       "    .dataframe thead th {\n",
       "        text-align: right;\n",
       "    }\n",
       "</style>\n",
       "<table border=\"1\" class=\"dataframe\">\n",
       "  <thead>\n",
       "    <tr style=\"text-align: right;\">\n",
       "      <th></th>\n",
       "      <th>Rank</th>\n",
       "      <th>Studio</th>\n",
       "      <th>Gross</th>\n",
       "      <th>Year</th>\n",
       "    </tr>\n",
       "    <tr>\n",
       "      <th>Title</th>\n",
       "      <th></th>\n",
       "      <th></th>\n",
       "      <th></th>\n",
       "      <th></th>\n",
       "    </tr>\n",
       "  </thead>\n",
       "  <tbody>\n",
       "    <tr>\n",
       "      <th>10,000 B.C.</th>\n",
       "      <td>536</td>\n",
       "      <td>Warner Brothers</td>\n",
       "      <td>$269.80</td>\n",
       "      <td>2008</td>\n",
       "    </tr>\n",
       "    <tr>\n",
       "      <th>101 Dalmatians</th>\n",
       "      <td>708</td>\n",
       "      <td>Buena Vista</td>\n",
       "      <td>$215.90</td>\n",
       "      <td>1961</td>\n",
       "    </tr>\n",
       "    <tr>\n",
       "      <th>101 Dalmatians</th>\n",
       "      <td>425</td>\n",
       "      <td>Buena Vista</td>\n",
       "      <td>$320.70</td>\n",
       "      <td>1996</td>\n",
       "    </tr>\n",
       "    <tr>\n",
       "      <th>2 Fast 2 Furious</th>\n",
       "      <td>632</td>\n",
       "      <td>Universal</td>\n",
       "      <td>$236.40</td>\n",
       "      <td>2003</td>\n",
       "    </tr>\n",
       "    <tr>\n",
       "      <th>2012</th>\n",
       "      <td>93</td>\n",
       "      <td>Sony</td>\n",
       "      <td>$769.70</td>\n",
       "      <td>2009</td>\n",
       "    </tr>\n",
       "  </tbody>\n",
       "</table>\n",
       "</div>"
      ]
     },
     "execution_count": 48,
     "metadata": {},
     "output_type": "execute_result"
    }
   ],
   "execution_count": 48
  },
  {
   "metadata": {},
   "cell_type": "markdown",
   "source": [
    "I want to answer:\n",
    "\n",
    "**Which movie studio had the greatest number of highest-grossing films?**"
   ],
   "id": "522f19216a2f3e47"
  },
  {
   "metadata": {},
   "cell_type": "markdown",
   "source": "Notice that `df['<name>']` return a Series with the index and the column of interest",
   "id": "4dd7221f7374a50d"
  },
  {
   "metadata": {
    "ExecuteTime": {
     "end_time": "2024-06-18T19:11:06.189751Z",
     "start_time": "2024-06-18T19:11:06.181220Z"
    }
   },
   "cell_type": "code",
   "source": [
    "# I need to count the number of times each studio appears in the Studio column\n",
    "\n",
    "# Extracting one column\n",
    "movies['Studio']"
   ],
   "id": "9cc0510eeeb6baa1",
   "outputs": [
    {
     "data": {
      "text/plain": [
       "Title\n",
       "Avengers: Endgame                   Buena Vista\n",
       "Avatar                                      Fox\n",
       "Titanic                               Paramount\n",
       "Star Wars: The Force Awakens        Buena Vista\n",
       "Avengers: Infinity War              Buena Vista\n",
       "                                     ...       \n",
       "Yogi Bear                       Warner Brothers\n",
       "Garfield: The Movie                         Fox\n",
       "Cats & Dogs                     Warner Brothers\n",
       "The Hunt for Red October              Paramount\n",
       "Valkyrie                                    MGM\n",
       "Name: Studio, Length: 782, dtype: object"
      ]
     },
     "execution_count": 52,
     "metadata": {},
     "output_type": "execute_result"
    }
   ],
   "execution_count": 52
  },
  {
   "metadata": {},
   "cell_type": "markdown",
   "source": "Now counting the number of occurrences of each studio",
   "id": "5df779a4a8f3ca84"
  },
  {
   "metadata": {
    "ExecuteTime": {
     "end_time": "2024-06-18T19:11:53.059367Z",
     "start_time": "2024-06-18T19:11:53.051089Z"
    }
   },
   "cell_type": "code",
   "source": "movies['Studio'].value_counts()",
   "id": "43b25d742c3a80db",
   "outputs": [
    {
     "data": {
      "text/plain": [
       "Studio\n",
       "Warner Brothers           132\n",
       "Buena Vista               125\n",
       "Fox                       117\n",
       "Universal                 109\n",
       "Sony                       86\n",
       "Paramount                  76\n",
       "Dreamworks                 27\n",
       "Lionsgate                  21\n",
       "New Line                   16\n",
       "MGM                        11\n",
       "TriStar                    11\n",
       "Miramax                    10\n",
       "Weinstein                   6\n",
       "Columbia                    5\n",
       "WGUSA                       4\n",
       "Polygram                    2\n",
       "Orion                       2\n",
       "SonR                        2\n",
       "Dimension                   2\n",
       "Vestron                     1\n",
       "USA                         1\n",
       "Lions                       1\n",
       "Focus                       1\n",
       "Rela.                       1\n",
       "CL                          1\n",
       "Pathe                       1\n",
       "Artisan                     1\n",
       "IFC                         1\n",
       "GrtIndia                    1\n",
       "RKO                         1\n",
       "UTV                         1\n",
       "FUN                         1\n",
       "FR                          1\n",
       "Newmarket                   1\n",
       "China Film Corporation      1\n",
       "HC                          1\n",
       "Magn.                       1\n",
       "Name: count, dtype: int64"
      ]
     },
     "execution_count": 53,
     "metadata": {},
     "output_type": "execute_result"
    }
   ],
   "execution_count": 53
  },
  {
   "metadata": {},
   "cell_type": "markdown",
   "source": [
    "Another way to count the occurrences\n",
    "\n",
    "It is important to notice that this returns a Series object, So we have the index column now as Studio and the values the count column\n",
    "\n",
    "**Hence we just have the Series's values (count) and its labels (Studio)**"
   ],
   "id": "69ad8f1901352a9f"
  },
  {
   "metadata": {
    "ExecuteTime": {
     "end_time": "2024-06-18T19:14:00.851829Z",
     "start_time": "2024-06-18T19:14:00.842806Z"
    }
   },
   "cell_type": "code",
   "source": "movies.value_counts('Studio')",
   "id": "db5c51a888ab67ff",
   "outputs": [
    {
     "data": {
      "text/plain": [
       "Studio\n",
       "Warner Brothers           132\n",
       "Buena Vista               125\n",
       "Fox                       117\n",
       "Universal                 109\n",
       "Sony                       86\n",
       "Paramount                  76\n",
       "Dreamworks                 27\n",
       "Lionsgate                  21\n",
       "New Line                   16\n",
       "TriStar                    11\n",
       "MGM                        11\n",
       "Miramax                    10\n",
       "Weinstein                   6\n",
       "Columbia                    5\n",
       "WGUSA                       4\n",
       "Orion                       2\n",
       "Dimension                   2\n",
       "Polygram                    2\n",
       "SonR                        2\n",
       "IFC                         1\n",
       "Rela.                       1\n",
       "CL                          1\n",
       "Vestron                     1\n",
       "China Film Corporation      1\n",
       "UTV                         1\n",
       "USA                         1\n",
       "RKO                         1\n",
       "Lions                       1\n",
       "Pathe                       1\n",
       "FR                          1\n",
       "Newmarket                   1\n",
       "FUN                         1\n",
       "Focus                       1\n",
       "Magn.                       1\n",
       "GrtIndia                    1\n",
       "HC                          1\n",
       "Artisan                     1\n",
       "Name: count, dtype: int64"
      ]
     },
     "execution_count": 57,
     "metadata": {},
     "output_type": "execute_result"
    }
   ],
   "execution_count": 57
  }
 ],
 "metadata": {
  "kernelspec": {
   "display_name": "Python 3",
   "language": "python",
   "name": "python3"
  },
  "language_info": {
   "codemirror_mode": {
    "name": "ipython",
    "version": 2
   },
   "file_extension": ".py",
   "mimetype": "text/x-python",
   "name": "python",
   "nbconvert_exporter": "python",
   "pygments_lexer": "ipython2",
   "version": "2.7.6"
  }
 },
 "nbformat": 4,
 "nbformat_minor": 5
}
