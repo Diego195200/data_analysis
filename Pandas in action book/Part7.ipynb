{
 "cells": [
  {
   "cell_type": "markdown",
   "id": "69afe8fdceb2fb6",
   "metadata": {},
   "source": [
    "# MultiIndex DataFrames"
   ]
  },
  {
   "cell_type": "markdown",
   "id": "17f0b54b549e65c9",
   "metadata": {},
   "source": [
    "We need only one label or one index position to locate a value in a Series. We need two reference points to locate a value in a DataFrame: a label/index for the rows and a label/index for the columns. Can we expand beyond two dimensions? Absolutely! Pandas supports data sets with any number of dimensions through the use of a MultiIndex.\n",
    "\n",
    "A multiIndex object is an index object that holds multiple levels\n",
    "\n",
    "Each level stores a value for the row\n",
    "\n",
    "A MultiIndex is also ideal for hierarchical data: data in which one column’s values are a subcategory of another column’s values."
   ]
  },
  {
   "cell_type": "code",
   "id": "initial_id",
   "metadata": {
    "ExecuteTime": {
     "end_time": "2024-07-03T14:48:21.712376Z",
     "start_time": "2024-07-03T14:48:21.707571Z"
    }
   },
   "source": [
    "import pandas as pd\n",
    "import numpy as np"
   ],
   "outputs": [],
   "execution_count": 13
  },
  {
   "cell_type": "markdown",
   "id": "e57740f36ed4045d",
   "metadata": {},
   "source": [
    "Let's create a MultiIndex from scratch"
   ]
  },
  {
   "cell_type": "code",
   "id": "94fc7de7aa82c7c9",
   "metadata": {
    "ExecuteTime": {
     "end_time": "2024-07-03T14:48:21.978806Z",
     "start_time": "2024-07-03T14:48:21.970541Z"
    }
   },
   "source": [
    "addresses = [\n",
    "    ('8809 Flair Square', 'Toddside', 'IL', '37206'),\n",
    "    ('9901 Austin Street', 'Toddside', 'IL', '37206'),\n",
    "    ('905 Hogan Quarter', 'Franklin', 'IL', '37206')\n",
    "             ]\n",
    "addresses"
   ],
   "outputs": [
    {
     "data": {
      "text/plain": [
       "[('8809 Flair Square', 'Toddside', 'IL', '37206'),\n",
       " ('9901 Austin Street', 'Toddside', 'IL', '37206'),\n",
       " ('905 Hogan Quarter', 'Franklin', 'IL', '37206')]"
      ]
     },
     "execution_count": 14,
     "metadata": {},
     "output_type": "execute_result"
    }
   ],
   "execution_count": 14
  },
  {
   "cell_type": "code",
   "id": "44ed63af27dd1465",
   "metadata": {
    "ExecuteTime": {
     "end_time": "2024-07-03T14:48:22.040266Z",
     "start_time": "2024-07-03T14:48:22.030792Z"
    }
   },
   "source": [
    "pd.MultiIndex.from_tuples(addresses)"
   ],
   "outputs": [
    {
     "data": {
      "text/plain": [
       "MultiIndex([( '8809 Flair Square', 'Toddside', 'IL', '37206'),\n",
       "            ('9901 Austin Street', 'Toddside', 'IL', '37206'),\n",
       "            ( '905 Hogan Quarter', 'Franklin', 'IL', '37206')],\n",
       "           )"
      ]
     },
     "execution_count": 15,
     "metadata": {},
     "output_type": "execute_result"
    }
   ],
   "execution_count": 15
  },
  {
   "cell_type": "markdown",
   "id": "ff79b57cf7b6e8c4",
   "metadata": {},
   "source": [
    "In pandas terminology, the collection of tuple values at the same position forms a level\n",
    "of the MultiIndex."
   ]
  },
  {
   "cell_type": "markdown",
   "id": "3a119c235f37da8f",
   "metadata": {},
   "source": [
    "We can set each multiindex level a name"
   ]
  },
  {
   "cell_type": "code",
   "id": "17edd4d2f075d3a4",
   "metadata": {
    "ExecuteTime": {
     "end_time": "2024-07-03T14:48:22.199511Z",
     "start_time": "2024-07-03T14:48:22.186171Z"
    }
   },
   "source": [
    "row_index = pd.MultiIndex.from_tuples(addresses, names=['Street', 'City', 'State', 'Zip'])\n",
    "row_index"
   ],
   "outputs": [
    {
     "data": {
      "text/plain": [
       "MultiIndex([( '8809 Flair Square', 'Toddside', 'IL', '37206'),\n",
       "            ('9901 Austin Street', 'Toddside', 'IL', '37206'),\n",
       "            ( '905 Hogan Quarter', 'Franklin', 'IL', '37206')],\n",
       "           names=['Street', 'City', 'State', 'Zip'])"
      ]
     },
     "execution_count": 16,
     "metadata": {},
     "output_type": "execute_result"
    }
   ],
   "execution_count": 16
  },
  {
   "cell_type": "markdown",
   "id": "fbb25e3220481c3",
   "metadata": {},
   "source": [
    "Attaching our miltiindex to a dataframe"
   ]
  },
  {
   "cell_type": "code",
   "id": "1536de7cafb1433c",
   "metadata": {
    "ExecuteTime": {
     "end_time": "2024-07-03T14:48:22.303986Z",
     "start_time": "2024-07-03T14:48:22.214211Z"
    }
   },
   "source": [
    "data = [\n",
    "    ['A', 'B+'],\n",
    "    ['C+', 'C'],\n",
    "    ['D-', 'A']\n",
    "]\n",
    "columns = ['Schools', 'Cost Of Living']\n",
    "\n",
    "area_grades = pd.DataFrame(data, index=row_index, columns=columns)\n",
    "area_grades"
   ],
   "outputs": [
    {
     "data": {
      "text/plain": [
       "                                        Schools Cost Of Living\n",
       "Street             City     State Zip                         \n",
       "8809 Flair Square  Toddside IL    37206       A             B+\n",
       "9901 Austin Street Toddside IL    37206      C+              C\n",
       "905 Hogan Quarter  Franklin IL    37206      D-              A"
      ],
      "text/html": [
       "<div>\n",
       "<style scoped>\n",
       "    .dataframe tbody tr th:only-of-type {\n",
       "        vertical-align: middle;\n",
       "    }\n",
       "\n",
       "    .dataframe tbody tr th {\n",
       "        vertical-align: top;\n",
       "    }\n",
       "\n",
       "    .dataframe thead th {\n",
       "        text-align: right;\n",
       "    }\n",
       "</style>\n",
       "<table border=\"1\" class=\"dataframe\">\n",
       "  <thead>\n",
       "    <tr style=\"text-align: right;\">\n",
       "      <th></th>\n",
       "      <th></th>\n",
       "      <th></th>\n",
       "      <th></th>\n",
       "      <th>Schools</th>\n",
       "      <th>Cost Of Living</th>\n",
       "    </tr>\n",
       "    <tr>\n",
       "      <th>Street</th>\n",
       "      <th>City</th>\n",
       "      <th>State</th>\n",
       "      <th>Zip</th>\n",
       "      <th></th>\n",
       "      <th></th>\n",
       "    </tr>\n",
       "  </thead>\n",
       "  <tbody>\n",
       "    <tr>\n",
       "      <th>8809 Flair Square</th>\n",
       "      <th>Toddside</th>\n",
       "      <th>IL</th>\n",
       "      <th>37206</th>\n",
       "      <td>A</td>\n",
       "      <td>B+</td>\n",
       "    </tr>\n",
       "    <tr>\n",
       "      <th>9901 Austin Street</th>\n",
       "      <th>Toddside</th>\n",
       "      <th>IL</th>\n",
       "      <th>37206</th>\n",
       "      <td>C+</td>\n",
       "      <td>C</td>\n",
       "    </tr>\n",
       "    <tr>\n",
       "      <th>905 Hogan Quarter</th>\n",
       "      <th>Franklin</th>\n",
       "      <th>IL</th>\n",
       "      <th>37206</th>\n",
       "      <td>D-</td>\n",
       "      <td>A</td>\n",
       "    </tr>\n",
       "  </tbody>\n",
       "</table>\n",
       "</div>"
      ]
     },
     "execution_count": 17,
     "metadata": {},
     "output_type": "execute_result"
    }
   ],
   "execution_count": 17
  },
  {
   "cell_type": "code",
   "id": "8119e2d277355f05",
   "metadata": {
    "ExecuteTime": {
     "end_time": "2024-07-03T14:48:22.315237Z",
     "start_time": "2024-07-03T14:48:22.307151Z"
    }
   },
   "source": [
    "area_grades.columns"
   ],
   "outputs": [
    {
     "data": {
      "text/plain": [
       "Index(['Schools', 'Cost Of Living'], dtype='object')"
      ]
     },
     "execution_count": 18,
     "metadata": {},
     "output_type": "execute_result"
    }
   ],
   "execution_count": 18
  },
  {
   "cell_type": "code",
   "id": "a3afd15ee7134f9b",
   "metadata": {
    "ExecuteTime": {
     "end_time": "2024-07-03T14:48:22.367214Z",
     "start_time": "2024-07-03T14:48:22.354590Z"
    }
   },
   "source": [
    "column_index = pd.MultiIndex.from_tuples(\n",
    "    [\n",
    "        ('Culture', 'Restaurants'),\n",
    "        ('Culture', 'Museums'),\n",
    "        ('Services', 'Police'),\n",
    "        ('Services', 'School')\n",
    "    ]\n",
    ")\n",
    "column_index"
   ],
   "outputs": [
    {
     "data": {
      "text/plain": [
       "MultiIndex([( 'Culture', 'Restaurants'),\n",
       "            ( 'Culture',     'Museums'),\n",
       "            ('Services',      'Police'),\n",
       "            ('Services',      'School')],\n",
       "           )"
      ]
     },
     "execution_count": 19,
     "metadata": {},
     "output_type": "execute_result"
    }
   ],
   "execution_count": 19
  },
  {
   "cell_type": "markdown",
   "id": "e8c4e888811afc36",
   "metadata": {},
   "source": [
    "Now we need a dataframe with four columns because the column_index has 4 tuples"
   ]
  },
  {
   "cell_type": "code",
   "id": "2c9d3f6ca0ad2b51",
   "metadata": {
    "ExecuteTime": {
     "end_time": "2024-07-03T14:48:22.472719Z",
     "start_time": "2024-07-03T14:48:22.446784Z"
    }
   },
   "source": [
    "data = [\n",
    "    ['C-', 'B+', 'B-', 'A'],\n",
    "    ['D+', 'C', 'A', 'C+'],\n",
    "    ['A-', 'A', 'D+', 'F']\n",
    "]\n",
    "\n",
    "pd.DataFrame(data, row_index, column_index)"
   ],
   "outputs": [
    {
     "data": {
      "text/plain": [
       "                                            Culture         Services       \n",
       "                                        Restaurants Museums   Police School\n",
       "Street             City     State Zip                                      \n",
       "8809 Flair Square  Toddside IL    37206          C-      B+       B-      A\n",
       "9901 Austin Street Toddside IL    37206          D+       C        A     C+\n",
       "905 Hogan Quarter  Franklin IL    37206          A-       A       D+      F"
      ],
      "text/html": [
       "<div>\n",
       "<style scoped>\n",
       "    .dataframe tbody tr th:only-of-type {\n",
       "        vertical-align: middle;\n",
       "    }\n",
       "\n",
       "    .dataframe tbody tr th {\n",
       "        vertical-align: top;\n",
       "    }\n",
       "\n",
       "    .dataframe thead tr th {\n",
       "        text-align: left;\n",
       "    }\n",
       "\n",
       "    .dataframe thead tr:last-of-type th {\n",
       "        text-align: right;\n",
       "    }\n",
       "</style>\n",
       "<table border=\"1\" class=\"dataframe\">\n",
       "  <thead>\n",
       "    <tr>\n",
       "      <th></th>\n",
       "      <th></th>\n",
       "      <th></th>\n",
       "      <th></th>\n",
       "      <th colspan=\"2\" halign=\"left\">Culture</th>\n",
       "      <th colspan=\"2\" halign=\"left\">Services</th>\n",
       "    </tr>\n",
       "    <tr>\n",
       "      <th></th>\n",
       "      <th></th>\n",
       "      <th></th>\n",
       "      <th></th>\n",
       "      <th>Restaurants</th>\n",
       "      <th>Museums</th>\n",
       "      <th>Police</th>\n",
       "      <th>School</th>\n",
       "    </tr>\n",
       "    <tr>\n",
       "      <th>Street</th>\n",
       "      <th>City</th>\n",
       "      <th>State</th>\n",
       "      <th>Zip</th>\n",
       "      <th></th>\n",
       "      <th></th>\n",
       "      <th></th>\n",
       "      <th></th>\n",
       "    </tr>\n",
       "  </thead>\n",
       "  <tbody>\n",
       "    <tr>\n",
       "      <th>8809 Flair Square</th>\n",
       "      <th>Toddside</th>\n",
       "      <th>IL</th>\n",
       "      <th>37206</th>\n",
       "      <td>C-</td>\n",
       "      <td>B+</td>\n",
       "      <td>B-</td>\n",
       "      <td>A</td>\n",
       "    </tr>\n",
       "    <tr>\n",
       "      <th>9901 Austin Street</th>\n",
       "      <th>Toddside</th>\n",
       "      <th>IL</th>\n",
       "      <th>37206</th>\n",
       "      <td>D+</td>\n",
       "      <td>C</td>\n",
       "      <td>A</td>\n",
       "      <td>C+</td>\n",
       "    </tr>\n",
       "    <tr>\n",
       "      <th>905 Hogan Quarter</th>\n",
       "      <th>Franklin</th>\n",
       "      <th>IL</th>\n",
       "      <th>37206</th>\n",
       "      <td>A-</td>\n",
       "      <td>A</td>\n",
       "      <td>D+</td>\n",
       "      <td>F</td>\n",
       "    </tr>\n",
       "  </tbody>\n",
       "</table>\n",
       "</div>"
      ]
     },
     "execution_count": 20,
     "metadata": {},
     "output_type": "execute_result"
    }
   ],
   "execution_count": 20
  },
  {
   "cell_type": "markdown",
   "id": "eecaedffe283acca",
   "metadata": {},
   "source": [
    "# Working with neighbordhoods.csv"
   ]
  },
  {
   "cell_type": "code",
   "id": "c2547003aeaf21d9",
   "metadata": {
    "ExecuteTime": {
     "end_time": "2024-07-03T14:48:22.557713Z",
     "start_time": "2024-07-03T14:48:22.537885Z"
    }
   },
   "source": [
    "neighbors = pd.read_csv('/home/diego/Documents/Data/neighborhoods.csv', index_col=[0, 1, 2], header=[0, 1])"
   ],
   "outputs": [],
   "execution_count": 21
  },
  {
   "cell_type": "code",
   "id": "d36e6bebdd4f4de0",
   "metadata": {
    "ExecuteTime": {
     "end_time": "2024-07-03T14:48:22.713354Z",
     "start_time": "2024-07-03T14:48:22.695954Z"
    }
   },
   "source": [
    "neighbors.info()"
   ],
   "outputs": [
    {
     "name": "stdout",
     "output_type": "stream",
     "text": [
      "<class 'pandas.core.frame.DataFrame'>\n",
      "MultiIndex: 251 entries, ('MO', 'Fisherborough', '244 Tracy View') to ('NE', 'South Kennethmouth', '346 Wallace Pass')\n",
      "Data columns (total 4 columns):\n",
      " #   Column                  Non-Null Count  Dtype \n",
      "---  ------                  --------------  ----- \n",
      " 0   (Culture, Restaurants)  251 non-null    object\n",
      " 1   (Culture, Museums)      251 non-null    object\n",
      " 2   (Services, Police)      251 non-null    object\n",
      " 3   (Services, Schools)     251 non-null    object\n",
      "dtypes: object(4)\n",
      "memory usage: 27.1+ KB\n"
     ]
    }
   ],
   "execution_count": 22
  },
  {
   "cell_type": "code",
   "id": "e926756f022cfc3",
   "metadata": {
    "ExecuteTime": {
     "end_time": "2024-07-03T14:48:22.891270Z",
     "start_time": "2024-07-03T14:48:22.863609Z"
    }
   },
   "source": [
    "neighbors"
   ],
   "outputs": [
    {
     "data": {
      "text/plain": [
       "                                               Culture         Services  \\\n",
       "                                           Restaurants Museums   Police   \n",
       "State City               Street                                           \n",
       "MO    Fisherborough      244 Tracy View             C+       F       D-   \n",
       "SD    Port Curtisville   446 Cynthia Inlet          C-       B        B   \n",
       "WV    Jimenezview        432 John Common             A      A+        F   \n",
       "AK    Stevenshire        238 Andrew Rue             D-       A       A-   \n",
       "ND    New Joshuaport     877 Walter Neck            D+      C-        B   \n",
       "...                                                ...     ...      ...   \n",
       "MI    North Matthew      055 Clayton Isle           B-       C        B   \n",
       "MT    Chadton            601 Richards Road          A-       D       D+   \n",
       "SC    Diazmouth          385 Robin Harbors           F       D       B-   \n",
       "VA    Laurentown         255 Gonzalez Land          C+      B-        F   \n",
       "NE    South Kennethmouth 346 Wallace Pass           C-      B-        A   \n",
       "\n",
       "                                                    \n",
       "                                           Schools  \n",
       "State City               Street                     \n",
       "MO    Fisherborough      244 Tracy View         A+  \n",
       "SD    Port Curtisville   446 Cynthia Inlet      D+  \n",
       "WV    Jimenezview        432 John Common         B  \n",
       "AK    Stevenshire        238 Andrew Rue         A-  \n",
       "ND    New Joshuaport     877 Walter Neck         B  \n",
       "...                                            ...  \n",
       "MI    North Matthew      055 Clayton Isle       C+  \n",
       "MT    Chadton            601 Richards Road       D  \n",
       "SC    Diazmouth          385 Robin Harbors      D+  \n",
       "VA    Laurentown         255 Gonzalez Land      D-  \n",
       "NE    South Kennethmouth 346 Wallace Pass       A-  \n",
       "\n",
       "[251 rows x 4 columns]"
      ],
      "text/html": [
       "<div>\n",
       "<style scoped>\n",
       "    .dataframe tbody tr th:only-of-type {\n",
       "        vertical-align: middle;\n",
       "    }\n",
       "\n",
       "    .dataframe tbody tr th {\n",
       "        vertical-align: top;\n",
       "    }\n",
       "\n",
       "    .dataframe thead tr th {\n",
       "        text-align: left;\n",
       "    }\n",
       "\n",
       "    .dataframe thead tr:last-of-type th {\n",
       "        text-align: right;\n",
       "    }\n",
       "</style>\n",
       "<table border=\"1\" class=\"dataframe\">\n",
       "  <thead>\n",
       "    <tr>\n",
       "      <th></th>\n",
       "      <th></th>\n",
       "      <th></th>\n",
       "      <th colspan=\"2\" halign=\"left\">Culture</th>\n",
       "      <th colspan=\"2\" halign=\"left\">Services</th>\n",
       "    </tr>\n",
       "    <tr>\n",
       "      <th></th>\n",
       "      <th></th>\n",
       "      <th></th>\n",
       "      <th>Restaurants</th>\n",
       "      <th>Museums</th>\n",
       "      <th>Police</th>\n",
       "      <th>Schools</th>\n",
       "    </tr>\n",
       "    <tr>\n",
       "      <th>State</th>\n",
       "      <th>City</th>\n",
       "      <th>Street</th>\n",
       "      <th></th>\n",
       "      <th></th>\n",
       "      <th></th>\n",
       "      <th></th>\n",
       "    </tr>\n",
       "  </thead>\n",
       "  <tbody>\n",
       "    <tr>\n",
       "      <th>MO</th>\n",
       "      <th>Fisherborough</th>\n",
       "      <th>244 Tracy View</th>\n",
       "      <td>C+</td>\n",
       "      <td>F</td>\n",
       "      <td>D-</td>\n",
       "      <td>A+</td>\n",
       "    </tr>\n",
       "    <tr>\n",
       "      <th>SD</th>\n",
       "      <th>Port Curtisville</th>\n",
       "      <th>446 Cynthia Inlet</th>\n",
       "      <td>C-</td>\n",
       "      <td>B</td>\n",
       "      <td>B</td>\n",
       "      <td>D+</td>\n",
       "    </tr>\n",
       "    <tr>\n",
       "      <th>WV</th>\n",
       "      <th>Jimenezview</th>\n",
       "      <th>432 John Common</th>\n",
       "      <td>A</td>\n",
       "      <td>A+</td>\n",
       "      <td>F</td>\n",
       "      <td>B</td>\n",
       "    </tr>\n",
       "    <tr>\n",
       "      <th>AK</th>\n",
       "      <th>Stevenshire</th>\n",
       "      <th>238 Andrew Rue</th>\n",
       "      <td>D-</td>\n",
       "      <td>A</td>\n",
       "      <td>A-</td>\n",
       "      <td>A-</td>\n",
       "    </tr>\n",
       "    <tr>\n",
       "      <th>ND</th>\n",
       "      <th>New Joshuaport</th>\n",
       "      <th>877 Walter Neck</th>\n",
       "      <td>D+</td>\n",
       "      <td>C-</td>\n",
       "      <td>B</td>\n",
       "      <td>B</td>\n",
       "    </tr>\n",
       "    <tr>\n",
       "      <th>...</th>\n",
       "      <th>...</th>\n",
       "      <th>...</th>\n",
       "      <td>...</td>\n",
       "      <td>...</td>\n",
       "      <td>...</td>\n",
       "      <td>...</td>\n",
       "    </tr>\n",
       "    <tr>\n",
       "      <th>MI</th>\n",
       "      <th>North Matthew</th>\n",
       "      <th>055 Clayton Isle</th>\n",
       "      <td>B-</td>\n",
       "      <td>C</td>\n",
       "      <td>B</td>\n",
       "      <td>C+</td>\n",
       "    </tr>\n",
       "    <tr>\n",
       "      <th>MT</th>\n",
       "      <th>Chadton</th>\n",
       "      <th>601 Richards Road</th>\n",
       "      <td>A-</td>\n",
       "      <td>D</td>\n",
       "      <td>D+</td>\n",
       "      <td>D</td>\n",
       "    </tr>\n",
       "    <tr>\n",
       "      <th>SC</th>\n",
       "      <th>Diazmouth</th>\n",
       "      <th>385 Robin Harbors</th>\n",
       "      <td>F</td>\n",
       "      <td>D</td>\n",
       "      <td>B-</td>\n",
       "      <td>D+</td>\n",
       "    </tr>\n",
       "    <tr>\n",
       "      <th>VA</th>\n",
       "      <th>Laurentown</th>\n",
       "      <th>255 Gonzalez Land</th>\n",
       "      <td>C+</td>\n",
       "      <td>B-</td>\n",
       "      <td>F</td>\n",
       "      <td>D-</td>\n",
       "    </tr>\n",
       "    <tr>\n",
       "      <th>NE</th>\n",
       "      <th>South Kennethmouth</th>\n",
       "      <th>346 Wallace Pass</th>\n",
       "      <td>C-</td>\n",
       "      <td>B-</td>\n",
       "      <td>A</td>\n",
       "      <td>A-</td>\n",
       "    </tr>\n",
       "  </tbody>\n",
       "</table>\n",
       "<p>251 rows × 4 columns</p>\n",
       "</div>"
      ]
     },
     "execution_count": 23,
     "metadata": {},
     "output_type": "execute_result"
    }
   ],
   "execution_count": 23
  },
  {
   "cell_type": "code",
   "id": "b9364ef04312c9ae",
   "metadata": {
    "ExecuteTime": {
     "end_time": "2024-07-03T14:48:23.144037Z",
     "start_time": "2024-07-03T14:48:23.127437Z"
    }
   },
   "source": [
    "neighbors.index"
   ],
   "outputs": [
    {
     "data": {
      "text/plain": [
       "MultiIndex([('MO',      'Fisherborough',        '244 Tracy View'),\n",
       "            ('SD',   'Port Curtisville',     '446 Cynthia Inlet'),\n",
       "            ('WV',        'Jimenezview',       '432 John Common'),\n",
       "            ('AK',        'Stevenshire',        '238 Andrew Rue'),\n",
       "            ('ND',     'New Joshuaport',       '877 Walter Neck'),\n",
       "            ('ID',         'Wellsville',   '696 Weber Stravenue'),\n",
       "            ('TN',          'Jodiburgh',    '285 Justin Corners'),\n",
       "            ('DC',   'Lake Christopher',   '607 Montoya Harbors'),\n",
       "            ('OH',          'Port Mike',      '041 Michael Neck'),\n",
       "            ('ND',         'Hardyburgh', '550 Gilmore Mountains'),\n",
       "            ...\n",
       "            ('AK',          'Scottstad',      '114 Jones Garden'),\n",
       "            ('IA',    'Port Willieport',  '320 Jennifer Mission'),\n",
       "            ('ME',         'Port Linda',        '692 Hill Glens'),\n",
       "            ('KS',         'Kaylamouth',       '483 Freeman Via'),\n",
       "            ('WA',     'Port Shawnfort',    '691 Winters Bridge'),\n",
       "            ('MI',      'North Matthew',      '055 Clayton Isle'),\n",
       "            ('MT',            'Chadton',     '601 Richards Road'),\n",
       "            ('SC',          'Diazmouth',     '385 Robin Harbors'),\n",
       "            ('VA',         'Laurentown',     '255 Gonzalez Land'),\n",
       "            ('NE', 'South Kennethmouth',      '346 Wallace Pass')],\n",
       "           names=['State', 'City', 'Street'], length=251)"
      ]
     },
     "execution_count": 24,
     "metadata": {},
     "output_type": "execute_result"
    }
   ],
   "execution_count": 24
  },
  {
   "cell_type": "code",
   "id": "f8abd35a0d39ccc8",
   "metadata": {
    "ExecuteTime": {
     "end_time": "2024-07-03T14:48:23.398632Z",
     "start_time": "2024-07-03T14:48:23.391921Z"
    }
   },
   "source": [
    "neighbors.columns"
   ],
   "outputs": [
    {
     "data": {
      "text/plain": [
       "MultiIndex([( 'Culture', 'Restaurants'),\n",
       "            ( 'Culture',     'Museums'),\n",
       "            ('Services',      'Police'),\n",
       "            ('Services',     'Schools')],\n",
       "           )"
      ]
     },
     "execution_count": 25,
     "metadata": {},
     "output_type": "execute_result"
    }
   ],
   "execution_count": 25
  },
  {
   "cell_type": "code",
   "id": "c4b212186e4d9cf5",
   "metadata": {
    "ExecuteTime": {
     "end_time": "2024-07-03T14:48:23.667841Z",
     "start_time": "2024-07-03T14:48:23.657701Z"
    }
   },
   "source": [
    "neighbors.index.get_level_values(1)"
   ],
   "outputs": [
    {
     "data": {
      "text/plain": [
       "Index(['Fisherborough', 'Port Curtisville', 'Jimenezview', 'Stevenshire',\n",
       "       'New Joshuaport', 'Wellsville', 'Jodiburgh', 'Lake Christopher',\n",
       "       'Port Mike', 'Hardyburgh',\n",
       "       ...\n",
       "       'Scottstad', 'Port Willieport', 'Port Linda', 'Kaylamouth',\n",
       "       'Port Shawnfort', 'North Matthew', 'Chadton', 'Diazmouth', 'Laurentown',\n",
       "       'South Kennethmouth'],\n",
       "      dtype='object', name='City', length=251)"
      ]
     },
     "execution_count": 26,
     "metadata": {},
     "output_type": "execute_result"
    }
   ],
   "execution_count": 26
  },
  {
   "cell_type": "code",
   "id": "321c927b2d46dc1c",
   "metadata": {
    "ExecuteTime": {
     "end_time": "2024-07-03T14:48:23.826188Z",
     "start_time": "2024-07-03T14:48:23.821419Z"
    }
   },
   "source": [
    "neighbors.columns.names = ['Category', 'Subcategory']"
   ],
   "outputs": [],
   "execution_count": 27
  },
  {
   "cell_type": "code",
   "id": "2ccb4687a169c9c7",
   "metadata": {
    "ExecuteTime": {
     "end_time": "2024-07-03T14:48:24.361086Z",
     "start_time": "2024-07-03T14:48:24.355665Z"
    }
   },
   "source": [
    "neighbors.columns.names"
   ],
   "outputs": [
    {
     "data": {
      "text/plain": [
       "FrozenList(['Category', 'Subcategory'])"
      ]
     },
     "execution_count": 28,
     "metadata": {},
     "output_type": "execute_result"
    }
   ],
   "execution_count": 28
  },
  {
   "cell_type": "code",
   "id": "5b1d5b936113cd00",
   "metadata": {
    "ExecuteTime": {
     "end_time": "2024-07-03T14:48:24.545770Z",
     "start_time": "2024-07-03T14:48:24.517220Z"
    }
   },
   "source": [
    "neighbors"
   ],
   "outputs": [
    {
     "data": {
      "text/plain": [
       "Category                                       Culture         Services  \\\n",
       "Subcategory                                Restaurants Museums   Police   \n",
       "State City               Street                                           \n",
       "MO    Fisherborough      244 Tracy View             C+       F       D-   \n",
       "SD    Port Curtisville   446 Cynthia Inlet          C-       B        B   \n",
       "WV    Jimenezview        432 John Common             A      A+        F   \n",
       "AK    Stevenshire        238 Andrew Rue             D-       A       A-   \n",
       "ND    New Joshuaport     877 Walter Neck            D+      C-        B   \n",
       "...                                                ...     ...      ...   \n",
       "MI    North Matthew      055 Clayton Isle           B-       C        B   \n",
       "MT    Chadton            601 Richards Road          A-       D       D+   \n",
       "SC    Diazmouth          385 Robin Harbors           F       D       B-   \n",
       "VA    Laurentown         255 Gonzalez Land          C+      B-        F   \n",
       "NE    South Kennethmouth 346 Wallace Pass           C-      B-        A   \n",
       "\n",
       "Category                                            \n",
       "Subcategory                                Schools  \n",
       "State City               Street                     \n",
       "MO    Fisherborough      244 Tracy View         A+  \n",
       "SD    Port Curtisville   446 Cynthia Inlet      D+  \n",
       "WV    Jimenezview        432 John Common         B  \n",
       "AK    Stevenshire        238 Andrew Rue         A-  \n",
       "ND    New Joshuaport     877 Walter Neck         B  \n",
       "...                                            ...  \n",
       "MI    North Matthew      055 Clayton Isle       C+  \n",
       "MT    Chadton            601 Richards Road       D  \n",
       "SC    Diazmouth          385 Robin Harbors      D+  \n",
       "VA    Laurentown         255 Gonzalez Land      D-  \n",
       "NE    South Kennethmouth 346 Wallace Pass       A-  \n",
       "\n",
       "[251 rows x 4 columns]"
      ],
      "text/html": [
       "<div>\n",
       "<style scoped>\n",
       "    .dataframe tbody tr th:only-of-type {\n",
       "        vertical-align: middle;\n",
       "    }\n",
       "\n",
       "    .dataframe tbody tr th {\n",
       "        vertical-align: top;\n",
       "    }\n",
       "\n",
       "    .dataframe thead tr th {\n",
       "        text-align: left;\n",
       "    }\n",
       "\n",
       "    .dataframe thead tr:last-of-type th {\n",
       "        text-align: right;\n",
       "    }\n",
       "</style>\n",
       "<table border=\"1\" class=\"dataframe\">\n",
       "  <thead>\n",
       "    <tr>\n",
       "      <th></th>\n",
       "      <th></th>\n",
       "      <th>Category</th>\n",
       "      <th colspan=\"2\" halign=\"left\">Culture</th>\n",
       "      <th colspan=\"2\" halign=\"left\">Services</th>\n",
       "    </tr>\n",
       "    <tr>\n",
       "      <th></th>\n",
       "      <th></th>\n",
       "      <th>Subcategory</th>\n",
       "      <th>Restaurants</th>\n",
       "      <th>Museums</th>\n",
       "      <th>Police</th>\n",
       "      <th>Schools</th>\n",
       "    </tr>\n",
       "    <tr>\n",
       "      <th>State</th>\n",
       "      <th>City</th>\n",
       "      <th>Street</th>\n",
       "      <th></th>\n",
       "      <th></th>\n",
       "      <th></th>\n",
       "      <th></th>\n",
       "    </tr>\n",
       "  </thead>\n",
       "  <tbody>\n",
       "    <tr>\n",
       "      <th>MO</th>\n",
       "      <th>Fisherborough</th>\n",
       "      <th>244 Tracy View</th>\n",
       "      <td>C+</td>\n",
       "      <td>F</td>\n",
       "      <td>D-</td>\n",
       "      <td>A+</td>\n",
       "    </tr>\n",
       "    <tr>\n",
       "      <th>SD</th>\n",
       "      <th>Port Curtisville</th>\n",
       "      <th>446 Cynthia Inlet</th>\n",
       "      <td>C-</td>\n",
       "      <td>B</td>\n",
       "      <td>B</td>\n",
       "      <td>D+</td>\n",
       "    </tr>\n",
       "    <tr>\n",
       "      <th>WV</th>\n",
       "      <th>Jimenezview</th>\n",
       "      <th>432 John Common</th>\n",
       "      <td>A</td>\n",
       "      <td>A+</td>\n",
       "      <td>F</td>\n",
       "      <td>B</td>\n",
       "    </tr>\n",
       "    <tr>\n",
       "      <th>AK</th>\n",
       "      <th>Stevenshire</th>\n",
       "      <th>238 Andrew Rue</th>\n",
       "      <td>D-</td>\n",
       "      <td>A</td>\n",
       "      <td>A-</td>\n",
       "      <td>A-</td>\n",
       "    </tr>\n",
       "    <tr>\n",
       "      <th>ND</th>\n",
       "      <th>New Joshuaport</th>\n",
       "      <th>877 Walter Neck</th>\n",
       "      <td>D+</td>\n",
       "      <td>C-</td>\n",
       "      <td>B</td>\n",
       "      <td>B</td>\n",
       "    </tr>\n",
       "    <tr>\n",
       "      <th>...</th>\n",
       "      <th>...</th>\n",
       "      <th>...</th>\n",
       "      <td>...</td>\n",
       "      <td>...</td>\n",
       "      <td>...</td>\n",
       "      <td>...</td>\n",
       "    </tr>\n",
       "    <tr>\n",
       "      <th>MI</th>\n",
       "      <th>North Matthew</th>\n",
       "      <th>055 Clayton Isle</th>\n",
       "      <td>B-</td>\n",
       "      <td>C</td>\n",
       "      <td>B</td>\n",
       "      <td>C+</td>\n",
       "    </tr>\n",
       "    <tr>\n",
       "      <th>MT</th>\n",
       "      <th>Chadton</th>\n",
       "      <th>601 Richards Road</th>\n",
       "      <td>A-</td>\n",
       "      <td>D</td>\n",
       "      <td>D+</td>\n",
       "      <td>D</td>\n",
       "    </tr>\n",
       "    <tr>\n",
       "      <th>SC</th>\n",
       "      <th>Diazmouth</th>\n",
       "      <th>385 Robin Harbors</th>\n",
       "      <td>F</td>\n",
       "      <td>D</td>\n",
       "      <td>B-</td>\n",
       "      <td>D+</td>\n",
       "    </tr>\n",
       "    <tr>\n",
       "      <th>VA</th>\n",
       "      <th>Laurentown</th>\n",
       "      <th>255 Gonzalez Land</th>\n",
       "      <td>C+</td>\n",
       "      <td>B-</td>\n",
       "      <td>F</td>\n",
       "      <td>D-</td>\n",
       "    </tr>\n",
       "    <tr>\n",
       "      <th>NE</th>\n",
       "      <th>South Kennethmouth</th>\n",
       "      <th>346 Wallace Pass</th>\n",
       "      <td>C-</td>\n",
       "      <td>B-</td>\n",
       "      <td>A</td>\n",
       "      <td>A-</td>\n",
       "    </tr>\n",
       "  </tbody>\n",
       "</table>\n",
       "<p>251 rows × 4 columns</p>\n",
       "</div>"
      ]
     },
     "execution_count": 29,
     "metadata": {},
     "output_type": "execute_result"
    }
   ],
   "execution_count": 29
  },
  {
   "cell_type": "code",
   "id": "f801995d-d67f-4096-b7b0-fa51d006caec",
   "metadata": {
    "ExecuteTime": {
     "end_time": "2024-07-03T14:48:24.665352Z",
     "start_time": "2024-07-03T14:48:24.652013Z"
    }
   },
   "source": "neighbors.nunique()",
   "outputs": [
    {
     "data": {
      "text/plain": [
       "Category  Subcategory\n",
       "Culture   Restaurants    13\n",
       "          Museums        13\n",
       "Services  Police         13\n",
       "          Schools        13\n",
       "dtype: int64"
      ]
     },
     "execution_count": 30,
     "metadata": {},
     "output_type": "execute_result"
    }
   ],
   "execution_count": 30
  },
  {
   "metadata": {
    "ExecuteTime": {
     "end_time": "2024-07-03T14:48:24.812900Z",
     "start_time": "2024-07-03T14:48:24.773494Z"
    }
   },
   "cell_type": "code",
   "source": "neighbors.sort_index()",
   "id": "b41518e31ec97c0f",
   "outputs": [
    {
     "data": {
      "text/plain": [
       "Category                                      Culture         Services        \n",
       "Subcategory                               Restaurants Museums   Police Schools\n",
       "State City           Street                                                   \n",
       "AK    Rowlandchester 386 Rebecca Cove              C-      A-       A+       C\n",
       "      Scottstad      082 Leblanc Freeway            D      C-        D      B+\n",
       "                     114 Jones Garden              D-      D-        D       D\n",
       "      Stevenshire    238 Andrew Rue                D-       A       A-      A-\n",
       "AL    Clarkland      430 Douglas Mission            A       F       C+      B+\n",
       "...                                               ...     ...      ...     ...\n",
       "WY    Lake Nicole    754 Weaver Turnpike            B      D-        B       D\n",
       "                     933 Jennifer Burg              C      A+       A-       C\n",
       "      Martintown     013 Bell Mills                C-       D       A-      B-\n",
       "      Port Jason     624 Faulkner Orchard          A-       F       C+      C+\n",
       "      Reneeshire     717 Patel Square               B      B+        D       A\n",
       "\n",
       "[251 rows x 4 columns]"
      ],
      "text/html": [
       "<div>\n",
       "<style scoped>\n",
       "    .dataframe tbody tr th:only-of-type {\n",
       "        vertical-align: middle;\n",
       "    }\n",
       "\n",
       "    .dataframe tbody tr th {\n",
       "        vertical-align: top;\n",
       "    }\n",
       "\n",
       "    .dataframe thead tr th {\n",
       "        text-align: left;\n",
       "    }\n",
       "\n",
       "    .dataframe thead tr:last-of-type th {\n",
       "        text-align: right;\n",
       "    }\n",
       "</style>\n",
       "<table border=\"1\" class=\"dataframe\">\n",
       "  <thead>\n",
       "    <tr>\n",
       "      <th></th>\n",
       "      <th></th>\n",
       "      <th>Category</th>\n",
       "      <th colspan=\"2\" halign=\"left\">Culture</th>\n",
       "      <th colspan=\"2\" halign=\"left\">Services</th>\n",
       "    </tr>\n",
       "    <tr>\n",
       "      <th></th>\n",
       "      <th></th>\n",
       "      <th>Subcategory</th>\n",
       "      <th>Restaurants</th>\n",
       "      <th>Museums</th>\n",
       "      <th>Police</th>\n",
       "      <th>Schools</th>\n",
       "    </tr>\n",
       "    <tr>\n",
       "      <th>State</th>\n",
       "      <th>City</th>\n",
       "      <th>Street</th>\n",
       "      <th></th>\n",
       "      <th></th>\n",
       "      <th></th>\n",
       "      <th></th>\n",
       "    </tr>\n",
       "  </thead>\n",
       "  <tbody>\n",
       "    <tr>\n",
       "      <th rowspan=\"4\" valign=\"top\">AK</th>\n",
       "      <th>Rowlandchester</th>\n",
       "      <th>386 Rebecca Cove</th>\n",
       "      <td>C-</td>\n",
       "      <td>A-</td>\n",
       "      <td>A+</td>\n",
       "      <td>C</td>\n",
       "    </tr>\n",
       "    <tr>\n",
       "      <th rowspan=\"2\" valign=\"top\">Scottstad</th>\n",
       "      <th>082 Leblanc Freeway</th>\n",
       "      <td>D</td>\n",
       "      <td>C-</td>\n",
       "      <td>D</td>\n",
       "      <td>B+</td>\n",
       "    </tr>\n",
       "    <tr>\n",
       "      <th>114 Jones Garden</th>\n",
       "      <td>D-</td>\n",
       "      <td>D-</td>\n",
       "      <td>D</td>\n",
       "      <td>D</td>\n",
       "    </tr>\n",
       "    <tr>\n",
       "      <th>Stevenshire</th>\n",
       "      <th>238 Andrew Rue</th>\n",
       "      <td>D-</td>\n",
       "      <td>A</td>\n",
       "      <td>A-</td>\n",
       "      <td>A-</td>\n",
       "    </tr>\n",
       "    <tr>\n",
       "      <th>AL</th>\n",
       "      <th>Clarkland</th>\n",
       "      <th>430 Douglas Mission</th>\n",
       "      <td>A</td>\n",
       "      <td>F</td>\n",
       "      <td>C+</td>\n",
       "      <td>B+</td>\n",
       "    </tr>\n",
       "    <tr>\n",
       "      <th>...</th>\n",
       "      <th>...</th>\n",
       "      <th>...</th>\n",
       "      <td>...</td>\n",
       "      <td>...</td>\n",
       "      <td>...</td>\n",
       "      <td>...</td>\n",
       "    </tr>\n",
       "    <tr>\n",
       "      <th rowspan=\"5\" valign=\"top\">WY</th>\n",
       "      <th rowspan=\"2\" valign=\"top\">Lake Nicole</th>\n",
       "      <th>754 Weaver Turnpike</th>\n",
       "      <td>B</td>\n",
       "      <td>D-</td>\n",
       "      <td>B</td>\n",
       "      <td>D</td>\n",
       "    </tr>\n",
       "    <tr>\n",
       "      <th>933 Jennifer Burg</th>\n",
       "      <td>C</td>\n",
       "      <td>A+</td>\n",
       "      <td>A-</td>\n",
       "      <td>C</td>\n",
       "    </tr>\n",
       "    <tr>\n",
       "      <th>Martintown</th>\n",
       "      <th>013 Bell Mills</th>\n",
       "      <td>C-</td>\n",
       "      <td>D</td>\n",
       "      <td>A-</td>\n",
       "      <td>B-</td>\n",
       "    </tr>\n",
       "    <tr>\n",
       "      <th>Port Jason</th>\n",
       "      <th>624 Faulkner Orchard</th>\n",
       "      <td>A-</td>\n",
       "      <td>F</td>\n",
       "      <td>C+</td>\n",
       "      <td>C+</td>\n",
       "    </tr>\n",
       "    <tr>\n",
       "      <th>Reneeshire</th>\n",
       "      <th>717 Patel Square</th>\n",
       "      <td>B</td>\n",
       "      <td>B+</td>\n",
       "      <td>D</td>\n",
       "      <td>A</td>\n",
       "    </tr>\n",
       "  </tbody>\n",
       "</table>\n",
       "<p>251 rows × 4 columns</p>\n",
       "</div>"
      ]
     },
     "execution_count": 31,
     "metadata": {},
     "output_type": "execute_result"
    }
   ],
   "execution_count": 31
  },
  {
   "metadata": {},
   "cell_type": "markdown",
   "source": "Sorting selecting a level index",
   "id": "8e90ba25ed4c159c"
  },
  {
   "metadata": {
    "ExecuteTime": {
     "end_time": "2024-07-03T14:56:26.638407Z",
     "start_time": "2024-07-03T14:56:26.619652Z"
    }
   },
   "cell_type": "code",
   "source": "neighbors.sort_index(level=['City'])",
   "id": "cf71dddb18c8406a",
   "outputs": [
    {
     "data": {
      "text/plain": [
       "Category                                      Culture         Services        \n",
       "Subcategory                               Restaurants Museums   Police Schools\n",
       "State City          Street                                                    \n",
       "AR    Allisonland   124 Diaz Brooks                C-      A+        F      C+\n",
       "GA    Amyburgh      941 Brian Expressway            B       B       D-      C+\n",
       "IA    Amyburgh      163 Heather Neck                F       D       A+      A-\n",
       "ID    Andrewshire   952 Ellis Drive                C+      A-       C+       A\n",
       "UT    Baileyfort    919 Stewart Hills              D+      C+        A       C\n",
       "...                                               ...     ...      ...     ...\n",
       "NC    West Scott    348 Jack Branch                A-      D-       A-       A\n",
       "SD    West Scott    139 Hardy Vista                C+      A-       D+      B-\n",
       "IN    Wilsonborough 066 Carr Road                  A+      C-        B       F\n",
       "NC    Wilsonshire   871 Christopher Vista          B+       B       D+       F\n",
       "NV    Wilsonshire   542 Jessica Stream              A      A+       C-      C+\n",
       "\n",
       "[251 rows x 4 columns]"
      ],
      "text/html": [
       "<div>\n",
       "<style scoped>\n",
       "    .dataframe tbody tr th:only-of-type {\n",
       "        vertical-align: middle;\n",
       "    }\n",
       "\n",
       "    .dataframe tbody tr th {\n",
       "        vertical-align: top;\n",
       "    }\n",
       "\n",
       "    .dataframe thead tr th {\n",
       "        text-align: left;\n",
       "    }\n",
       "\n",
       "    .dataframe thead tr:last-of-type th {\n",
       "        text-align: right;\n",
       "    }\n",
       "</style>\n",
       "<table border=\"1\" class=\"dataframe\">\n",
       "  <thead>\n",
       "    <tr>\n",
       "      <th></th>\n",
       "      <th></th>\n",
       "      <th>Category</th>\n",
       "      <th colspan=\"2\" halign=\"left\">Culture</th>\n",
       "      <th colspan=\"2\" halign=\"left\">Services</th>\n",
       "    </tr>\n",
       "    <tr>\n",
       "      <th></th>\n",
       "      <th></th>\n",
       "      <th>Subcategory</th>\n",
       "      <th>Restaurants</th>\n",
       "      <th>Museums</th>\n",
       "      <th>Police</th>\n",
       "      <th>Schools</th>\n",
       "    </tr>\n",
       "    <tr>\n",
       "      <th>State</th>\n",
       "      <th>City</th>\n",
       "      <th>Street</th>\n",
       "      <th></th>\n",
       "      <th></th>\n",
       "      <th></th>\n",
       "      <th></th>\n",
       "    </tr>\n",
       "  </thead>\n",
       "  <tbody>\n",
       "    <tr>\n",
       "      <th>AR</th>\n",
       "      <th>Allisonland</th>\n",
       "      <th>124 Diaz Brooks</th>\n",
       "      <td>C-</td>\n",
       "      <td>A+</td>\n",
       "      <td>F</td>\n",
       "      <td>C+</td>\n",
       "    </tr>\n",
       "    <tr>\n",
       "      <th>GA</th>\n",
       "      <th>Amyburgh</th>\n",
       "      <th>941 Brian Expressway</th>\n",
       "      <td>B</td>\n",
       "      <td>B</td>\n",
       "      <td>D-</td>\n",
       "      <td>C+</td>\n",
       "    </tr>\n",
       "    <tr>\n",
       "      <th>IA</th>\n",
       "      <th>Amyburgh</th>\n",
       "      <th>163 Heather Neck</th>\n",
       "      <td>F</td>\n",
       "      <td>D</td>\n",
       "      <td>A+</td>\n",
       "      <td>A-</td>\n",
       "    </tr>\n",
       "    <tr>\n",
       "      <th>ID</th>\n",
       "      <th>Andrewshire</th>\n",
       "      <th>952 Ellis Drive</th>\n",
       "      <td>C+</td>\n",
       "      <td>A-</td>\n",
       "      <td>C+</td>\n",
       "      <td>A</td>\n",
       "    </tr>\n",
       "    <tr>\n",
       "      <th>UT</th>\n",
       "      <th>Baileyfort</th>\n",
       "      <th>919 Stewart Hills</th>\n",
       "      <td>D+</td>\n",
       "      <td>C+</td>\n",
       "      <td>A</td>\n",
       "      <td>C</td>\n",
       "    </tr>\n",
       "    <tr>\n",
       "      <th>...</th>\n",
       "      <th>...</th>\n",
       "      <th>...</th>\n",
       "      <td>...</td>\n",
       "      <td>...</td>\n",
       "      <td>...</td>\n",
       "      <td>...</td>\n",
       "    </tr>\n",
       "    <tr>\n",
       "      <th>NC</th>\n",
       "      <th>West Scott</th>\n",
       "      <th>348 Jack Branch</th>\n",
       "      <td>A-</td>\n",
       "      <td>D-</td>\n",
       "      <td>A-</td>\n",
       "      <td>A</td>\n",
       "    </tr>\n",
       "    <tr>\n",
       "      <th>SD</th>\n",
       "      <th>West Scott</th>\n",
       "      <th>139 Hardy Vista</th>\n",
       "      <td>C+</td>\n",
       "      <td>A-</td>\n",
       "      <td>D+</td>\n",
       "      <td>B-</td>\n",
       "    </tr>\n",
       "    <tr>\n",
       "      <th>IN</th>\n",
       "      <th>Wilsonborough</th>\n",
       "      <th>066 Carr Road</th>\n",
       "      <td>A+</td>\n",
       "      <td>C-</td>\n",
       "      <td>B</td>\n",
       "      <td>F</td>\n",
       "    </tr>\n",
       "    <tr>\n",
       "      <th>NC</th>\n",
       "      <th>Wilsonshire</th>\n",
       "      <th>871 Christopher Vista</th>\n",
       "      <td>B+</td>\n",
       "      <td>B</td>\n",
       "      <td>D+</td>\n",
       "      <td>F</td>\n",
       "    </tr>\n",
       "    <tr>\n",
       "      <th>NV</th>\n",
       "      <th>Wilsonshire</th>\n",
       "      <th>542 Jessica Stream</th>\n",
       "      <td>A</td>\n",
       "      <td>A+</td>\n",
       "      <td>C-</td>\n",
       "      <td>C+</td>\n",
       "    </tr>\n",
       "  </tbody>\n",
       "</table>\n",
       "<p>251 rows × 4 columns</p>\n",
       "</div>"
      ]
     },
     "execution_count": 32,
     "metadata": {},
     "output_type": "execute_result"
    }
   ],
   "execution_count": 32
  },
  {
   "metadata": {
    "ExecuteTime": {
     "end_time": "2024-07-03T16:01:43.921886Z",
     "start_time": "2024-07-03T16:01:43.914848Z"
    }
   },
   "cell_type": "code",
   "source": "neighbors = neighbors.sort_index()",
   "id": "c217306828a2ddf3",
   "outputs": [],
   "execution_count": 34
  },
  {
   "metadata": {
    "ExecuteTime": {
     "end_time": "2024-07-03T16:01:46.601250Z",
     "start_time": "2024-07-03T16:01:46.580699Z"
    }
   },
   "cell_type": "code",
   "source": "neighbors",
   "id": "7736e6f182adfe64",
   "outputs": [
    {
     "data": {
      "text/plain": [
       "Category                                      Culture         Services        \n",
       "Subcategory                               Restaurants Museums   Police Schools\n",
       "State City           Street                                                   \n",
       "AK    Rowlandchester 386 Rebecca Cove              C-      A-       A+       C\n",
       "      Scottstad      082 Leblanc Freeway            D      C-        D      B+\n",
       "                     114 Jones Garden              D-      D-        D       D\n",
       "      Stevenshire    238 Andrew Rue                D-       A       A-      A-\n",
       "AL    Clarkland      430 Douglas Mission            A       F       C+      B+\n",
       "...                                               ...     ...      ...     ...\n",
       "WY    Lake Nicole    754 Weaver Turnpike            B      D-        B       D\n",
       "                     933 Jennifer Burg              C      A+       A-       C\n",
       "      Martintown     013 Bell Mills                C-       D       A-      B-\n",
       "      Port Jason     624 Faulkner Orchard          A-       F       C+      C+\n",
       "      Reneeshire     717 Patel Square               B      B+        D       A\n",
       "\n",
       "[251 rows x 4 columns]"
      ],
      "text/html": [
       "<div>\n",
       "<style scoped>\n",
       "    .dataframe tbody tr th:only-of-type {\n",
       "        vertical-align: middle;\n",
       "    }\n",
       "\n",
       "    .dataframe tbody tr th {\n",
       "        vertical-align: top;\n",
       "    }\n",
       "\n",
       "    .dataframe thead tr th {\n",
       "        text-align: left;\n",
       "    }\n",
       "\n",
       "    .dataframe thead tr:last-of-type th {\n",
       "        text-align: right;\n",
       "    }\n",
       "</style>\n",
       "<table border=\"1\" class=\"dataframe\">\n",
       "  <thead>\n",
       "    <tr>\n",
       "      <th></th>\n",
       "      <th></th>\n",
       "      <th>Category</th>\n",
       "      <th colspan=\"2\" halign=\"left\">Culture</th>\n",
       "      <th colspan=\"2\" halign=\"left\">Services</th>\n",
       "    </tr>\n",
       "    <tr>\n",
       "      <th></th>\n",
       "      <th></th>\n",
       "      <th>Subcategory</th>\n",
       "      <th>Restaurants</th>\n",
       "      <th>Museums</th>\n",
       "      <th>Police</th>\n",
       "      <th>Schools</th>\n",
       "    </tr>\n",
       "    <tr>\n",
       "      <th>State</th>\n",
       "      <th>City</th>\n",
       "      <th>Street</th>\n",
       "      <th></th>\n",
       "      <th></th>\n",
       "      <th></th>\n",
       "      <th></th>\n",
       "    </tr>\n",
       "  </thead>\n",
       "  <tbody>\n",
       "    <tr>\n",
       "      <th rowspan=\"4\" valign=\"top\">AK</th>\n",
       "      <th>Rowlandchester</th>\n",
       "      <th>386 Rebecca Cove</th>\n",
       "      <td>C-</td>\n",
       "      <td>A-</td>\n",
       "      <td>A+</td>\n",
       "      <td>C</td>\n",
       "    </tr>\n",
       "    <tr>\n",
       "      <th rowspan=\"2\" valign=\"top\">Scottstad</th>\n",
       "      <th>082 Leblanc Freeway</th>\n",
       "      <td>D</td>\n",
       "      <td>C-</td>\n",
       "      <td>D</td>\n",
       "      <td>B+</td>\n",
       "    </tr>\n",
       "    <tr>\n",
       "      <th>114 Jones Garden</th>\n",
       "      <td>D-</td>\n",
       "      <td>D-</td>\n",
       "      <td>D</td>\n",
       "      <td>D</td>\n",
       "    </tr>\n",
       "    <tr>\n",
       "      <th>Stevenshire</th>\n",
       "      <th>238 Andrew Rue</th>\n",
       "      <td>D-</td>\n",
       "      <td>A</td>\n",
       "      <td>A-</td>\n",
       "      <td>A-</td>\n",
       "    </tr>\n",
       "    <tr>\n",
       "      <th>AL</th>\n",
       "      <th>Clarkland</th>\n",
       "      <th>430 Douglas Mission</th>\n",
       "      <td>A</td>\n",
       "      <td>F</td>\n",
       "      <td>C+</td>\n",
       "      <td>B+</td>\n",
       "    </tr>\n",
       "    <tr>\n",
       "      <th>...</th>\n",
       "      <th>...</th>\n",
       "      <th>...</th>\n",
       "      <td>...</td>\n",
       "      <td>...</td>\n",
       "      <td>...</td>\n",
       "      <td>...</td>\n",
       "    </tr>\n",
       "    <tr>\n",
       "      <th rowspan=\"5\" valign=\"top\">WY</th>\n",
       "      <th rowspan=\"2\" valign=\"top\">Lake Nicole</th>\n",
       "      <th>754 Weaver Turnpike</th>\n",
       "      <td>B</td>\n",
       "      <td>D-</td>\n",
       "      <td>B</td>\n",
       "      <td>D</td>\n",
       "    </tr>\n",
       "    <tr>\n",
       "      <th>933 Jennifer Burg</th>\n",
       "      <td>C</td>\n",
       "      <td>A+</td>\n",
       "      <td>A-</td>\n",
       "      <td>C</td>\n",
       "    </tr>\n",
       "    <tr>\n",
       "      <th>Martintown</th>\n",
       "      <th>013 Bell Mills</th>\n",
       "      <td>C-</td>\n",
       "      <td>D</td>\n",
       "      <td>A-</td>\n",
       "      <td>B-</td>\n",
       "    </tr>\n",
       "    <tr>\n",
       "      <th>Port Jason</th>\n",
       "      <th>624 Faulkner Orchard</th>\n",
       "      <td>A-</td>\n",
       "      <td>F</td>\n",
       "      <td>C+</td>\n",
       "      <td>C+</td>\n",
       "    </tr>\n",
       "    <tr>\n",
       "      <th>Reneeshire</th>\n",
       "      <th>717 Patel Square</th>\n",
       "      <td>B</td>\n",
       "      <td>B+</td>\n",
       "      <td>D</td>\n",
       "      <td>A</td>\n",
       "    </tr>\n",
       "  </tbody>\n",
       "</table>\n",
       "<p>251 rows × 4 columns</p>\n",
       "</div>"
      ]
     },
     "execution_count": 35,
     "metadata": {},
     "output_type": "execute_result"
    }
   ],
   "execution_count": 35
  },
  {
   "metadata": {},
   "cell_type": "markdown",
   "source": "Extracting data in a multi index object",
   "id": "affac19313d73047"
  },
  {
   "metadata": {
    "ExecuteTime": {
     "end_time": "2024-07-03T16:08:08.328330Z",
     "start_time": "2024-07-03T16:08:08.317077Z"
    }
   },
   "cell_type": "code",
   "source": "neighbors[('Services', 'Schools')]",
   "id": "433274d8d491d4f9",
   "outputs": [
    {
     "data": {
      "text/plain": [
       "State  City            Street              \n",
       "AK     Rowlandchester  386 Rebecca Cove         C\n",
       "       Scottstad       082 Leblanc Freeway     B+\n",
       "                       114 Jones Garden         D\n",
       "       Stevenshire     238 Andrew Rue          A-\n",
       "AL     Clarkland       430 Douglas Mission     B+\n",
       "                                               ..\n",
       "WY     Lake Nicole     754 Weaver Turnpike      D\n",
       "                       933 Jennifer Burg        C\n",
       "       Martintown      013 Bell Mills          B-\n",
       "       Port Jason      624 Faulkner Orchard    C+\n",
       "       Reneeshire      717 Patel Square         A\n",
       "Name: (Services, Schools), Length: 251, dtype: object"
      ]
     },
     "execution_count": 40,
     "metadata": {},
     "output_type": "execute_result"
    }
   ],
   "execution_count": 40
  },
  {
   "metadata": {},
   "cell_type": "markdown",
   "source": "Extracting rows",
   "id": "ac3973a5f6c2999c"
  },
  {
   "metadata": {
    "ExecuteTime": {
     "end_time": "2024-07-03T16:15:02.643319Z",
     "start_time": "2024-07-03T16:15:02.633919Z"
    }
   },
   "cell_type": "code",
   "source": "neighbors.loc[('TX', 'Kingchester', '534 Gordon Falls')]",
   "id": "73f61eb015d5a6e6",
   "outputs": [
    {
     "data": {
      "text/plain": [
       "Category  Subcategory\n",
       "Culture   Restaurants     C\n",
       "          Museums        D+\n",
       "Services  Police          B\n",
       "          Schools         B\n",
       "Name: (TX, Kingchester, 534 Gordon Falls), dtype: object"
      ]
     },
     "execution_count": 45,
     "metadata": {},
     "output_type": "execute_result"
    }
   ],
   "execution_count": 45
  },
  {
   "metadata": {
    "ExecuteTime": {
     "end_time": "2024-07-03T16:18:08.673378Z",
     "start_time": "2024-07-03T16:18:08.656522Z"
    }
   },
   "cell_type": "code",
   "source": "neighbors.loc['TX', 'Leeberg']",
   "id": "2eb1b84ecc341854",
   "outputs": [
    {
     "data": {
      "text/plain": [
       "Category            Culture         Services        \n",
       "Subcategory     Restaurants Museums   Police Schools\n",
       "Street                                              \n",
       "693 Avila Pines          C+       F       A+      D+"
      ],
      "text/html": [
       "<div>\n",
       "<style scoped>\n",
       "    .dataframe tbody tr th:only-of-type {\n",
       "        vertical-align: middle;\n",
       "    }\n",
       "\n",
       "    .dataframe tbody tr th {\n",
       "        vertical-align: top;\n",
       "    }\n",
       "\n",
       "    .dataframe thead tr th {\n",
       "        text-align: left;\n",
       "    }\n",
       "\n",
       "    .dataframe thead tr:last-of-type th {\n",
       "        text-align: right;\n",
       "    }\n",
       "</style>\n",
       "<table border=\"1\" class=\"dataframe\">\n",
       "  <thead>\n",
       "    <tr>\n",
       "      <th>Category</th>\n",
       "      <th colspan=\"2\" halign=\"left\">Culture</th>\n",
       "      <th colspan=\"2\" halign=\"left\">Services</th>\n",
       "    </tr>\n",
       "    <tr>\n",
       "      <th>Subcategory</th>\n",
       "      <th>Restaurants</th>\n",
       "      <th>Museums</th>\n",
       "      <th>Police</th>\n",
       "      <th>Schools</th>\n",
       "    </tr>\n",
       "    <tr>\n",
       "      <th>Street</th>\n",
       "      <th></th>\n",
       "      <th></th>\n",
       "      <th></th>\n",
       "      <th></th>\n",
       "    </tr>\n",
       "  </thead>\n",
       "  <tbody>\n",
       "    <tr>\n",
       "      <th>693 Avila Pines</th>\n",
       "      <td>C+</td>\n",
       "      <td>F</td>\n",
       "      <td>A+</td>\n",
       "      <td>D+</td>\n",
       "    </tr>\n",
       "  </tbody>\n",
       "</table>\n",
       "</div>"
      ]
     },
     "execution_count": 48,
     "metadata": {},
     "output_type": "execute_result"
    }
   ],
   "execution_count": 48
  },
  {
   "metadata": {
    "ExecuteTime": {
     "end_time": "2024-07-03T16:25:21.099139Z",
     "start_time": "2024-07-03T16:25:21.065362Z"
    }
   },
   "cell_type": "code",
   "source": "neighbors['NE':'NH']",
   "id": "24a5f929d9f0d808",
   "outputs": [
    {
     "data": {
      "text/plain": [
       "Empty DataFrame\n",
       "Columns: []\n",
       "Index: [(AK, Rowlandchester, 386 Rebecca Cove), (AK, Scottstad, 082 Leblanc Freeway), (AK, Scottstad, 114 Jones Garden), (AK, Stevenshire, 238 Andrew Rue), (AL, Clarkland, 430 Douglas Mission), (AL, East Bobbyside, 294 Mitchell Village), (AL, East Connie, 943 John Gardens), (AL, Kathrynstad, 356 Dodson Plains), (AL, Lonniestad, 643 Allen Estates), (AL, Port Jenniferfurt, 539 Horton Fork), (AL, Samuelville, 989 Dean Plains), (AL, Vegaside, 191 Mindy Meadows), (AR, Allisonland, 124 Diaz Brooks), (AR, New Larryshire, 372 Vazquez Isle), (AR, Russoshire, 499 Hinton Forks), (AR, Simmonsfurt, 154 Alexander Track), (AZ, Lake Davidshire, 943 Melissa Haven), (AZ, Tiffanyberg, 344 Ronald Groves), (AZ, West Richard, 847 Nelson Cape), (CA, Dustinmouth, 793 Cynthia Square), (CA, North Jennifer, 303 Alisha Road), (CA, Ryanfort, 934 David Run), (CO, Lake Robert, 049 Jordan Lane), (CO, Port Jeanette, 219 Henderson Glen), (CO, South Eugene, 654 Fisher Summit), (CT, East Jessicaland, 208 Todd Knolls), (CT, New Adrianhaven, 048 Brian Cove), (CT, Port Mike, 410 Keith Lodge), (CT, Sethstad, 139 Bailey Grove), (DC, East Jessica, 149 Norman Crossing), (DC, East Lisaview, 910 Sandy Ramp), (DC, Lake Christopher, 607 Montoya Harbors), (DC, New Janice, 477 Flores Cliff), (DC, Richardland, 419 Michael Squares), (DC, South Nathan, 631 Lynch Hill), (DE, Dustinmouth, 719 Dixon Ways), (DE, Lake Davidmouth, 051 Destiny Mission), (DE, Moonborough, 518 Christopher Springs), (DE, New Christopher, 822 Connie Dale), (DE, New Janice, 417 Simmons Spur), (DE, Port Michael, 328 Brian Cliff), (DE, Port Michael, 800 Christopher Haven), (DE, South Kayla, 731 Atkinson Knolls), (DE, South Tara, 047 Martinez Keys), (FL, Bryanchester, 481 Julie Meadows), (FL, Jacksonfort, 369 Victoria Road), (FL, Kingchester, 467 Lisa Mission), (FL, Port Melissaburgh, 393 Jennifer Parkway), (FL, West Miguelstad, 570 James Unions), (GA, Amyburgh, 941 Brian Expressway), (GA, New Carmenland, 943 James Lake), (GA, Spencechester, 570 Davis Isle), (GA, Tinaborough, 946 Lindsay Port), (GA, Trevorville, 283 Kelli Forest), (HI, Kathleenport, 507 White Vista), (HI, Lauratown, 595 Moore Corner), (HI, New Caroline, 302 Paul Spring), (HI, New Jennifer, 931 Pace Lights), (HI, Port Ronnietown, 323 William Club), (HI, Port Ronnietown, 710 Timothy Mountain), (HI, South Lauren, 073 Amanda Well), (HI, Timothystad, 393 Jasmine Hollow), (IA, Amyburgh, 163 Heather Neck), (IA, Chadburgh, 877 Smith Haven), (IA, East Brittany, 690 Gonzales Tunnel), (IA, East Christopher, 955 Hoffman Camp), (IA, Port Willieport, 320 Jennifer Mission), (ID, Andrewshire, 952 Ellis Drive), (ID, Patricktown, 215 Kathleen Flat), (ID, Spencechester, 523 Ali Stream), (ID, Thompsonview, 028 Ford Brook), (ID, Wellsville, 696 Weber Stravenue), (ID, West Anna, 544 Patel Locks), (ID, West Christophertown, 168 Brown Stravenue), (IN, East Deborahberg, 829 Melissa Mountain), (IN, Fisherborough, 975 Bell Fork), (IN, New Carmenland, 567 Ricky Trafficway), (IN, Simmonsfurt, 547 Miller Isle), (IN, Smithside, 347 Nicholas Shores), (IN, Wilsonborough, 066 Carr Road), (KS, Kaylamouth, 483 Freeman Via), (KS, Port Lindaberg, 008 Mitchell Highway), (KS, Shawnchester, 103 David Crest), (KS, South Karenberg, 141 Eric Lock), (KS, Timothystad, 194 Miller Grove), (KY, Bowmantown, 698 Lee Meadows), (KY, Hammondside, 751 Patton Squares), (LA, Danielmouth, 084 Jamie Tunnel), (LA, Jimenezview, 063 Cox Park), (LA, Port Michellemouth, 155 Ethan Island), (MA, Danielmouth, 539 Curry Station), (MA, Gonzalesbury, 770 Little Shoals), (MA, Stevenshire, 660 Anthony Path), (MD, Richardland, 695 Amy Ports), (MD, Sanchezmouth, 003 Daniel Via), (MD, West Miguelstad, 751 Walker Meadows), (ME, Kathleenport, 520 Ellis Meadows), (ME, Lake Ambertown, 654 Margaret Lake), (ME, Lake Timothy, 746 Jeffrey Bypass), (ME, Morrisonburgh, 335 Scott Manors), ...]\n",
       "\n",
       "[251 rows x 0 columns]"
      ],
      "text/html": [
       "<div>\n",
       "<style scoped>\n",
       "    .dataframe tbody tr th:only-of-type {\n",
       "        vertical-align: middle;\n",
       "    }\n",
       "\n",
       "    .dataframe tbody tr th {\n",
       "        vertical-align: top;\n",
       "    }\n",
       "\n",
       "    .dataframe thead th {\n",
       "        text-align: right;\n",
       "    }\n",
       "</style>\n",
       "<table border=\"1\" class=\"dataframe\">\n",
       "  <thead>\n",
       "    <tr style=\"text-align: right;\">\n",
       "      <th></th>\n",
       "      <th></th>\n",
       "      <th>Subcategory</th>\n",
       "    </tr>\n",
       "    <tr>\n",
       "      <th>State</th>\n",
       "      <th>City</th>\n",
       "      <th>Street</th>\n",
       "    </tr>\n",
       "  </thead>\n",
       "  <tbody>\n",
       "    <tr>\n",
       "      <th rowspan=\"4\" valign=\"top\">AK</th>\n",
       "      <th>Rowlandchester</th>\n",
       "      <th>386 Rebecca Cove</th>\n",
       "    </tr>\n",
       "    <tr>\n",
       "      <th rowspan=\"2\" valign=\"top\">Scottstad</th>\n",
       "      <th>082 Leblanc Freeway</th>\n",
       "    </tr>\n",
       "    <tr>\n",
       "      <th>114 Jones Garden</th>\n",
       "    </tr>\n",
       "    <tr>\n",
       "      <th>Stevenshire</th>\n",
       "      <th>238 Andrew Rue</th>\n",
       "    </tr>\n",
       "    <tr>\n",
       "      <th>AL</th>\n",
       "      <th>Clarkland</th>\n",
       "      <th>430 Douglas Mission</th>\n",
       "    </tr>\n",
       "    <tr>\n",
       "      <th>...</th>\n",
       "      <th>...</th>\n",
       "      <th>...</th>\n",
       "    </tr>\n",
       "    <tr>\n",
       "      <th rowspan=\"5\" valign=\"top\">WY</th>\n",
       "      <th rowspan=\"2\" valign=\"top\">Lake Nicole</th>\n",
       "      <th>754 Weaver Turnpike</th>\n",
       "    </tr>\n",
       "    <tr>\n",
       "      <th>933 Jennifer Burg</th>\n",
       "    </tr>\n",
       "    <tr>\n",
       "      <th>Martintown</th>\n",
       "      <th>013 Bell Mills</th>\n",
       "    </tr>\n",
       "    <tr>\n",
       "      <th>Port Jason</th>\n",
       "      <th>624 Faulkner Orchard</th>\n",
       "    </tr>\n",
       "    <tr>\n",
       "      <th>Reneeshire</th>\n",
       "      <th>717 Patel Square</th>\n",
       "    </tr>\n",
       "  </tbody>\n",
       "</table>\n",
       "<p>251 rows × 0 columns</p>\n",
       "</div>"
      ]
     },
     "execution_count": 51,
     "metadata": {},
     "output_type": "execute_result"
    }
   ],
   "execution_count": 51
  },
  {
   "metadata": {},
   "cell_type": "markdown",
   "source": [
    "Cross sections\n",
    "\n",
    "The xs method allows us to extract rows by providing a value for one MultiIndex level"
   ],
   "id": "352f4643e3fc40b"
  },
  {
   "metadata": {
    "ExecuteTime": {
     "end_time": "2024-07-03T16:37:20.411607Z",
     "start_time": "2024-07-03T16:37:20.389502Z"
    }
   },
   "cell_type": "code",
   "source": "neighbors.xs(key='Lake Nicole', level='City')",
   "id": "c54761907f97f535",
   "outputs": [
    {
     "data": {
      "text/plain": [
       "Category                      Culture         Services        \n",
       "Subcategory               Restaurants Museums   Police Schools\n",
       "State Street                                                  \n",
       "OR    650 Angela Track              D      C-        D       F\n",
       "WY    754 Weaver Turnpike           B      D-        B       D\n",
       "      933 Jennifer Burg             C      A+       A-       C"
      ],
      "text/html": [
       "<div>\n",
       "<style scoped>\n",
       "    .dataframe tbody tr th:only-of-type {\n",
       "        vertical-align: middle;\n",
       "    }\n",
       "\n",
       "    .dataframe tbody tr th {\n",
       "        vertical-align: top;\n",
       "    }\n",
       "\n",
       "    .dataframe thead tr th {\n",
       "        text-align: left;\n",
       "    }\n",
       "\n",
       "    .dataframe thead tr:last-of-type th {\n",
       "        text-align: right;\n",
       "    }\n",
       "</style>\n",
       "<table border=\"1\" class=\"dataframe\">\n",
       "  <thead>\n",
       "    <tr>\n",
       "      <th></th>\n",
       "      <th>Category</th>\n",
       "      <th colspan=\"2\" halign=\"left\">Culture</th>\n",
       "      <th colspan=\"2\" halign=\"left\">Services</th>\n",
       "    </tr>\n",
       "    <tr>\n",
       "      <th></th>\n",
       "      <th>Subcategory</th>\n",
       "      <th>Restaurants</th>\n",
       "      <th>Museums</th>\n",
       "      <th>Police</th>\n",
       "      <th>Schools</th>\n",
       "    </tr>\n",
       "    <tr>\n",
       "      <th>State</th>\n",
       "      <th>Street</th>\n",
       "      <th></th>\n",
       "      <th></th>\n",
       "      <th></th>\n",
       "      <th></th>\n",
       "    </tr>\n",
       "  </thead>\n",
       "  <tbody>\n",
       "    <tr>\n",
       "      <th>OR</th>\n",
       "      <th>650 Angela Track</th>\n",
       "      <td>D</td>\n",
       "      <td>C-</td>\n",
       "      <td>D</td>\n",
       "      <td>F</td>\n",
       "    </tr>\n",
       "    <tr>\n",
       "      <th rowspan=\"2\" valign=\"top\">WY</th>\n",
       "      <th>754 Weaver Turnpike</th>\n",
       "      <td>B</td>\n",
       "      <td>D-</td>\n",
       "      <td>B</td>\n",
       "      <td>D</td>\n",
       "    </tr>\n",
       "    <tr>\n",
       "      <th>933 Jennifer Burg</th>\n",
       "      <td>C</td>\n",
       "      <td>A+</td>\n",
       "      <td>A-</td>\n",
       "      <td>C</td>\n",
       "    </tr>\n",
       "  </tbody>\n",
       "</table>\n",
       "</div>"
      ]
     },
     "execution_count": 52,
     "metadata": {},
     "output_type": "execute_result"
    }
   ],
   "execution_count": 52
  }
 ],
 "metadata": {
  "kernelspec": {
   "display_name": "Python 3 (ipykernel)",
   "language": "python",
   "name": "python3"
  },
  "language_info": {
   "codemirror_mode": {
    "name": "ipython",
    "version": 3
   },
   "file_extension": ".py",
   "mimetype": "text/x-python",
   "name": "python",
   "nbconvert_exporter": "python",
   "pygments_lexer": "ipython3",
   "version": "3.12.4"
  }
 },
 "nbformat": 4,
 "nbformat_minor": 5
}
