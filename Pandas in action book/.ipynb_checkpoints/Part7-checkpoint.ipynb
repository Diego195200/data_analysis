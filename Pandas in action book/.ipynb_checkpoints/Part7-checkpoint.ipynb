{
 "cells": [
  {
   "metadata": {},
   "cell_type": "markdown",
   "source": "# MultiIndex DataFrames",
   "id": "69afe8fdceb2fb6"
  },
  {
   "metadata": {},
   "cell_type": "markdown",
   "source": [
    "We need only one label or one index position to locate a value in a Series. We need two reference points to locate a value in a DataFrame: a label/index for the rows and a label/index for the columns. Can we expand beyond two dimensions? Absolutely! Pandas supports data sets with any number of dimensions through the use of a MultiIndex.\n",
    "\n",
    "A multiIndex object is an index object that holds multiple levels\n",
    "\n",
    "Each level stores a value for the row\n",
    "\n",
    "A MultiIndex is also ideal for hierarchical data: data in which one column’s values are a subcategory of another column’s values."
   ],
   "id": "17f0b54b549e65c9"
  },
  {
   "cell_type": "code",
   "id": "initial_id",
   "metadata": {
    "collapsed": true,
    "ExecuteTime": {
     "end_time": "2024-07-03T13:53:18.174746Z",
     "start_time": "2024-07-03T13:53:16.709434Z"
    }
   },
   "source": [
    "import pandas as pd\n",
    "import numpy as np"
   ],
   "outputs": [],
   "execution_count": 1
  },
  {
   "metadata": {},
   "cell_type": "markdown",
   "source": "Let's create a MultiIndex from scratch",
   "id": "e57740f36ed4045d"
  },
  {
   "metadata": {
    "ExecuteTime": {
     "end_time": "2024-07-03T01:59:50.750458Z",
     "start_time": "2024-07-03T01:59:50.737294Z"
    }
   },
   "cell_type": "code",
   "source": [
    "addresses = [\n",
    "    ('8809 Flair Square', 'Toddside', 'IL', '37206'),\n",
    "    ('9901 Austin Street', 'Toddside', 'IL', '37206'),\n",
    "    ('905 Hogan Quarter', 'Franklin', 'IL', '37206')\n",
    "             ]\n",
    "addresses"
   ],
   "id": "94fc7de7aa82c7c9",
   "outputs": [
    {
     "data": {
      "text/plain": [
       "[('8809 Flair Square', 'Toddside', 'IL', '37206'),\n",
       " ('9901 Austin Street', 'Toddside', 'IL', '37206'),\n",
       " ('905 Hogan Quarter', 'Franklin', 'IL', '37206')]"
      ]
     },
     "execution_count": 37,
     "metadata": {},
     "output_type": "execute_result"
    }
   ],
   "execution_count": 37
  },
  {
   "metadata": {
    "ExecuteTime": {
     "end_time": "2024-07-03T02:11:45.787508Z",
     "start_time": "2024-07-03T02:11:45.750441Z"
    }
   },
   "cell_type": "code",
   "source": "pd.MultiIndex.from_tuples(addresses)",
   "id": "44ed63af27dd1465",
   "outputs": [
    {
     "data": {
      "text/plain": [
       "MultiIndex([( '8809 Flair Square', 'Toddside', 'IL', '37206'),\n",
       "            ('9901 Austin Street', 'Toddside', 'IL', '37206'),\n",
       "            ( '905 Hogan Quarter', 'Franklin', 'IL', '37206')],\n",
       "           )"
      ]
     },
     "execution_count": 38,
     "metadata": {},
     "output_type": "execute_result"
    }
   ],
   "execution_count": 38
  },
  {
   "metadata": {},
   "cell_type": "markdown",
   "source": [
    "In pandas terminology, the collection of tuple values at the same position forms a level\n",
    "of the MultiIndex."
   ],
   "id": "ff79b57cf7b6e8c4"
  },
  {
   "metadata": {},
   "cell_type": "markdown",
   "source": "We can set each multiindex level a name",
   "id": "3a119c235f37da8f"
  },
  {
   "metadata": {
    "ExecuteTime": {
     "end_time": "2024-07-03T02:22:46.978251Z",
     "start_time": "2024-07-03T02:22:46.967039Z"
    }
   },
   "cell_type": "code",
   "source": [
    "row_index = pd.MultiIndex.from_tuples(addresses, names=['Street', 'City', 'State', 'Zip'])\n",
    "row_index"
   ],
   "id": "17edd4d2f075d3a4",
   "outputs": [
    {
     "data": {
      "text/plain": [
       "MultiIndex([( '8809 Flair Square', 'Toddside', 'IL', '37206'),\n",
       "            ('9901 Austin Street', 'Toddside', 'IL', '37206'),\n",
       "            ( '905 Hogan Quarter', 'Franklin', 'IL', '37206')],\n",
       "           names=['Street', 'City', 'State', 'Zip'])"
      ]
     },
     "execution_count": 40,
     "metadata": {},
     "output_type": "execute_result"
    }
   ],
   "execution_count": 40
  },
  {
   "metadata": {},
   "cell_type": "markdown",
   "source": "Attaching our miltiindex to a dataframe",
   "id": "fbb25e3220481c3"
  },
  {
   "metadata": {
    "ExecuteTime": {
     "end_time": "2024-07-03T02:27:01.177768Z",
     "start_time": "2024-07-03T02:27:01.147401Z"
    }
   },
   "cell_type": "code",
   "source": [
    "data = [\n",
    "    ['A', 'B+'],\n",
    "    ['C+', 'C'],\n",
    "    ['D-', 'A']\n",
    "]\n",
    "columns = ['Schools', 'Cost Of Living']\n",
    "\n",
    "area_grades = pd.DataFrame(data, index=row_index, columns=columns)\n",
    "area_grades"
   ],
   "id": "1536de7cafb1433c",
   "outputs": [
    {
     "data": {
      "text/plain": [
       "                                        Schools Cost Of Living\n",
       "Street             City     State Zip                         \n",
       "8809 Flair Square  Toddside IL    37206       A             B+\n",
       "9901 Austin Street Toddside IL    37206      C+              C\n",
       "905 Hogan Quarter  Franklin IL    37206      D-              A"
      ],
      "text/html": [
       "<div>\n",
       "<style scoped>\n",
       "    .dataframe tbody tr th:only-of-type {\n",
       "        vertical-align: middle;\n",
       "    }\n",
       "\n",
       "    .dataframe tbody tr th {\n",
       "        vertical-align: top;\n",
       "    }\n",
       "\n",
       "    .dataframe thead th {\n",
       "        text-align: right;\n",
       "    }\n",
       "</style>\n",
       "<table border=\"1\" class=\"dataframe\">\n",
       "  <thead>\n",
       "    <tr style=\"text-align: right;\">\n",
       "      <th></th>\n",
       "      <th></th>\n",
       "      <th></th>\n",
       "      <th></th>\n",
       "      <th>Schools</th>\n",
       "      <th>Cost Of Living</th>\n",
       "    </tr>\n",
       "    <tr>\n",
       "      <th>Street</th>\n",
       "      <th>City</th>\n",
       "      <th>State</th>\n",
       "      <th>Zip</th>\n",
       "      <th></th>\n",
       "      <th></th>\n",
       "    </tr>\n",
       "  </thead>\n",
       "  <tbody>\n",
       "    <tr>\n",
       "      <th>8809 Flair Square</th>\n",
       "      <th>Toddside</th>\n",
       "      <th>IL</th>\n",
       "      <th>37206</th>\n",
       "      <td>A</td>\n",
       "      <td>B+</td>\n",
       "    </tr>\n",
       "    <tr>\n",
       "      <th>9901 Austin Street</th>\n",
       "      <th>Toddside</th>\n",
       "      <th>IL</th>\n",
       "      <th>37206</th>\n",
       "      <td>C+</td>\n",
       "      <td>C</td>\n",
       "    </tr>\n",
       "    <tr>\n",
       "      <th>905 Hogan Quarter</th>\n",
       "      <th>Franklin</th>\n",
       "      <th>IL</th>\n",
       "      <th>37206</th>\n",
       "      <td>D-</td>\n",
       "      <td>A</td>\n",
       "    </tr>\n",
       "  </tbody>\n",
       "</table>\n",
       "</div>"
      ]
     },
     "execution_count": 43,
     "metadata": {},
     "output_type": "execute_result"
    }
   ],
   "execution_count": 43
  },
  {
   "metadata": {
    "ExecuteTime": {
     "end_time": "2024-07-03T02:28:27.872440Z",
     "start_time": "2024-07-03T02:28:27.865698Z"
    }
   },
   "cell_type": "code",
   "source": "area_grades.columns",
   "id": "8119e2d277355f05",
   "outputs": [
    {
     "data": {
      "text/plain": [
       "Index(['Schools', 'Cost Of Living'], dtype='object')"
      ]
     },
     "execution_count": 44,
     "metadata": {},
     "output_type": "execute_result"
    }
   ],
   "execution_count": 44
  },
  {
   "metadata": {
    "ExecuteTime": {
     "end_time": "2024-07-03T02:31:49.921748Z",
     "start_time": "2024-07-03T02:31:49.913445Z"
    }
   },
   "cell_type": "code",
   "source": [
    "column_index = pd.MultiIndex.from_tuples(\n",
    "    [\n",
    "        ('Culture', 'Restaurants'),\n",
    "        ('Culture', 'Museums'),\n",
    "        ('Services', 'Police'),\n",
    "        ('Services', 'School')\n",
    "    ]\n",
    ")\n",
    "column_index"
   ],
   "id": "a3afd15ee7134f9b",
   "outputs": [
    {
     "data": {
      "text/plain": [
       "MultiIndex([( 'Culture', 'Restaurants'),\n",
       "            ( 'Culture',     'Museums'),\n",
       "            ('Services',      'Police'),\n",
       "            ('Services',      'School')],\n",
       "           )"
      ]
     },
     "execution_count": 45,
     "metadata": {},
     "output_type": "execute_result"
    }
   ],
   "execution_count": 45
  },
  {
   "metadata": {},
   "cell_type": "markdown",
   "source": "Now we need a dataframe with four columns because the column_index has 4 tuples",
   "id": "e8c4e888811afc36"
  },
  {
   "metadata": {
    "ExecuteTime": {
     "end_time": "2024-07-03T02:35:57.309154Z",
     "start_time": "2024-07-03T02:35:57.259180Z"
    }
   },
   "cell_type": "code",
   "source": [
    "data = [\n",
    "    ['C-', 'B+', 'B-', 'A'],\n",
    "    ['D+', 'C', 'A', 'C+'],\n",
    "    ['A-', 'A', 'D+', 'F']\n",
    "]\n",
    "\n",
    "pd.DataFrame(data, row_index, column_index)"
   ],
   "id": "2c9d3f6ca0ad2b51",
   "outputs": [
    {
     "data": {
      "text/plain": [
       "                                            Culture         Services       \n",
       "                                        Restaurants Museums   Police School\n",
       "Street             City     State Zip                                      \n",
       "8809 Flair Square  Toddside IL    37206          C-      B+       B-      A\n",
       "9901 Austin Street Toddside IL    37206          D+       C        A     C+\n",
       "905 Hogan Quarter  Franklin IL    37206          A-       A       D+      F"
      ],
      "text/html": [
       "<div>\n",
       "<style scoped>\n",
       "    .dataframe tbody tr th:only-of-type {\n",
       "        vertical-align: middle;\n",
       "    }\n",
       "\n",
       "    .dataframe tbody tr th {\n",
       "        vertical-align: top;\n",
       "    }\n",
       "\n",
       "    .dataframe thead tr th {\n",
       "        text-align: left;\n",
       "    }\n",
       "\n",
       "    .dataframe thead tr:last-of-type th {\n",
       "        text-align: right;\n",
       "    }\n",
       "</style>\n",
       "<table border=\"1\" class=\"dataframe\">\n",
       "  <thead>\n",
       "    <tr>\n",
       "      <th></th>\n",
       "      <th></th>\n",
       "      <th></th>\n",
       "      <th></th>\n",
       "      <th colspan=\"2\" halign=\"left\">Culture</th>\n",
       "      <th colspan=\"2\" halign=\"left\">Services</th>\n",
       "    </tr>\n",
       "    <tr>\n",
       "      <th></th>\n",
       "      <th></th>\n",
       "      <th></th>\n",
       "      <th></th>\n",
       "      <th>Restaurants</th>\n",
       "      <th>Museums</th>\n",
       "      <th>Police</th>\n",
       "      <th>School</th>\n",
       "    </tr>\n",
       "    <tr>\n",
       "      <th>Street</th>\n",
       "      <th>City</th>\n",
       "      <th>State</th>\n",
       "      <th>Zip</th>\n",
       "      <th></th>\n",
       "      <th></th>\n",
       "      <th></th>\n",
       "      <th></th>\n",
       "    </tr>\n",
       "  </thead>\n",
       "  <tbody>\n",
       "    <tr>\n",
       "      <th>8809 Flair Square</th>\n",
       "      <th>Toddside</th>\n",
       "      <th>IL</th>\n",
       "      <th>37206</th>\n",
       "      <td>C-</td>\n",
       "      <td>B+</td>\n",
       "      <td>B-</td>\n",
       "      <td>A</td>\n",
       "    </tr>\n",
       "    <tr>\n",
       "      <th>9901 Austin Street</th>\n",
       "      <th>Toddside</th>\n",
       "      <th>IL</th>\n",
       "      <th>37206</th>\n",
       "      <td>D+</td>\n",
       "      <td>C</td>\n",
       "      <td>A</td>\n",
       "      <td>C+</td>\n",
       "    </tr>\n",
       "    <tr>\n",
       "      <th>905 Hogan Quarter</th>\n",
       "      <th>Franklin</th>\n",
       "      <th>IL</th>\n",
       "      <th>37206</th>\n",
       "      <td>A-</td>\n",
       "      <td>A</td>\n",
       "      <td>D+</td>\n",
       "      <td>F</td>\n",
       "    </tr>\n",
       "  </tbody>\n",
       "</table>\n",
       "</div>"
      ]
     },
     "execution_count": 46,
     "metadata": {},
     "output_type": "execute_result"
    }
   ],
   "execution_count": 46
  },
  {
   "metadata": {},
   "cell_type": "markdown",
   "source": "# Working with neighbordhoods.csv",
   "id": "eecaedffe283acca"
  },
  {
   "metadata": {
    "ExecuteTime": {
     "end_time": "2024-07-03T13:53:46.342940Z",
     "start_time": "2024-07-03T13:53:46.325202Z"
    }
   },
   "cell_type": "code",
   "source": "neighbors = pd.read_csv('/home/diego/Documents/Data/neighborhoods.csv', index_col=[0, 1, 2], header=[0, 1])",
   "id": "c2547003aeaf21d9",
   "outputs": [],
   "execution_count": 2
  },
  {
   "metadata": {
    "ExecuteTime": {
     "end_time": "2024-07-03T13:53:48.748045Z",
     "start_time": "2024-07-03T13:53:48.708705Z"
    }
   },
   "cell_type": "code",
   "source": "neighbors.info()",
   "id": "d36e6bebdd4f4de0",
   "outputs": [
    {
     "name": "stdout",
     "output_type": "stream",
     "text": [
      "<class 'pandas.core.frame.DataFrame'>\n",
      "MultiIndex: 251 entries, ('MO', 'Fisherborough', '244 Tracy View') to ('NE', 'South Kennethmouth', '346 Wallace Pass')\n",
      "Data columns (total 4 columns):\n",
      " #   Column                  Non-Null Count  Dtype \n",
      "---  ------                  --------------  ----- \n",
      " 0   (Culture, Restaurants)  251 non-null    object\n",
      " 1   (Culture, Museums)      251 non-null    object\n",
      " 2   (Services, Police)      251 non-null    object\n",
      " 3   (Services, Schools)     251 non-null    object\n",
      "dtypes: object(4)\n",
      "memory usage: 27.1+ KB\n"
     ]
    }
   ],
   "execution_count": 3
  },
  {
   "metadata": {
    "ExecuteTime": {
     "end_time": "2024-07-03T13:54:29.008853Z",
     "start_time": "2024-07-03T13:54:28.980482Z"
    }
   },
   "cell_type": "code",
   "source": "neighbors",
   "id": "e926756f022cfc3",
   "outputs": [
    {
     "data": {
      "text/plain": [
       "                                               Culture         Services  \\\n",
       "                                           Restaurants Museums   Police   \n",
       "State City               Street                                           \n",
       "MO    Fisherborough      244 Tracy View             C+       F       D-   \n",
       "SD    Port Curtisville   446 Cynthia Inlet          C-       B        B   \n",
       "WV    Jimenezview        432 John Common             A      A+        F   \n",
       "AK    Stevenshire        238 Andrew Rue             D-       A       A-   \n",
       "ND    New Joshuaport     877 Walter Neck            D+      C-        B   \n",
       "...                                                ...     ...      ...   \n",
       "MI    North Matthew      055 Clayton Isle           B-       C        B   \n",
       "MT    Chadton            601 Richards Road          A-       D       D+   \n",
       "SC    Diazmouth          385 Robin Harbors           F       D       B-   \n",
       "VA    Laurentown         255 Gonzalez Land          C+      B-        F   \n",
       "NE    South Kennethmouth 346 Wallace Pass           C-      B-        A   \n",
       "\n",
       "                                                    \n",
       "                                           Schools  \n",
       "State City               Street                     \n",
       "MO    Fisherborough      244 Tracy View         A+  \n",
       "SD    Port Curtisville   446 Cynthia Inlet      D+  \n",
       "WV    Jimenezview        432 John Common         B  \n",
       "AK    Stevenshire        238 Andrew Rue         A-  \n",
       "ND    New Joshuaport     877 Walter Neck         B  \n",
       "...                                            ...  \n",
       "MI    North Matthew      055 Clayton Isle       C+  \n",
       "MT    Chadton            601 Richards Road       D  \n",
       "SC    Diazmouth          385 Robin Harbors      D+  \n",
       "VA    Laurentown         255 Gonzalez Land      D-  \n",
       "NE    South Kennethmouth 346 Wallace Pass       A-  \n",
       "\n",
       "[251 rows x 4 columns]"
      ],
      "text/html": [
       "<div>\n",
       "<style scoped>\n",
       "    .dataframe tbody tr th:only-of-type {\n",
       "        vertical-align: middle;\n",
       "    }\n",
       "\n",
       "    .dataframe tbody tr th {\n",
       "        vertical-align: top;\n",
       "    }\n",
       "\n",
       "    .dataframe thead tr th {\n",
       "        text-align: left;\n",
       "    }\n",
       "\n",
       "    .dataframe thead tr:last-of-type th {\n",
       "        text-align: right;\n",
       "    }\n",
       "</style>\n",
       "<table border=\"1\" class=\"dataframe\">\n",
       "  <thead>\n",
       "    <tr>\n",
       "      <th></th>\n",
       "      <th></th>\n",
       "      <th></th>\n",
       "      <th colspan=\"2\" halign=\"left\">Culture</th>\n",
       "      <th colspan=\"2\" halign=\"left\">Services</th>\n",
       "    </tr>\n",
       "    <tr>\n",
       "      <th></th>\n",
       "      <th></th>\n",
       "      <th></th>\n",
       "      <th>Restaurants</th>\n",
       "      <th>Museums</th>\n",
       "      <th>Police</th>\n",
       "      <th>Schools</th>\n",
       "    </tr>\n",
       "    <tr>\n",
       "      <th>State</th>\n",
       "      <th>City</th>\n",
       "      <th>Street</th>\n",
       "      <th></th>\n",
       "      <th></th>\n",
       "      <th></th>\n",
       "      <th></th>\n",
       "    </tr>\n",
       "  </thead>\n",
       "  <tbody>\n",
       "    <tr>\n",
       "      <th>MO</th>\n",
       "      <th>Fisherborough</th>\n",
       "      <th>244 Tracy View</th>\n",
       "      <td>C+</td>\n",
       "      <td>F</td>\n",
       "      <td>D-</td>\n",
       "      <td>A+</td>\n",
       "    </tr>\n",
       "    <tr>\n",
       "      <th>SD</th>\n",
       "      <th>Port Curtisville</th>\n",
       "      <th>446 Cynthia Inlet</th>\n",
       "      <td>C-</td>\n",
       "      <td>B</td>\n",
       "      <td>B</td>\n",
       "      <td>D+</td>\n",
       "    </tr>\n",
       "    <tr>\n",
       "      <th>WV</th>\n",
       "      <th>Jimenezview</th>\n",
       "      <th>432 John Common</th>\n",
       "      <td>A</td>\n",
       "      <td>A+</td>\n",
       "      <td>F</td>\n",
       "      <td>B</td>\n",
       "    </tr>\n",
       "    <tr>\n",
       "      <th>AK</th>\n",
       "      <th>Stevenshire</th>\n",
       "      <th>238 Andrew Rue</th>\n",
       "      <td>D-</td>\n",
       "      <td>A</td>\n",
       "      <td>A-</td>\n",
       "      <td>A-</td>\n",
       "    </tr>\n",
       "    <tr>\n",
       "      <th>ND</th>\n",
       "      <th>New Joshuaport</th>\n",
       "      <th>877 Walter Neck</th>\n",
       "      <td>D+</td>\n",
       "      <td>C-</td>\n",
       "      <td>B</td>\n",
       "      <td>B</td>\n",
       "    </tr>\n",
       "    <tr>\n",
       "      <th>...</th>\n",
       "      <th>...</th>\n",
       "      <th>...</th>\n",
       "      <td>...</td>\n",
       "      <td>...</td>\n",
       "      <td>...</td>\n",
       "      <td>...</td>\n",
       "    </tr>\n",
       "    <tr>\n",
       "      <th>MI</th>\n",
       "      <th>North Matthew</th>\n",
       "      <th>055 Clayton Isle</th>\n",
       "      <td>B-</td>\n",
       "      <td>C</td>\n",
       "      <td>B</td>\n",
       "      <td>C+</td>\n",
       "    </tr>\n",
       "    <tr>\n",
       "      <th>MT</th>\n",
       "      <th>Chadton</th>\n",
       "      <th>601 Richards Road</th>\n",
       "      <td>A-</td>\n",
       "      <td>D</td>\n",
       "      <td>D+</td>\n",
       "      <td>D</td>\n",
       "    </tr>\n",
       "    <tr>\n",
       "      <th>SC</th>\n",
       "      <th>Diazmouth</th>\n",
       "      <th>385 Robin Harbors</th>\n",
       "      <td>F</td>\n",
       "      <td>D</td>\n",
       "      <td>B-</td>\n",
       "      <td>D+</td>\n",
       "    </tr>\n",
       "    <tr>\n",
       "      <th>VA</th>\n",
       "      <th>Laurentown</th>\n",
       "      <th>255 Gonzalez Land</th>\n",
       "      <td>C+</td>\n",
       "      <td>B-</td>\n",
       "      <td>F</td>\n",
       "      <td>D-</td>\n",
       "    </tr>\n",
       "    <tr>\n",
       "      <th>NE</th>\n",
       "      <th>South Kennethmouth</th>\n",
       "      <th>346 Wallace Pass</th>\n",
       "      <td>C-</td>\n",
       "      <td>B-</td>\n",
       "      <td>A</td>\n",
       "      <td>A-</td>\n",
       "    </tr>\n",
       "  </tbody>\n",
       "</table>\n",
       "<p>251 rows × 4 columns</p>\n",
       "</div>"
      ]
     },
     "execution_count": 7,
     "metadata": {},
     "output_type": "execute_result"
    }
   ],
   "execution_count": 7
  },
  {
   "metadata": {
    "ExecuteTime": {
     "end_time": "2024-07-03T13:54:06.355595Z",
     "start_time": "2024-07-03T13:54:06.344047Z"
    }
   },
   "cell_type": "code",
   "source": "neighbors.index",
   "id": "b9364ef04312c9ae",
   "outputs": [
    {
     "data": {
      "text/plain": [
       "MultiIndex([('MO',      'Fisherborough',        '244 Tracy View'),\n",
       "            ('SD',   'Port Curtisville',     '446 Cynthia Inlet'),\n",
       "            ('WV',        'Jimenezview',       '432 John Common'),\n",
       "            ('AK',        'Stevenshire',        '238 Andrew Rue'),\n",
       "            ('ND',     'New Joshuaport',       '877 Walter Neck'),\n",
       "            ('ID',         'Wellsville',   '696 Weber Stravenue'),\n",
       "            ('TN',          'Jodiburgh',    '285 Justin Corners'),\n",
       "            ('DC',   'Lake Christopher',   '607 Montoya Harbors'),\n",
       "            ('OH',          'Port Mike',      '041 Michael Neck'),\n",
       "            ('ND',         'Hardyburgh', '550 Gilmore Mountains'),\n",
       "            ...\n",
       "            ('AK',          'Scottstad',      '114 Jones Garden'),\n",
       "            ('IA',    'Port Willieport',  '320 Jennifer Mission'),\n",
       "            ('ME',         'Port Linda',        '692 Hill Glens'),\n",
       "            ('KS',         'Kaylamouth',       '483 Freeman Via'),\n",
       "            ('WA',     'Port Shawnfort',    '691 Winters Bridge'),\n",
       "            ('MI',      'North Matthew',      '055 Clayton Isle'),\n",
       "            ('MT',            'Chadton',     '601 Richards Road'),\n",
       "            ('SC',          'Diazmouth',     '385 Robin Harbors'),\n",
       "            ('VA',         'Laurentown',     '255 Gonzalez Land'),\n",
       "            ('NE', 'South Kennethmouth',      '346 Wallace Pass')],\n",
       "           names=['State', 'City', 'Street'], length=251)"
      ]
     },
     "execution_count": 6,
     "metadata": {},
     "output_type": "execute_result"
    }
   ],
   "execution_count": 6
  },
  {
   "metadata": {
    "ExecuteTime": {
     "end_time": "2024-07-03T13:55:54.100725Z",
     "start_time": "2024-07-03T13:55:54.093825Z"
    }
   },
   "cell_type": "code",
   "source": "neighbors.columns",
   "id": "f8abd35a0d39ccc8",
   "outputs": [
    {
     "data": {
      "text/plain": [
       "MultiIndex([( 'Culture', 'Restaurants'),\n",
       "            ( 'Culture',     'Museums'),\n",
       "            ('Services',      'Police'),\n",
       "            ('Services',     'Schools')],\n",
       "           )"
      ]
     },
     "execution_count": 8,
     "metadata": {},
     "output_type": "execute_result"
    }
   ],
   "execution_count": 8
  },
  {
   "metadata": {
    "ExecuteTime": {
     "end_time": "2024-07-03T14:04:54.432166Z",
     "start_time": "2024-07-03T14:04:54.424902Z"
    }
   },
   "cell_type": "code",
   "source": "neighbors.index.get_level_values(1)",
   "id": "c4b212186e4d9cf5",
   "outputs": [
    {
     "data": {
      "text/plain": [
       "Index(['Fisherborough', 'Port Curtisville', 'Jimenezview', 'Stevenshire',\n",
       "       'New Joshuaport', 'Wellsville', 'Jodiburgh', 'Lake Christopher',\n",
       "       'Port Mike', 'Hardyburgh',\n",
       "       ...\n",
       "       'Scottstad', 'Port Willieport', 'Port Linda', 'Kaylamouth',\n",
       "       'Port Shawnfort', 'North Matthew', 'Chadton', 'Diazmouth', 'Laurentown',\n",
       "       'South Kennethmouth'],\n",
       "      dtype='object', name='City', length=251)"
      ]
     },
     "execution_count": 15,
     "metadata": {},
     "output_type": "execute_result"
    }
   ],
   "execution_count": 15
  },
  {
   "metadata": {
    "ExecuteTime": {
     "end_time": "2024-07-03T14:07:01.226789Z",
     "start_time": "2024-07-03T14:07:01.222183Z"
    }
   },
   "cell_type": "code",
   "source": "neighbors.columns.names = ['Category', 'Subcategory']",
   "id": "321c927b2d46dc1c",
   "outputs": [],
   "execution_count": 18
  },
  {
   "metadata": {
    "ExecuteTime": {
     "end_time": "2024-07-03T14:07:12.424092Z",
     "start_time": "2024-07-03T14:07:12.417136Z"
    }
   },
   "cell_type": "code",
   "source": "neighbors.columns.names",
   "id": "2ccb4687a169c9c7",
   "outputs": [
    {
     "data": {
      "text/plain": [
       "FrozenList(['Category', 'Subcategory'])"
      ]
     },
     "execution_count": 19,
     "metadata": {},
     "output_type": "execute_result"
    }
   ],
   "execution_count": 19
  },
  {
   "metadata": {
    "ExecuteTime": {
     "end_time": "2024-07-03T14:07:18.236860Z",
     "start_time": "2024-07-03T14:07:18.213163Z"
    }
   },
   "cell_type": "code",
   "source": "neighbors",
   "id": "5b1d5b936113cd00",
   "outputs": [
    {
     "data": {
      "text/plain": [
       "Category                                       Culture         Services  \\\n",
       "Subcategory                                Restaurants Museums   Police   \n",
       "State City               Street                                           \n",
       "MO    Fisherborough      244 Tracy View             C+       F       D-   \n",
       "SD    Port Curtisville   446 Cynthia Inlet          C-       B        B   \n",
       "WV    Jimenezview        432 John Common             A      A+        F   \n",
       "AK    Stevenshire        238 Andrew Rue             D-       A       A-   \n",
       "ND    New Joshuaport     877 Walter Neck            D+      C-        B   \n",
       "...                                                ...     ...      ...   \n",
       "MI    North Matthew      055 Clayton Isle           B-       C        B   \n",
       "MT    Chadton            601 Richards Road          A-       D       D+   \n",
       "SC    Diazmouth          385 Robin Harbors           F       D       B-   \n",
       "VA    Laurentown         255 Gonzalez Land          C+      B-        F   \n",
       "NE    South Kennethmouth 346 Wallace Pass           C-      B-        A   \n",
       "\n",
       "Category                                            \n",
       "Subcategory                                Schools  \n",
       "State City               Street                     \n",
       "MO    Fisherborough      244 Tracy View         A+  \n",
       "SD    Port Curtisville   446 Cynthia Inlet      D+  \n",
       "WV    Jimenezview        432 John Common         B  \n",
       "AK    Stevenshire        238 Andrew Rue         A-  \n",
       "ND    New Joshuaport     877 Walter Neck         B  \n",
       "...                                            ...  \n",
       "MI    North Matthew      055 Clayton Isle       C+  \n",
       "MT    Chadton            601 Richards Road       D  \n",
       "SC    Diazmouth          385 Robin Harbors      D+  \n",
       "VA    Laurentown         255 Gonzalez Land      D-  \n",
       "NE    South Kennethmouth 346 Wallace Pass       A-  \n",
       "\n",
       "[251 rows x 4 columns]"
      ],
      "text/html": [
       "<div>\n",
       "<style scoped>\n",
       "    .dataframe tbody tr th:only-of-type {\n",
       "        vertical-align: middle;\n",
       "    }\n",
       "\n",
       "    .dataframe tbody tr th {\n",
       "        vertical-align: top;\n",
       "    }\n",
       "\n",
       "    .dataframe thead tr th {\n",
       "        text-align: left;\n",
       "    }\n",
       "\n",
       "    .dataframe thead tr:last-of-type th {\n",
       "        text-align: right;\n",
       "    }\n",
       "</style>\n",
       "<table border=\"1\" class=\"dataframe\">\n",
       "  <thead>\n",
       "    <tr>\n",
       "      <th></th>\n",
       "      <th></th>\n",
       "      <th>Category</th>\n",
       "      <th colspan=\"2\" halign=\"left\">Culture</th>\n",
       "      <th colspan=\"2\" halign=\"left\">Services</th>\n",
       "    </tr>\n",
       "    <tr>\n",
       "      <th></th>\n",
       "      <th></th>\n",
       "      <th>Subcategory</th>\n",
       "      <th>Restaurants</th>\n",
       "      <th>Museums</th>\n",
       "      <th>Police</th>\n",
       "      <th>Schools</th>\n",
       "    </tr>\n",
       "    <tr>\n",
       "      <th>State</th>\n",
       "      <th>City</th>\n",
       "      <th>Street</th>\n",
       "      <th></th>\n",
       "      <th></th>\n",
       "      <th></th>\n",
       "      <th></th>\n",
       "    </tr>\n",
       "  </thead>\n",
       "  <tbody>\n",
       "    <tr>\n",
       "      <th>MO</th>\n",
       "      <th>Fisherborough</th>\n",
       "      <th>244 Tracy View</th>\n",
       "      <td>C+</td>\n",
       "      <td>F</td>\n",
       "      <td>D-</td>\n",
       "      <td>A+</td>\n",
       "    </tr>\n",
       "    <tr>\n",
       "      <th>SD</th>\n",
       "      <th>Port Curtisville</th>\n",
       "      <th>446 Cynthia Inlet</th>\n",
       "      <td>C-</td>\n",
       "      <td>B</td>\n",
       "      <td>B</td>\n",
       "      <td>D+</td>\n",
       "    </tr>\n",
       "    <tr>\n",
       "      <th>WV</th>\n",
       "      <th>Jimenezview</th>\n",
       "      <th>432 John Common</th>\n",
       "      <td>A</td>\n",
       "      <td>A+</td>\n",
       "      <td>F</td>\n",
       "      <td>B</td>\n",
       "    </tr>\n",
       "    <tr>\n",
       "      <th>AK</th>\n",
       "      <th>Stevenshire</th>\n",
       "      <th>238 Andrew Rue</th>\n",
       "      <td>D-</td>\n",
       "      <td>A</td>\n",
       "      <td>A-</td>\n",
       "      <td>A-</td>\n",
       "    </tr>\n",
       "    <tr>\n",
       "      <th>ND</th>\n",
       "      <th>New Joshuaport</th>\n",
       "      <th>877 Walter Neck</th>\n",
       "      <td>D+</td>\n",
       "      <td>C-</td>\n",
       "      <td>B</td>\n",
       "      <td>B</td>\n",
       "    </tr>\n",
       "    <tr>\n",
       "      <th>...</th>\n",
       "      <th>...</th>\n",
       "      <th>...</th>\n",
       "      <td>...</td>\n",
       "      <td>...</td>\n",
       "      <td>...</td>\n",
       "      <td>...</td>\n",
       "    </tr>\n",
       "    <tr>\n",
       "      <th>MI</th>\n",
       "      <th>North Matthew</th>\n",
       "      <th>055 Clayton Isle</th>\n",
       "      <td>B-</td>\n",
       "      <td>C</td>\n",
       "      <td>B</td>\n",
       "      <td>C+</td>\n",
       "    </tr>\n",
       "    <tr>\n",
       "      <th>MT</th>\n",
       "      <th>Chadton</th>\n",
       "      <th>601 Richards Road</th>\n",
       "      <td>A-</td>\n",
       "      <td>D</td>\n",
       "      <td>D+</td>\n",
       "      <td>D</td>\n",
       "    </tr>\n",
       "    <tr>\n",
       "      <th>SC</th>\n",
       "      <th>Diazmouth</th>\n",
       "      <th>385 Robin Harbors</th>\n",
       "      <td>F</td>\n",
       "      <td>D</td>\n",
       "      <td>B-</td>\n",
       "      <td>D+</td>\n",
       "    </tr>\n",
       "    <tr>\n",
       "      <th>VA</th>\n",
       "      <th>Laurentown</th>\n",
       "      <th>255 Gonzalez Land</th>\n",
       "      <td>C+</td>\n",
       "      <td>B-</td>\n",
       "      <td>F</td>\n",
       "      <td>D-</td>\n",
       "    </tr>\n",
       "    <tr>\n",
       "      <th>NE</th>\n",
       "      <th>South Kennethmouth</th>\n",
       "      <th>346 Wallace Pass</th>\n",
       "      <td>C-</td>\n",
       "      <td>B-</td>\n",
       "      <td>A</td>\n",
       "      <td>A-</td>\n",
       "    </tr>\n",
       "  </tbody>\n",
       "</table>\n",
       "<p>251 rows × 4 columns</p>\n",
       "</div>"
      ]
     },
     "execution_count": 20,
     "metadata": {},
     "output_type": "execute_result"
    }
   ],
   "execution_count": 20
  }
 ],
 "metadata": {
  "kernelspec": {
   "display_name": "Python 3",
   "language": "python",
   "name": "python3"
  },
  "language_info": {
   "codemirror_mode": {
    "name": "ipython",
    "version": 2
   },
   "file_extension": ".py",
   "mimetype": "text/x-python",
   "name": "python",
   "nbconvert_exporter": "python",
   "pygments_lexer": "ipython2",
   "version": "2.7.6"
  }
 },
 "nbformat": 4,
 "nbformat_minor": 5
}
