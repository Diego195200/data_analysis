{
 "cells": [
  {
   "metadata": {},
   "cell_type": "markdown",
   "source": [
    "# Series Object\n",
    "\n",
    "* A series is a one-dimensional object labeled array for homogeneous data\n",
    "* Pandas assigns each `Series` value a `label` an identifier we can use to locate the value\n",
    "* The series combine and expand Python's native structures\n",
    "* The best object to compare Series is with Python **dictionaries**\n"
   ],
   "id": "6eb436607e451fe0"
  },
  {
   "cell_type": "code",
   "id": "initial_id",
   "metadata": {
    "collapsed": true,
    "ExecuteTime": {
     "end_time": "2024-06-22T12:11:05.902082Z",
     "start_time": "2024-06-22T12:11:02.245604Z"
    }
   },
   "source": [
    "import pandas as pd\n",
    "import numpy as np"
   ],
   "outputs": [
    {
     "name": "stderr",
     "output_type": "stream",
     "text": [
      "/usr/lib/python3/dist-packages/pytz/__init__.py:31: SyntaxWarning: invalid escape sequence '\\s'\n",
      "  match = re.match(\"^#\\s*version\\s*([0-9a-z]*)\\s*$\", line)\n"
     ]
    }
   ],
   "execution_count": 1
  },
  {
   "metadata": {},
   "cell_type": "markdown",
   "source": "A Series object with no data",
   "id": "38f71905c01b38f"
  },
  {
   "metadata": {
    "ExecuteTime": {
     "end_time": "2024-06-20T14:12:40.933471Z",
     "start_time": "2024-06-20T14:12:40.917941Z"
    }
   },
   "cell_type": "code",
   "source": "pd.Series()",
   "id": "e4809b9e2764a34c",
   "outputs": [
    {
     "data": {
      "text/plain": [
       "Series([], dtype: object)"
      ]
     },
     "execution_count": 7,
     "metadata": {},
     "output_type": "execute_result"
    }
   ],
   "execution_count": 7
  },
  {
   "metadata": {},
   "cell_type": "markdown",
   "source": "Creating an object Series with data from a python list",
   "id": "fd1bce7c4bc8057b"
  },
  {
   "metadata": {
    "ExecuteTime": {
     "end_time": "2024-06-20T14:26:05.909856Z",
     "start_time": "2024-06-20T14:26:05.905101Z"
    }
   },
   "cell_type": "code",
   "source": "ice_cream_flavors = ['Chocolate', 'Vanilla', 'Strawberry', 'Rum Raisin',]",
   "id": "1c7a74460f35bf18",
   "outputs": [],
   "execution_count": 14
  },
  {
   "metadata": {},
   "cell_type": "markdown",
   "source": [
    "When instantiating a Series object, we se that it has two columns, the `index` and the `values`\n",
    "\n",
    "Index describes both the collection of identifiers and an individual identifier. By default, the index will be numbers starting from 0 and end in n-1"
   ],
   "id": "1121d624bc5250fd"
  },
  {
   "metadata": {},
   "cell_type": "markdown",
   "source": [
    "We have `index position` and `index label`\n",
    "\n",
    "We can reference a value by its position or by a key/label. In a sense, each value has two identifiers"
   ],
   "id": "204646ddf86ebf6d"
  },
  {
   "metadata": {
    "ExecuteTime": {
     "end_time": "2024-06-20T15:39:58.571363Z",
     "start_time": "2024-06-20T15:39:58.548593Z"
    }
   },
   "cell_type": "code",
   "source": [
    "# Series with index position (number) by default\n",
    "pd.Series(data=ice_cream_flavors)"
   ],
   "id": "b84982e57ca6c57c",
   "outputs": [
    {
     "data": {
      "text/plain": [
       "0     Chocolate\n",
       "1       Vanilla\n",
       "2    Strawberry\n",
       "3    Rum Raisin\n",
       "dtype: object"
      ]
     },
     "execution_count": 16,
     "metadata": {},
     "output_type": "execute_result"
    }
   ],
   "execution_count": 16
  },
  {
   "metadata": {
    "ExecuteTime": {
     "end_time": "2024-06-20T15:53:32.396340Z",
     "start_time": "2024-06-20T15:53:32.370311Z"
    }
   },
   "cell_type": "code",
   "source": [
    "# Series with both index position (inherent) and with index label (we put it)\n",
    "days_of_the_week = ('Monday', 'Wednesday', 'Friday', 'Saturday')\n",
    "\n",
    "pd.Series(data=ice_cream_flavors, index=days_of_the_week)"
   ],
   "id": "3737bdeb747621d4",
   "outputs": [
    {
     "data": {
      "text/plain": [
       "Monday        Chocolate\n",
       "Wednesday       Vanilla\n",
       "Friday       Strawberry\n",
       "Saturday     Rum Raisin\n",
       "dtype: object"
      ]
     },
     "execution_count": 18,
     "metadata": {},
     "output_type": "execute_result"
    }
   ],
   "execution_count": 18
  },
  {
   "metadata": {},
   "cell_type": "markdown",
   "source": "**So we always can access to values with an index position and with the label position (if it is provided**",
   "id": "1a5f59bd90226e5e"
  },
  {
   "metadata": {},
   "cell_type": "markdown",
   "source": "It is possible to have duplicated index labels. But we should avoid that",
   "id": "875d0fffd5ed953d"
  },
  {
   "metadata": {
    "ExecuteTime": {
     "end_time": "2024-06-20T15:57:25.135176Z",
     "start_time": "2024-06-20T15:57:25.118955Z"
    }
   },
   "cell_type": "code",
   "source": [
    "# Series with both index position (inherent) and with index label (we put it)\n",
    "days_of_the_week = ('Monday', 'Wednesday', 'Friday', 'Wednesday')\n",
    "\n",
    "pd.Series(data=ice_cream_flavors, index=days_of_the_week)"
   ],
   "id": "861befcc2ede47ec",
   "outputs": [
    {
     "data": {
      "text/plain": [
       "Monday        Chocolate\n",
       "Wednesday       Vanilla\n",
       "Friday       Strawberry\n",
       "Wednesday    Rum Raisin\n",
       "dtype: object"
      ]
     },
     "execution_count": 19,
     "metadata": {},
     "output_type": "execute_result"
    }
   ],
   "execution_count": 19
  },
  {
   "metadata": {},
   "cell_type": "markdown",
   "source": [
    "## missing values\n",
    "\n",
    "When pandas sees a missing value, it is substituted by a `nan` object. \n",
    "\n",
    "nan -> not a number\n",
    "\n",
    "Notice that pandas converts numeric values from integers to floating-points when it spots a `nan` value"
   ],
   "id": "197fbaf618cfc1b0"
  },
  {
   "metadata": {
    "ExecuteTime": {
     "end_time": "2024-06-20T16:24:18.247616Z",
     "start_time": "2024-06-20T16:24:18.233386Z"
    }
   },
   "cell_type": "code",
   "source": [
    "temperatures = [94, 88, np.nan, 91]\n",
    "pd.Series(data=temperatures)"
   ],
   "id": "75d5c5760b006c5c",
   "outputs": [
    {
     "data": {
      "text/plain": [
       "0    94.0\n",
       "1    88.0\n",
       "2     NaN\n",
       "3    91.0\n",
       "dtype: float64"
      ]
     },
     "execution_count": 21,
     "metadata": {},
     "output_type": "execute_result"
    }
   ],
   "execution_count": 21
  },
  {
   "metadata": {},
   "cell_type": "markdown",
   "source": "## constructing Series with other Python structures",
   "id": "9d51f4643dc465e0"
  },
  {
   "metadata": {
    "ExecuteTime": {
     "end_time": "2024-06-20T16:29:41.589123Z",
     "start_time": "2024-06-20T16:29:41.569090Z"
    }
   },
   "cell_type": "code",
   "source": [
    "# With dictionaries\n",
    "calorie_info = {\n",
    "    'Cereal': 125,\n",
    "    'Chocolate Bar': 406,\n",
    "    'Ice Cream Sundae': 342,\n",
    "}\n",
    "\n",
    "diet = pd.Series(data=calorie_info)\n",
    "diet"
   ],
   "id": "f14ce17ddc65a2e0",
   "outputs": [
    {
     "data": {
      "text/plain": [
       "Cereal              125\n",
       "Chocolate Bar       406\n",
       "Ice Cream Sundae    342\n",
       "dtype: int64"
      ]
     },
     "execution_count": 23,
     "metadata": {},
     "output_type": "execute_result"
    }
   ],
   "execution_count": 23
  },
  {
   "metadata": {
    "ExecuteTime": {
     "end_time": "2024-06-20T16:31:16.000414Z",
     "start_time": "2024-06-20T16:31:15.983060Z"
    }
   },
   "cell_type": "code",
   "source": [
    "# With tuples\n",
    "\n",
    "pd.Series(data=('Red', 'Green', 'Blue'))"
   ],
   "id": "a58416bf57af547",
   "outputs": [
    {
     "data": {
      "text/plain": [
       "0      Red\n",
       "1    Green\n",
       "2     Blue\n",
       "dtype: object"
      ]
     },
     "execution_count": 24,
     "metadata": {},
     "output_type": "execute_result"
    }
   ],
   "execution_count": 24
  },
  {
   "metadata": {
    "ExecuteTime": {
     "end_time": "2024-06-20T16:33:07.190770Z",
     "start_time": "2024-06-20T16:33:07.168055Z"
    }
   },
   "cell_type": "code",
   "source": [
    "# We can store any data, for example, tuples\n",
    "\n",
    "rgb_colors = [(120, 141, 26), (196, 165, 45)]\n",
    "pd.Series(data=rgb_colors)"
   ],
   "id": "cd18bdf98b2d456d",
   "outputs": [
    {
     "data": {
      "text/plain": [
       "0    (120, 141, 26)\n",
       "1    (196, 165, 45)\n",
       "dtype: object"
      ]
     },
     "execution_count": 25,
     "metadata": {},
     "output_type": "execute_result"
    }
   ],
   "execution_count": 25
  },
  {
   "metadata": {},
   "cell_type": "markdown",
   "source": "**We can't create a Series object with sets**",
   "id": "eea6468eafc36ec1"
  },
  {
   "metadata": {
    "ExecuteTime": {
     "end_time": "2024-06-20T16:34:47.040961Z",
     "start_time": "2024-06-20T16:34:46.778546Z"
    }
   },
   "cell_type": "code",
   "source": "pd.Series(data={1,2})",
   "id": "646cc0c5a1ea1e04",
   "outputs": [
    {
     "ename": "TypeError",
     "evalue": "'set' type is unordered",
     "output_type": "error",
     "traceback": [
      "\u001B[0;31m---------------------------------------------------------------------------\u001B[0m",
      "\u001B[0;31mTypeError\u001B[0m                                 Traceback (most recent call last)",
      "Cell \u001B[0;32mIn[26], line 1\u001B[0m\n\u001B[0;32m----> 1\u001B[0m \u001B[43mpd\u001B[49m\u001B[38;5;241;43m.\u001B[39;49m\u001B[43mSeries\u001B[49m\u001B[43m(\u001B[49m\u001B[43mdata\u001B[49m\u001B[38;5;241;43m=\u001B[39;49m\u001B[43m{\u001B[49m\u001B[38;5;241;43m1\u001B[39;49m\u001B[43m,\u001B[49m\u001B[38;5;241;43m2\u001B[39;49m\u001B[43m}\u001B[49m\u001B[43m)\u001B[49m\n",
      "File \u001B[0;32m~/.local/lib/python3.12/site-packages/pandas/core/series.py:584\u001B[0m, in \u001B[0;36mSeries.__init__\u001B[0;34m(self, data, index, dtype, name, copy, fastpath)\u001B[0m\n\u001B[1;32m    582\u001B[0m         data \u001B[38;5;241m=\u001B[39m data\u001B[38;5;241m.\u001B[39mcopy()\n\u001B[1;32m    583\u001B[0m \u001B[38;5;28;01melse\u001B[39;00m:\n\u001B[0;32m--> 584\u001B[0m     data \u001B[38;5;241m=\u001B[39m \u001B[43msanitize_array\u001B[49m\u001B[43m(\u001B[49m\u001B[43mdata\u001B[49m\u001B[43m,\u001B[49m\u001B[43m \u001B[49m\u001B[43mindex\u001B[49m\u001B[43m,\u001B[49m\u001B[43m \u001B[49m\u001B[43mdtype\u001B[49m\u001B[43m,\u001B[49m\u001B[43m \u001B[49m\u001B[43mcopy\u001B[49m\u001B[43m)\u001B[49m\n\u001B[1;32m    586\u001B[0m     manager \u001B[38;5;241m=\u001B[39m _get_option(\u001B[38;5;124m\"\u001B[39m\u001B[38;5;124mmode.data_manager\u001B[39m\u001B[38;5;124m\"\u001B[39m, silent\u001B[38;5;241m=\u001B[39m\u001B[38;5;28;01mTrue\u001B[39;00m)\n\u001B[1;32m    587\u001B[0m     \u001B[38;5;28;01mif\u001B[39;00m manager \u001B[38;5;241m==\u001B[39m \u001B[38;5;124m\"\u001B[39m\u001B[38;5;124mblock\u001B[39m\u001B[38;5;124m\"\u001B[39m:\n",
      "File \u001B[0;32m~/.local/lib/python3.12/site-packages/pandas/core/construction.py:642\u001B[0m, in \u001B[0;36msanitize_array\u001B[0;34m(data, index, dtype, copy, allow_2d)\u001B[0m\n\u001B[1;32m    633\u001B[0m     \u001B[38;5;28;01mreturn\u001B[39;00m sanitize_array(\n\u001B[1;32m    634\u001B[0m         data,\n\u001B[1;32m    635\u001B[0m         index\u001B[38;5;241m=\u001B[39mindex,\n\u001B[0;32m   (...)\u001B[0m\n\u001B[1;32m    638\u001B[0m         allow_2d\u001B[38;5;241m=\u001B[39mallow_2d,\n\u001B[1;32m    639\u001B[0m     )\n\u001B[1;32m    641\u001B[0m \u001B[38;5;28;01melse\u001B[39;00m:\n\u001B[0;32m--> 642\u001B[0m     \u001B[43m_sanitize_non_ordered\u001B[49m\u001B[43m(\u001B[49m\u001B[43mdata\u001B[49m\u001B[43m)\u001B[49m\n\u001B[1;32m    643\u001B[0m     \u001B[38;5;66;03m# materialize e.g. generators, convert e.g. tuples, abc.ValueView\u001B[39;00m\n\u001B[1;32m    644\u001B[0m     data \u001B[38;5;241m=\u001B[39m \u001B[38;5;28mlist\u001B[39m(data)\n",
      "File \u001B[0;32m~/.local/lib/python3.12/site-packages/pandas/core/construction.py:693\u001B[0m, in \u001B[0;36m_sanitize_non_ordered\u001B[0;34m(data)\u001B[0m\n\u001B[1;32m    689\u001B[0m \u001B[38;5;250m\u001B[39m\u001B[38;5;124;03m\"\"\"\u001B[39;00m\n\u001B[1;32m    690\u001B[0m \u001B[38;5;124;03mRaise only for unordered sets, e.g., not for dict_keys\u001B[39;00m\n\u001B[1;32m    691\u001B[0m \u001B[38;5;124;03m\"\"\"\u001B[39;00m\n\u001B[1;32m    692\u001B[0m \u001B[38;5;28;01mif\u001B[39;00m \u001B[38;5;28misinstance\u001B[39m(data, (\u001B[38;5;28mset\u001B[39m, \u001B[38;5;28mfrozenset\u001B[39m)):\n\u001B[0;32m--> 693\u001B[0m     \u001B[38;5;28;01mraise\u001B[39;00m \u001B[38;5;167;01mTypeError\u001B[39;00m(\u001B[38;5;124mf\u001B[39m\u001B[38;5;124m\"\u001B[39m\u001B[38;5;124m'\u001B[39m\u001B[38;5;132;01m{\u001B[39;00m\u001B[38;5;28mtype\u001B[39m(data)\u001B[38;5;241m.\u001B[39m\u001B[38;5;18m__name__\u001B[39m\u001B[38;5;132;01m}\u001B[39;00m\u001B[38;5;124m'\u001B[39m\u001B[38;5;124m type is unordered\u001B[39m\u001B[38;5;124m\"\u001B[39m)\n",
      "\u001B[0;31mTypeError\u001B[0m: 'set' type is unordered"
     ]
    }
   ],
   "execution_count": 26
  },
  {
   "metadata": {},
   "cell_type": "markdown",
   "source": "Series constructor also accepts ndarray object",
   "id": "98ce789f93eb7996"
  },
  {
   "metadata": {
    "ExecuteTime": {
     "end_time": "2024-06-20T16:43:10.863419Z",
     "start_time": "2024-06-20T16:43:10.846059Z"
    }
   },
   "cell_type": "code",
   "source": [
    "random_data = np.random.randint(1, 101, 10)\n",
    "random_data"
   ],
   "id": "5aa6358eab9949cb",
   "outputs": [
    {
     "data": {
      "text/plain": [
       "array([91, 34, 87, 53, 70, 79, 11, 84,  2, 86])"
      ]
     },
     "execution_count": 32,
     "metadata": {},
     "output_type": "execute_result"
    }
   ],
   "execution_count": 32
  },
  {
   "metadata": {
    "ExecuteTime": {
     "end_time": "2024-06-20T16:43:18.741021Z",
     "start_time": "2024-06-20T16:43:18.734646Z"
    }
   },
   "cell_type": "code",
   "source": "pd.Series(data=random_data)",
   "id": "64ee5af94e836a95",
   "outputs": [
    {
     "data": {
      "text/plain": [
       "0    91\n",
       "1    34\n",
       "2    87\n",
       "3    53\n",
       "4    70\n",
       "5    79\n",
       "6    11\n",
       "7    84\n",
       "8     2\n",
       "9    86\n",
       "dtype: int64"
      ]
     },
     "execution_count": 35,
     "metadata": {},
     "output_type": "execute_result"
    }
   ],
   "execution_count": 35
  },
  {
   "metadata": {},
   "cell_type": "markdown",
   "source": "# Series attributes",
   "id": "47d199b771923f5f"
  },
  {
   "metadata": {
    "ExecuteTime": {
     "end_time": "2024-06-20T16:58:40.215703Z",
     "start_time": "2024-06-20T16:58:40.208436Z"
    }
   },
   "cell_type": "code",
   "source": "diet",
   "id": "e7f214f6499e7226",
   "outputs": [
    {
     "data": {
      "text/plain": [
       "Cereal              125\n",
       "Chocolate Bar       406\n",
       "Ice Cream Sundae    342\n",
       "dtype: int64"
      ]
     },
     "execution_count": 50,
     "metadata": {},
     "output_type": "execute_result"
    }
   ],
   "execution_count": 50
  },
  {
   "metadata": {
    "ExecuteTime": {
     "end_time": "2024-06-20T16:49:30.436683Z",
     "start_time": "2024-06-20T16:49:30.413474Z"
    }
   },
   "cell_type": "code",
   "source": [
    "# from diet series\n",
    "\n",
    "# values attributes returns an ndarray Numpy objec\n",
    "diet.values"
   ],
   "id": "746345c8618e5824",
   "outputs": [
    {
     "data": {
      "text/plain": [
       "array([125, 406, 342])"
      ]
     },
     "execution_count": 39,
     "metadata": {},
     "output_type": "execute_result"
    }
   ],
   "execution_count": 39
  },
  {
   "metadata": {
    "ExecuteTime": {
     "end_time": "2024-06-20T16:54:32.238593Z",
     "start_time": "2024-06-20T16:54:32.228888Z"
    }
   },
   "cell_type": "code",
   "source": [
    "# index method returns an Index Pandas object\n",
    "diet.index"
   ],
   "id": "1a90a70efd5d2aa1",
   "outputs": [
    {
     "data": {
      "text/plain": [
       "Index(['Cereal', 'Chocolate Bar', 'Ice Cream Sundae'], dtype='object')"
      ]
     },
     "execution_count": 42,
     "metadata": {},
     "output_type": "execute_result"
    }
   ],
   "execution_count": 42
  },
  {
   "metadata": {
    "ExecuteTime": {
     "end_time": "2024-06-20T16:57:40.808103Z",
     "start_time": "2024-06-20T16:57:40.802090Z"
    }
   },
   "cell_type": "code",
   "source": "diet.dtype",
   "id": "cba5bb3b326ce6bf",
   "outputs": [
    {
     "data": {
      "text/plain": [
       "dtype('int64')"
      ]
     },
     "execution_count": 48,
     "metadata": {},
     "output_type": "execute_result"
    }
   ],
   "execution_count": 48
  },
  {
   "metadata": {
    "ExecuteTime": {
     "end_time": "2024-06-20T16:58:28.660822Z",
     "start_time": "2024-06-20T16:58:28.655792Z"
    }
   },
   "cell_type": "code",
   "source": "diet.size",
   "id": "7923ef68c7c1e4bf",
   "outputs": [
    {
     "data": {
      "text/plain": [
       "3"
      ]
     },
     "execution_count": 49,
     "metadata": {},
     "output_type": "execute_result"
    }
   ],
   "execution_count": 49
  },
  {
   "metadata": {
    "ExecuteTime": {
     "end_time": "2024-06-20T17:00:31.501818Z",
     "start_time": "2024-06-20T17:00:31.496205Z"
    }
   },
   "cell_type": "code",
   "source": "diet.shape",
   "id": "c186150a61a85fa2",
   "outputs": [
    {
     "data": {
      "text/plain": [
       "(3,)"
      ]
     },
     "execution_count": 52,
     "metadata": {},
     "output_type": "execute_result"
    }
   ],
   "execution_count": 52
  },
  {
   "metadata": {
    "ExecuteTime": {
     "end_time": "2024-06-20T17:05:24.014305Z",
     "start_time": "2024-06-20T17:05:24.006783Z"
    }
   },
   "cell_type": "code",
   "source": "diet.is_unique",
   "id": "897b3115c4608933",
   "outputs": [
    {
     "data": {
      "text/plain": [
       "True"
      ]
     },
     "execution_count": 53,
     "metadata": {},
     "output_type": "execute_result"
    }
   ],
   "execution_count": 53
  },
  {
   "metadata": {
    "ExecuteTime": {
     "end_time": "2024-06-20T17:08:55.007560Z",
     "start_time": "2024-06-20T17:08:55.000362Z"
    }
   },
   "cell_type": "code",
   "source": "diet.is_monotonic_increasing",
   "id": "e3ef5254513474f5",
   "outputs": [
    {
     "data": {
      "text/plain": [
       "False"
      ]
     },
     "execution_count": 58,
     "metadata": {},
     "output_type": "execute_result"
    }
   ],
   "execution_count": 58
  },
  {
   "metadata": {},
   "cell_type": "markdown",
   "source": "# Series methods",
   "id": "19bf426538c62c7b"
  },
  {
   "metadata": {
    "ExecuteTime": {
     "end_time": "2024-06-21T17:04:55.023726Z",
     "start_time": "2024-06-21T17:04:55.014054Z"
    }
   },
   "cell_type": "code",
   "source": [
    "# Create 100 values between 0 and 500 in increments of 5\n",
    "values = range(0, 500, 5)\n",
    "nums = pd.Series(data=values)\n"
   ],
   "id": "d43b2f2be07ae30d",
   "outputs": [
    {
     "data": {
      "text/plain": [
       "95    475\n",
       "96    480\n",
       "97    485\n",
       "98    490\n",
       "99    495\n",
       "dtype: int64"
      ]
     },
     "execution_count": 4,
     "metadata": {},
     "output_type": "execute_result"
    }
   ],
   "execution_count": 4
  },
  {
   "metadata": {
    "ExecuteTime": {
     "end_time": "2024-06-21T17:06:43.004690Z",
     "start_time": "2024-06-21T17:06:42.997816Z"
    }
   },
   "cell_type": "code",
   "source": "nums.head(3)",
   "id": "4256a3573a10de51",
   "outputs": [
    {
     "data": {
      "text/plain": [
       "0     0\n",
       "1     5\n",
       "2    10\n",
       "dtype: int64"
      ]
     },
     "execution_count": 6,
     "metadata": {},
     "output_type": "execute_result"
    }
   ],
   "execution_count": 6
  },
  {
   "metadata": {
    "ExecuteTime": {
     "end_time": "2024-06-21T17:09:46.960126Z",
     "start_time": "2024-06-21T17:09:46.942701Z"
    }
   },
   "cell_type": "code",
   "source": "nums.tail()",
   "id": "c810a1faf6024fdb",
   "outputs": [
    {
     "data": {
      "text/plain": [
       "95    475\n",
       "96    480\n",
       "97    485\n",
       "98    490\n",
       "99    495\n",
       "dtype: int64"
      ]
     },
     "execution_count": 9,
     "metadata": {},
     "output_type": "execute_result"
    }
   ],
   "execution_count": 9
  },
  {
   "metadata": {},
   "cell_type": "markdown",
   "source": "## mathematical operations",
   "id": "81a0fdb1d8d043da"
  },
  {
   "metadata": {
    "ExecuteTime": {
     "end_time": "2024-06-21T17:14:26.244104Z",
     "start_time": "2024-06-21T17:14:26.236935Z"
    }
   },
   "cell_type": "code",
   "source": [
    "numbers = pd.Series(data=[1, 2, 3, np.nan, 4, 5])\n",
    "numbers"
   ],
   "id": "9d418c60fb0b366",
   "outputs": [
    {
     "data": {
      "text/plain": [
       "0    1.0\n",
       "1    2.0\n",
       "2    3.0\n",
       "3    NaN\n",
       "4    4.0\n",
       "5    5.0\n",
       "dtype: float64"
      ]
     },
     "execution_count": 10,
     "metadata": {},
     "output_type": "execute_result"
    }
   ],
   "execution_count": 10
  },
  {
   "metadata": {
    "ExecuteTime": {
     "end_time": "2024-06-21T17:15:25.885161Z",
     "start_time": "2024-06-21T17:15:25.877709Z"
    }
   },
   "cell_type": "code",
   "source": [
    "# Count method counts the number of non-null values\n",
    "numbers.count()"
   ],
   "id": "d276adad328f5e27",
   "outputs": [
    {
     "data": {
      "text/plain": [
       "5"
      ]
     },
     "execution_count": 11,
     "metadata": {},
     "output_type": "execute_result"
    }
   ],
   "execution_count": 11
  },
  {
   "metadata": {},
   "cell_type": "markdown",
   "source": "### sum",
   "id": "adbdef2c641b224c"
  },
  {
   "metadata": {
    "ExecuteTime": {
     "end_time": "2024-06-21T17:20:18.405479Z",
     "start_time": "2024-06-21T17:20:18.398367Z"
    }
   },
   "cell_type": "code",
   "source": [
    "# Sum adds the values together\n",
    "numbers.sum()"
   ],
   "id": "817116c143dfba9e",
   "outputs": [
    {
     "data": {
      "text/plain": [
       "15.0"
      ]
     },
     "execution_count": 12,
     "metadata": {},
     "output_type": "execute_result"
    }
   ],
   "execution_count": 12
  },
  {
   "metadata": {},
   "cell_type": "markdown",
   "source": "We can't sum a number with a nan",
   "id": "9e9e29842160aee0"
  },
  {
   "metadata": {
    "ExecuteTime": {
     "end_time": "2024-06-21T17:28:24.539705Z",
     "start_time": "2024-06-21T17:28:24.522458Z"
    }
   },
   "cell_type": "code",
   "source": "3 + np.nan",
   "id": "7f9f1fa8d3dce006",
   "outputs": [
    {
     "data": {
      "text/plain": [
       "nan"
      ]
     },
     "execution_count": 13,
     "metadata": {},
     "output_type": "execute_result"
    }
   ],
   "execution_count": 13
  },
  {
   "metadata": {
    "ExecuteTime": {
     "end_time": "2024-06-21T17:29:21.301287Z",
     "start_time": "2024-06-21T17:29:21.293703Z"
    }
   },
   "cell_type": "code",
   "source": [
    "# se when change to False the skipna parameter\n",
    "numbers.sum(skipna=False)"
   ],
   "id": "7cab657c6410545b",
   "outputs": [
    {
     "data": {
      "text/plain": [
       "nan"
      ]
     },
     "execution_count": 14,
     "metadata": {},
     "output_type": "execute_result"
    }
   ],
   "execution_count": 14
  },
  {
   "metadata": {
    "ExecuteTime": {
     "end_time": "2024-06-21T17:34:48.600692Z",
     "start_time": "2024-06-21T17:34:48.590814Z"
    }
   },
   "cell_type": "code",
   "source": [
    "# using the min_count to set the minimum number of valid values, a series must hold to calculate the sum\n",
    "\n",
    "# when set to 0, it means at least it is necessary 0 values to make the sum\n",
    "\n",
    "numbers.sum(min_count=0) # min 0 values to the sum"
   ],
   "id": "30d9ca367f0f2086",
   "outputs": [
    {
     "data": {
      "text/plain": [
       "15.0"
      ]
     },
     "execution_count": 18,
     "metadata": {},
     "output_type": "execute_result"
    }
   ],
   "execution_count": 18
  },
  {
   "metadata": {},
   "cell_type": "markdown",
   "source": [
    "By default `min_count` is 0\n",
    "\n",
    "Valid values: all except nan"
   ],
   "id": "ad65ececc99b641"
  },
  {
   "metadata": {
    "ExecuteTime": {
     "end_time": "2024-06-21T17:35:24.579582Z",
     "start_time": "2024-06-21T17:35:24.572322Z"
    }
   },
   "cell_type": "code",
   "source": "numbers.sum(min_count=6)  # min 6 values, we don't have 6 values in our series, hence this sum won't work",
   "id": "e877c63d122b7e21",
   "outputs": [
    {
     "data": {
      "text/plain": [
       "nan"
      ]
     },
     "execution_count": 19,
     "metadata": {},
     "output_type": "execute_result"
    }
   ],
   "execution_count": 19
  },
  {
   "metadata": {},
   "cell_type": "markdown",
   "source": [
    "### product\n",
    "\n",
    "Multiplies all Series values together\n",
    "\n",
    "Also accepts `skipna` and `min_count` parameters"
   ],
   "id": "a874ca5e0229cb6e"
  },
  {
   "metadata": {
    "ExecuteTime": {
     "end_time": "2024-06-21T17:55:06.716544Z",
     "start_time": "2024-06-21T17:55:06.708986Z"
    }
   },
   "cell_type": "code",
   "source": "numbers.prod()",
   "id": "a24ccca746846d7",
   "outputs": [
    {
     "data": {
      "text/plain": [
       "120.0"
      ]
     },
     "execution_count": 28,
     "metadata": {},
     "output_type": "execute_result"
    }
   ],
   "execution_count": 28
  },
  {
   "metadata": {
    "ExecuteTime": {
     "end_time": "2024-06-21T17:55:08.034196Z",
     "start_time": "2024-06-21T17:55:08.027935Z"
    }
   },
   "cell_type": "code",
   "source": "numbers.prod(skipna=False)",
   "id": "a225d78760e13ddd",
   "outputs": [
    {
     "data": {
      "text/plain": [
       "nan"
      ]
     },
     "execution_count": 29,
     "metadata": {},
     "output_type": "execute_result"
    }
   ],
   "execution_count": 29
  },
  {
   "metadata": {
    "ExecuteTime": {
     "end_time": "2024-06-21T17:55:03.065328Z",
     "start_time": "2024-06-21T17:55:03.058263Z"
    }
   },
   "cell_type": "code",
   "source": "numbers.prod(min_count=7)  # our series object has 5 valid values",
   "id": "56f6a106559af516",
   "outputs": [
    {
     "data": {
      "text/plain": [
       "nan"
      ]
     },
     "execution_count": 27,
     "metadata": {},
     "output_type": "execute_result"
    }
   ],
   "execution_count": 27
  },
  {
   "metadata": {},
   "cell_type": "markdown",
   "source": [
    "### cumsum\n",
    "\n",
    "Cumulative sum returns a new Series with a rolling sum of the values"
   ],
   "id": "bdcaeec003218413"
  },
  {
   "metadata": {
    "ExecuteTime": {
     "end_time": "2024-06-21T17:56:28.532131Z",
     "start_time": "2024-06-21T17:56:28.522191Z"
    }
   },
   "cell_type": "code",
   "source": "numbers",
   "id": "bae8785936d4b01a",
   "outputs": [
    {
     "data": {
      "text/plain": [
       "0    1.0\n",
       "1    2.0\n",
       "2    3.0\n",
       "3    NaN\n",
       "4    4.0\n",
       "5    5.0\n",
       "dtype: float64"
      ]
     },
     "execution_count": 32,
     "metadata": {},
     "output_type": "execute_result"
    }
   ],
   "execution_count": 32
  },
  {
   "metadata": {
    "ExecuteTime": {
     "end_time": "2024-06-21T17:56:17.667800Z",
     "start_time": "2024-06-21T17:56:17.658639Z"
    }
   },
   "cell_type": "code",
   "source": "numbers.cumsum()",
   "id": "c11bcc6a3b14b743",
   "outputs": [
    {
     "data": {
      "text/plain": [
       "0     1.0\n",
       "1     3.0\n",
       "2     6.0\n",
       "3     NaN\n",
       "4    10.0\n",
       "5    15.0\n",
       "dtype: float64"
      ]
     },
     "execution_count": 31,
     "metadata": {},
     "output_type": "execute_result"
    }
   ],
   "execution_count": 31
  },
  {
   "metadata": {
    "ExecuteTime": {
     "end_time": "2024-06-21T18:24:53.815001Z",
     "start_time": "2024-06-21T18:24:53.805425Z"
    }
   },
   "cell_type": "code",
   "source": [
    "# If we change the skipna to False, then\n",
    "numbers.cumsum(skipna=False)"
   ],
   "id": "7eb8198473f61043",
   "outputs": [
    {
     "data": {
      "text/plain": [
       "0    1.0\n",
       "1    3.0\n",
       "2    6.0\n",
       "3    NaN\n",
       "4    NaN\n",
       "5    NaN\n",
       "dtype: float64"
      ]
     },
     "execution_count": 35,
     "metadata": {},
     "output_type": "execute_result"
    }
   ],
   "execution_count": 35
  },
  {
   "metadata": {},
   "cell_type": "markdown",
   "source": [
    "### pct_change\n",
    "\n",
    "Returns the percentage difference from one Series value to the next\n",
    "\n",
    "It uses a *forward fill* in case of nan values, using the previous valid value encountered to perform the operation"
   ],
   "id": "58a2abc9a42d3b2b"
  },
  {
   "metadata": {
    "ExecuteTime": {
     "end_time": "2024-06-21T18:26:00.138844Z",
     "start_time": "2024-06-21T18:26:00.128548Z"
    }
   },
   "cell_type": "code",
   "source": "numbers",
   "id": "f1a203ae5a8e1822",
   "outputs": [
    {
     "data": {
      "text/plain": [
       "0    1.0\n",
       "1    2.0\n",
       "2    3.0\n",
       "3    NaN\n",
       "4    4.0\n",
       "5    5.0\n",
       "dtype: float64"
      ]
     },
     "execution_count": 36,
     "metadata": {},
     "output_type": "execute_result"
    }
   ],
   "execution_count": 36
  },
  {
   "metadata": {
    "ExecuteTime": {
     "end_time": "2024-06-21T18:26:12.475906Z",
     "start_time": "2024-06-21T18:26:12.442280Z"
    }
   },
   "cell_type": "code",
   "source": "numbers.pct_change()",
   "id": "74a68e8f8c415e1f",
   "outputs": [
    {
     "name": "stderr",
     "output_type": "stream",
     "text": [
      "/tmp/ipykernel_5260/463408457.py:1: FutureWarning: The default fill_method='pad' in Series.pct_change is deprecated and will be removed in a future version. Either fill in any non-leading NA values prior to calling pct_change or specify 'fill_method=None' to not fill NA values.\n",
      "  numbers.pct_change()\n"
     ]
    },
    {
     "data": {
      "text/plain": [
       "0         NaN\n",
       "1    1.000000\n",
       "2    0.500000\n",
       "3    0.000000\n",
       "4    0.333333\n",
       "5    0.250000\n",
       "dtype: float64"
      ]
     },
     "execution_count": 37,
     "metadata": {},
     "output_type": "execute_result"
    }
   ],
   "execution_count": 37
  },
  {
   "metadata": {},
   "cell_type": "markdown",
   "source": "### mean",
   "id": "2d83788096fcb2fd"
  },
  {
   "metadata": {
    "ExecuteTime": {
     "end_time": "2024-06-21T18:43:49.419602Z",
     "start_time": "2024-06-21T18:43:49.410573Z"
    }
   },
   "cell_type": "code",
   "source": "numbers.mean()",
   "id": "edce93954cbca576",
   "outputs": [
    {
     "data": {
      "text/plain": [
       "3.0"
      ]
     },
     "execution_count": 40,
     "metadata": {},
     "output_type": "execute_result"
    }
   ],
   "execution_count": 40
  },
  {
   "metadata": {},
   "cell_type": "markdown",
   "source": "### median",
   "id": "614eb6f79a0cf6bb"
  },
  {
   "metadata": {
    "ExecuteTime": {
     "end_time": "2024-06-21T18:45:09.674292Z",
     "start_time": "2024-06-21T18:45:09.668551Z"
    }
   },
   "cell_type": "code",
   "source": "numbers.median()",
   "id": "45de25cdfc736469",
   "outputs": [
    {
     "data": {
      "text/plain": [
       "3.0"
      ]
     },
     "execution_count": 41,
     "metadata": {},
     "output_type": "execute_result"
    }
   ],
   "execution_count": 41
  },
  {
   "metadata": {},
   "cell_type": "markdown",
   "source": [
    "### standard deviation\n",
    "\n",
    "ddof: delta degrees of freedom (by default N-1, ddof=1)"
   ],
   "id": "14d3788be7b9f760"
  },
  {
   "metadata": {
    "ExecuteTime": {
     "end_time": "2024-06-21T18:48:41.642876Z",
     "start_time": "2024-06-21T18:48:41.625400Z"
    }
   },
   "cell_type": "code",
   "source": "numbers.std()",
   "id": "7dc64d036b34a21",
   "outputs": [
    {
     "data": {
      "text/plain": [
       "1.5811388300841898"
      ]
     },
     "execution_count": 42,
     "metadata": {},
     "output_type": "execute_result"
    }
   ],
   "execution_count": 42
  },
  {
   "metadata": {},
   "cell_type": "markdown",
   "source": "### max and min",
   "id": "109338500be2bf76"
  },
  {
   "metadata": {
    "ExecuteTime": {
     "end_time": "2024-06-21T18:53:36.532427Z",
     "start_time": "2024-06-21T18:53:36.526182Z"
    }
   },
   "cell_type": "code",
   "source": "numbers.max()",
   "id": "e25fd2739205d633",
   "outputs": [
    {
     "data": {
      "text/plain": [
       "5.0"
      ]
     },
     "execution_count": 43,
     "metadata": {},
     "output_type": "execute_result"
    }
   ],
   "execution_count": 43
  },
  {
   "metadata": {
    "ExecuteTime": {
     "end_time": "2024-06-21T18:53:42.329152Z",
     "start_time": "2024-06-21T18:53:42.323269Z"
    }
   },
   "cell_type": "code",
   "source": "numbers.min()",
   "id": "f599f07bc6aeb94f",
   "outputs": [
    {
     "data": {
      "text/plain": [
       "1.0"
      ]
     },
     "execution_count": 44,
     "metadata": {},
     "output_type": "execute_result"
    }
   ],
   "execution_count": 44
  },
  {
   "metadata": {},
   "cell_type": "markdown",
   "source": "Pandas sorts a string series alphabetically",
   "id": "34133ea9fb0c43e5"
  },
  {
   "metadata": {
    "ExecuteTime": {
     "end_time": "2024-06-21T18:57:16.008242Z",
     "start_time": "2024-06-21T18:57:15.999177Z"
    }
   },
   "cell_type": "code",
   "source": [
    "animals = pd.Series(data=['koala', 'aardvark', 'zebra'])\n",
    "animals"
   ],
   "id": "1e82579f8713c756",
   "outputs": [
    {
     "data": {
      "text/plain": [
       "0       koala\n",
       "1    aardvark\n",
       "2       zebra\n",
       "dtype: object"
      ]
     },
     "execution_count": 46,
     "metadata": {},
     "output_type": "execute_result"
    }
   ],
   "execution_count": 46
  },
  {
   "metadata": {
    "ExecuteTime": {
     "end_time": "2024-06-21T18:57:23.464277Z",
     "start_time": "2024-06-21T18:57:23.455117Z"
    }
   },
   "cell_type": "code",
   "source": "animals.min()",
   "id": "8d5531afd598d2d5",
   "outputs": [
    {
     "data": {
      "text/plain": [
       "'aardvark'"
      ]
     },
     "execution_count": 47,
     "metadata": {},
     "output_type": "execute_result"
    }
   ],
   "execution_count": 47
  },
  {
   "metadata": {
    "ExecuteTime": {
     "end_time": "2024-06-21T18:57:31.906338Z",
     "start_time": "2024-06-21T18:57:31.892153Z"
    }
   },
   "cell_type": "code",
   "source": "animals.max()",
   "id": "fcb7f1a2b9846649",
   "outputs": [
    {
     "data": {
      "text/plain": [
       "'zebra'"
      ]
     },
     "execution_count": 48,
     "metadata": {},
     "output_type": "execute_result"
    }
   ],
   "execution_count": 48
  },
  {
   "metadata": {},
   "cell_type": "markdown",
   "source": [
    "### describe()\n",
    "\n",
    "get the previous operations in one step\n"
   ],
   "id": "f8740fa081b4e2bb"
  },
  {
   "metadata": {
    "ExecuteTime": {
     "end_time": "2024-06-21T18:59:11.908821Z",
     "start_time": "2024-06-21T18:59:11.891786Z"
    }
   },
   "cell_type": "code",
   "source": "numbers",
   "id": "eba95c60a81e7dc",
   "outputs": [
    {
     "data": {
      "text/plain": [
       "0    1.0\n",
       "1    2.0\n",
       "2    3.0\n",
       "3    NaN\n",
       "4    4.0\n",
       "5    5.0\n",
       "dtype: float64"
      ]
     },
     "execution_count": 50,
     "metadata": {},
     "output_type": "execute_result"
    }
   ],
   "execution_count": 50
  },
  {
   "metadata": {
    "ExecuteTime": {
     "end_time": "2024-06-21T18:58:56.703672Z",
     "start_time": "2024-06-21T18:58:56.691181Z"
    }
   },
   "cell_type": "code",
   "source": "numbers.describe()",
   "id": "dc41d38c98b7bdd1",
   "outputs": [
    {
     "data": {
      "text/plain": [
       "count    5.000000\n",
       "mean     3.000000\n",
       "std      1.581139\n",
       "min      1.000000\n",
       "25%      2.000000\n",
       "50%      3.000000\n",
       "75%      4.000000\n",
       "max      5.000000\n",
       "dtype: float64"
      ]
     },
     "execution_count": 49,
     "metadata": {},
     "output_type": "execute_result"
    }
   ],
   "execution_count": 49
  },
  {
   "metadata": {},
   "cell_type": "markdown",
   "source": [
    "### sample\n",
    "\n",
    "selects a random assortment of values from the series\n",
    "\n",
    "By default returns just one element\n",
    "\n",
    "If `replace` is True, we can do a sample of more than the total of values in the series, if false, just as maximum the total"
   ],
   "id": "5cf0060a278db5"
  },
  {
   "metadata": {
    "ExecuteTime": {
     "end_time": "2024-06-21T19:11:57.996879Z",
     "start_time": "2024-06-21T19:11:57.939520Z"
    }
   },
   "cell_type": "code",
   "source": "numbers.sample(7)  # larger than total",
   "id": "7c62eba9d95686a8",
   "outputs": [
    {
     "ename": "ValueError",
     "evalue": "Cannot take a larger sample than population when 'replace=False'",
     "output_type": "error",
     "traceback": [
      "\u001B[0;31m---------------------------------------------------------------------------\u001B[0m",
      "\u001B[0;31mValueError\u001B[0m                                Traceback (most recent call last)",
      "Cell \u001B[0;32mIn[62], line 1\u001B[0m\n\u001B[0;32m----> 1\u001B[0m \u001B[43mnumbers\u001B[49m\u001B[38;5;241;43m.\u001B[39;49m\u001B[43msample\u001B[49m\u001B[43m(\u001B[49m\u001B[38;5;241;43m7\u001B[39;49m\u001B[43m)\u001B[49m\n",
      "File \u001B[0;32m~/.local/lib/python3.12/site-packages/pandas/core/generic.py:6118\u001B[0m, in \u001B[0;36mNDFrame.sample\u001B[0;34m(self, n, frac, replace, weights, random_state, axis, ignore_index)\u001B[0m\n\u001B[1;32m   6115\u001B[0m \u001B[38;5;28;01mif\u001B[39;00m weights \u001B[38;5;129;01mis\u001B[39;00m \u001B[38;5;129;01mnot\u001B[39;00m \u001B[38;5;28;01mNone\u001B[39;00m:\n\u001B[1;32m   6116\u001B[0m     weights \u001B[38;5;241m=\u001B[39m sample\u001B[38;5;241m.\u001B[39mpreprocess_weights(\u001B[38;5;28mself\u001B[39m, weights, axis)\n\u001B[0;32m-> 6118\u001B[0m sampled_indices \u001B[38;5;241m=\u001B[39m \u001B[43msample\u001B[49m\u001B[38;5;241;43m.\u001B[39;49m\u001B[43msample\u001B[49m\u001B[43m(\u001B[49m\u001B[43mobj_len\u001B[49m\u001B[43m,\u001B[49m\u001B[43m \u001B[49m\u001B[43msize\u001B[49m\u001B[43m,\u001B[49m\u001B[43m \u001B[49m\u001B[43mreplace\u001B[49m\u001B[43m,\u001B[49m\u001B[43m \u001B[49m\u001B[43mweights\u001B[49m\u001B[43m,\u001B[49m\u001B[43m \u001B[49m\u001B[43mrs\u001B[49m\u001B[43m)\u001B[49m\n\u001B[1;32m   6119\u001B[0m result \u001B[38;5;241m=\u001B[39m \u001B[38;5;28mself\u001B[39m\u001B[38;5;241m.\u001B[39mtake(sampled_indices, axis\u001B[38;5;241m=\u001B[39maxis)\n\u001B[1;32m   6121\u001B[0m \u001B[38;5;28;01mif\u001B[39;00m ignore_index:\n",
      "File \u001B[0;32m~/.local/lib/python3.12/site-packages/pandas/core/sample.py:152\u001B[0m, in \u001B[0;36msample\u001B[0;34m(obj_len, size, replace, weights, random_state)\u001B[0m\n\u001B[1;32m    149\u001B[0m     \u001B[38;5;28;01melse\u001B[39;00m:\n\u001B[1;32m    150\u001B[0m         \u001B[38;5;28;01mraise\u001B[39;00m \u001B[38;5;167;01mValueError\u001B[39;00m(\u001B[38;5;124m\"\u001B[39m\u001B[38;5;124mInvalid weights: weights sum to zero\u001B[39m\u001B[38;5;124m\"\u001B[39m)\n\u001B[0;32m--> 152\u001B[0m \u001B[38;5;28;01mreturn\u001B[39;00m \u001B[43mrandom_state\u001B[49m\u001B[38;5;241;43m.\u001B[39;49m\u001B[43mchoice\u001B[49m\u001B[43m(\u001B[49m\u001B[43mobj_len\u001B[49m\u001B[43m,\u001B[49m\u001B[43m \u001B[49m\u001B[43msize\u001B[49m\u001B[38;5;241;43m=\u001B[39;49m\u001B[43msize\u001B[49m\u001B[43m,\u001B[49m\u001B[43m \u001B[49m\u001B[43mreplace\u001B[49m\u001B[38;5;241;43m=\u001B[39;49m\u001B[43mreplace\u001B[49m\u001B[43m,\u001B[49m\u001B[43m \u001B[49m\u001B[43mp\u001B[49m\u001B[38;5;241;43m=\u001B[39;49m\u001B[43mweights\u001B[49m\u001B[43m)\u001B[49m\u001B[38;5;241m.\u001B[39mastype(\n\u001B[1;32m    153\u001B[0m     np\u001B[38;5;241m.\u001B[39mintp, copy\u001B[38;5;241m=\u001B[39m\u001B[38;5;28;01mFalse\u001B[39;00m\n\u001B[1;32m    154\u001B[0m )\n",
      "File \u001B[0;32mnumpy/random/mtrand.pyx:1001\u001B[0m, in \u001B[0;36mnumpy.random.mtrand.RandomState.choice\u001B[0;34m()\u001B[0m\n",
      "\u001B[0;31mValueError\u001B[0m: Cannot take a larger sample than population when 'replace=False'"
     ]
    }
   ],
   "execution_count": 62
  },
  {
   "metadata": {
    "ExecuteTime": {
     "end_time": "2024-06-21T19:12:23.175905Z",
     "start_time": "2024-06-21T19:12:23.167759Z"
    }
   },
   "cell_type": "code",
   "source": "numbers.sample(7, replace=True)  # With replace we can repeat the data",
   "id": "c43ed375e2bbe57a",
   "outputs": [
    {
     "data": {
      "text/plain": [
       "0    1.0\n",
       "4    4.0\n",
       "3    NaN\n",
       "3    NaN\n",
       "1    2.0\n",
       "2    3.0\n",
       "4    4.0\n",
       "dtype: float64"
      ]
     },
     "execution_count": 63,
     "metadata": {},
     "output_type": "execute_result"
    }
   ],
   "execution_count": 63
  },
  {
   "metadata": {},
   "cell_type": "markdown",
   "source": [
    "###  unique and nunique\n",
    "\n",
    "unique returns a NumPy ndarray of unique values prom the Series\n",
    "\n",
    "This is if we have repeated data, we generate an array without repetitions of data\n",
    "\n",
    "---\n",
    "\n",
    "nunique returns a scalar, the number of unique elements"
   ],
   "id": "4255bd34eb9dab6e"
  },
  {
   "metadata": {
    "ExecuteTime": {
     "end_time": "2024-06-21T19:15:15.610241Z",
     "start_time": "2024-06-21T19:15:15.605906Z"
    }
   },
   "cell_type": "code",
   "source": "authors = pd.Series(data=['Hemingway', 'Orwell', 'Dostoevsky', 'Fitzgerald', 'Orwell'])",
   "id": "9cf0c86c84853f20",
   "outputs": [],
   "execution_count": 64
  },
  {
   "metadata": {
    "ExecuteTime": {
     "end_time": "2024-06-21T19:15:55.741073Z",
     "start_time": "2024-06-21T19:15:55.735241Z"
    }
   },
   "cell_type": "code",
   "source": "authors.unique()",
   "id": "e6cf77a575adf113",
   "outputs": [
    {
     "data": {
      "text/plain": [
       "array(['Hemingway', 'Orwell', 'Dostoevsky', 'Fitzgerald'], dtype=object)"
      ]
     },
     "execution_count": 67,
     "metadata": {},
     "output_type": "execute_result"
    }
   ],
   "execution_count": 67
  },
  {
   "metadata": {
    "ExecuteTime": {
     "end_time": "2024-06-21T19:20:46.049690Z",
     "start_time": "2024-06-21T19:20:46.043953Z"
    }
   },
   "cell_type": "code",
   "source": "authors.nunique()  # it is the length of the unique() return array",
   "id": "86f8128d3d83e4d0",
   "outputs": [
    {
     "data": {
      "text/plain": [
       "4"
      ]
     },
     "execution_count": 68,
     "metadata": {},
     "output_type": "execute_result"
    }
   ],
   "execution_count": 68
  },
  {
   "metadata": {},
   "cell_type": "markdown",
   "source": "# Arithmetic operations",
   "id": "90f9d884566454b3"
  },
  {
   "metadata": {
    "ExecuteTime": {
     "end_time": "2024-06-22T12:15:50.736427Z",
     "start_time": "2024-06-22T12:15:50.716779Z"
    }
   },
   "cell_type": "code",
   "source": [
    "s1 = pd.Series(data=[5, np.nan, 15], index=['A', 'B', 'C'])\n",
    "s1"
   ],
   "id": "c3ae044b878e382f",
   "outputs": [
    {
     "data": {
      "text/plain": [
       "A     5.0\n",
       "B     NaN\n",
       "C    15.0\n",
       "dtype: float64"
      ]
     },
     "execution_count": 3,
     "metadata": {},
     "output_type": "execute_result"
    }
   ],
   "execution_count": 3
  },
  {
   "metadata": {},
   "cell_type": "markdown",
   "source": [
    "We can perform arithmetic on a Series with +, -, *, /, //, %\n",
    "\n",
    "They are compatible with just numbers, those numbers are performed for each value in the Series"
   ],
   "id": "de5cbaed3d944a03"
  },
  {
   "metadata": {},
   "cell_type": "markdown",
   "source": "When can work with series and a number",
   "id": "e41a4fe83918183f"
  },
  {
   "metadata": {
    "ExecuteTime": {
     "end_time": "2024-06-22T12:19:29.223156Z",
     "start_time": "2024-06-22T12:19:29.214062Z"
    }
   },
   "cell_type": "code",
   "source": "s1 + 3",
   "id": "a5d8d9e308894553",
   "outputs": [
    {
     "data": {
      "text/plain": [
       "A     8.0\n",
       "B     NaN\n",
       "C    18.0\n",
       "dtype: float64"
      ]
     },
     "execution_count": 4,
     "metadata": {},
     "output_type": "execute_result"
    }
   ],
   "execution_count": 4
  },
  {
   "metadata": {
    "ExecuteTime": {
     "end_time": "2024-06-22T12:27:34.042800Z",
     "start_time": "2024-06-22T12:27:34.033397Z"
    }
   },
   "cell_type": "code",
   "source": "s1.add(3)",
   "id": "d5b9e421077ba39c",
   "outputs": [
    {
     "data": {
      "text/plain": [
       "A     8.0\n",
       "B     NaN\n",
       "C    18.0\n",
       "dtype: float64"
      ]
     },
     "execution_count": 5,
     "metadata": {},
     "output_type": "execute_result"
    }
   ],
   "execution_count": 5
  },
  {
   "metadata": {
    "ExecuteTime": {
     "end_time": "2024-06-22T12:28:12.824514Z",
     "start_time": "2024-06-22T12:28:12.816542Z"
    }
   },
   "cell_type": "code",
   "source": "s1 - 5",
   "id": "9e2dee575d98406d",
   "outputs": [
    {
     "data": {
      "text/plain": [
       "A     0.0\n",
       "B     NaN\n",
       "C    10.0\n",
       "dtype: float64"
      ]
     },
     "execution_count": 6,
     "metadata": {},
     "output_type": "execute_result"
    }
   ],
   "execution_count": 6
  },
  {
   "metadata": {
    "ExecuteTime": {
     "end_time": "2024-06-22T12:29:33.793390Z",
     "start_time": "2024-06-22T12:29:33.786695Z"
    }
   },
   "cell_type": "code",
   "source": [
    "s1.sub(5)\n",
    "s1.subtract(5)"
   ],
   "id": "c8360d2781739090",
   "outputs": [
    {
     "data": {
      "text/plain": [
       "A     0.0\n",
       "B     NaN\n",
       "C    10.0\n",
       "dtype: float64"
      ]
     },
     "execution_count": 9,
     "metadata": {},
     "output_type": "execute_result"
    }
   ],
   "execution_count": 9
  },
  {
   "metadata": {
    "ExecuteTime": {
     "end_time": "2024-06-22T12:30:40.353327Z",
     "start_time": "2024-06-22T12:30:40.345716Z"
    }
   },
   "cell_type": "code",
   "source": "s1 * 2",
   "id": "48bb5741e8b30f1d",
   "outputs": [
    {
     "data": {
      "text/plain": [
       "A    10.0\n",
       "B     NaN\n",
       "C    30.0\n",
       "dtype: float64"
      ]
     },
     "execution_count": 10,
     "metadata": {},
     "output_type": "execute_result"
    }
   ],
   "execution_count": 10
  },
  {
   "metadata": {
    "ExecuteTime": {
     "end_time": "2024-06-22T12:31:46.299252Z",
     "start_time": "2024-06-22T12:31:46.291449Z"
    }
   },
   "cell_type": "code",
   "source": "s1.multiply(2)",
   "id": "4c68c991029f9506",
   "outputs": [
    {
     "data": {
      "text/plain": [
       "A    10.0\n",
       "B     NaN\n",
       "C    30.0\n",
       "dtype: float64"
      ]
     },
     "execution_count": 11,
     "metadata": {},
     "output_type": "execute_result"
    }
   ],
   "execution_count": 11
  },
  {
   "metadata": {
    "ExecuteTime": {
     "end_time": "2024-06-22T12:31:59.402757Z",
     "start_time": "2024-06-22T12:31:59.393876Z"
    }
   },
   "cell_type": "code",
   "source": "s1.mul(2)",
   "id": "3fb9888205d176aa",
   "outputs": [
    {
     "data": {
      "text/plain": [
       "A    10.0\n",
       "B     NaN\n",
       "C    30.0\n",
       "dtype: float64"
      ]
     },
     "execution_count": 12,
     "metadata": {},
     "output_type": "execute_result"
    }
   ],
   "execution_count": 12
  },
  {
   "metadata": {
    "ExecuteTime": {
     "end_time": "2024-06-22T12:33:07.436851Z",
     "start_time": "2024-06-22T12:33:07.428293Z"
    }
   },
   "cell_type": "code",
   "source": "s1 / 2",
   "id": "af8be67b19b8bc5b",
   "outputs": [
    {
     "data": {
      "text/plain": [
       "A    2.5\n",
       "B    NaN\n",
       "C    7.5\n",
       "dtype: float64"
      ]
     },
     "execution_count": 13,
     "metadata": {},
     "output_type": "execute_result"
    }
   ],
   "execution_count": 13
  },
  {
   "metadata": {
    "ExecuteTime": {
     "end_time": "2024-06-22T12:33:18.451923Z",
     "start_time": "2024-06-22T12:33:18.443728Z"
    }
   },
   "cell_type": "code",
   "source": "s1.div(2)",
   "id": "d3c875dffbd535d4",
   "outputs": [
    {
     "data": {
      "text/plain": [
       "A    2.5\n",
       "B    NaN\n",
       "C    7.5\n",
       "dtype: float64"
      ]
     },
     "execution_count": 14,
     "metadata": {},
     "output_type": "execute_result"
    }
   ],
   "execution_count": 14
  },
  {
   "metadata": {
    "ExecuteTime": {
     "end_time": "2024-06-22T12:33:29.268180Z",
     "start_time": "2024-06-22T12:33:29.255979Z"
    }
   },
   "cell_type": "code",
   "source": "s1.divide(2)",
   "id": "d7ab9abd84d99814",
   "outputs": [
    {
     "data": {
      "text/plain": [
       "A    2.5\n",
       "B    NaN\n",
       "C    7.5\n",
       "dtype: float64"
      ]
     },
     "execution_count": 15,
     "metadata": {},
     "output_type": "execute_result"
    }
   ],
   "execution_count": 15
  },
  {
   "metadata": {
    "ExecuteTime": {
     "end_time": "2024-06-22T12:35:44.704181Z",
     "start_time": "2024-06-22T12:35:44.696008Z"
    }
   },
   "cell_type": "code",
   "source": "s1 // 4",
   "id": "7734f068d8c33966",
   "outputs": [
    {
     "data": {
      "text/plain": [
       "A    1.0\n",
       "B    NaN\n",
       "C    3.0\n",
       "dtype: float64"
      ]
     },
     "execution_count": 16,
     "metadata": {},
     "output_type": "execute_result"
    }
   ],
   "execution_count": 16
  },
  {
   "metadata": {
    "ExecuteTime": {
     "end_time": "2024-06-22T12:36:18.353420Z",
     "start_time": "2024-06-22T12:36:18.345728Z"
    }
   },
   "cell_type": "code",
   "source": "s1.floordiv(4)",
   "id": "24ac7df4f99fb9a9",
   "outputs": [
    {
     "data": {
      "text/plain": [
       "A    1.0\n",
       "B    NaN\n",
       "C    3.0\n",
       "dtype: float64"
      ]
     },
     "execution_count": 17,
     "metadata": {},
     "output_type": "execute_result"
    }
   ],
   "execution_count": 17
  },
  {
   "metadata": {
    "ExecuteTime": {
     "end_time": "2024-06-22T12:40:24.570207Z",
     "start_time": "2024-06-22T12:40:24.561063Z"
    }
   },
   "cell_type": "code",
   "source": "s1 % 3",
   "id": "64ec7aa0cc573b45",
   "outputs": [
    {
     "data": {
      "text/plain": [
       "A    2.0\n",
       "B    NaN\n",
       "C    0.0\n",
       "dtype: float64"
      ]
     },
     "execution_count": 18,
     "metadata": {},
     "output_type": "execute_result"
    }
   ],
   "execution_count": 18
  },
  {
   "metadata": {
    "ExecuteTime": {
     "end_time": "2024-06-22T12:40:59.954674Z",
     "start_time": "2024-06-22T12:40:59.946164Z"
    }
   },
   "cell_type": "code",
   "source": "s1.mod(3)",
   "id": "7c8c4943af8692dc",
   "outputs": [
    {
     "data": {
      "text/plain": [
       "A    2.0\n",
       "B    NaN\n",
       "C    0.0\n",
       "dtype: float64"
      ]
     },
     "execution_count": 19,
     "metadata": {},
     "output_type": "execute_result"
    }
   ],
   "execution_count": 19
  },
  {
   "metadata": {},
   "cell_type": "markdown",
   "source": "Also we can perform the operation of equality",
   "id": "e55da57c68f8117c"
  },
  {
   "metadata": {
    "ExecuteTime": {
     "end_time": "2024-06-22T12:50:18.656465Z",
     "start_time": "2024-06-22T12:50:18.651658Z"
    }
   },
   "cell_type": "code",
   "source": [
    "s1 = pd.Series(data=[3, 6, np.nan, 12])\n",
    "s2 = pd.Series(data=[2, 6, np.nan, 12])"
   ],
   "id": "b7108c3b937fc2fb",
   "outputs": [],
   "execution_count": 20
  },
  {
   "metadata": {
    "ExecuteTime": {
     "end_time": "2024-06-22T12:50:27.949744Z",
     "start_time": "2024-06-22T12:50:27.941994Z"
    }
   },
   "cell_type": "code",
   "source": [
    "# pandas cannot differentiate between a nan to another\n",
    "s1 == s2"
   ],
   "id": "ba55bc89f68b8d08",
   "outputs": [
    {
     "data": {
      "text/plain": [
       "0    False\n",
       "1     True\n",
       "2    False\n",
       "3     True\n",
       "dtype: bool"
      ]
     },
     "execution_count": 21,
     "metadata": {},
     "output_type": "execute_result"
    }
   ],
   "execution_count": 21
  },
  {
   "metadata": {
    "ExecuteTime": {
     "end_time": "2024-06-22T12:52:01.395546Z",
     "start_time": "2024-06-22T12:52:01.387901Z"
    }
   },
   "cell_type": "code",
   "source": "s1.eq(s2)",
   "id": "b36939a4add07e8b",
   "outputs": [
    {
     "data": {
      "text/plain": [
       "0    False\n",
       "1     True\n",
       "2    False\n",
       "3     True\n",
       "dtype: bool"
      ]
     },
     "execution_count": 22,
     "metadata": {},
     "output_type": "execute_result"
    }
   ],
   "execution_count": 22
  },
  {
   "metadata": {},
   "cell_type": "markdown",
   "source": "And the not equal with `!=` or `ne()`",
   "id": "cb6f39f0067d1c64"
  },
  {
   "metadata": {
    "ExecuteTime": {
     "end_time": "2024-06-22T12:54:46.608904Z",
     "start_time": "2024-06-22T12:54:46.599894Z"
    }
   },
   "cell_type": "code",
   "source": "s1 != s2",
   "id": "54bd9270c576644f",
   "outputs": [
    {
     "data": {
      "text/plain": [
       "0     True\n",
       "1    False\n",
       "2     True\n",
       "3    False\n",
       "dtype: bool"
      ]
     },
     "execution_count": 23,
     "metadata": {},
     "output_type": "execute_result"
    }
   ],
   "execution_count": 23
  },
  {
   "metadata": {
    "ExecuteTime": {
     "end_time": "2024-06-22T12:55:29.044550Z",
     "start_time": "2024-06-22T12:55:29.038042Z"
    }
   },
   "cell_type": "code",
   "source": "s1.ne(s2)",
   "id": "c125a2731f3366fe",
   "outputs": [
    {
     "data": {
      "text/plain": [
       "0     True\n",
       "1    False\n",
       "2     True\n",
       "3    False\n",
       "dtype: bool"
      ]
     },
     "execution_count": 25,
     "metadata": {},
     "output_type": "execute_result"
    }
   ],
   "execution_count": 25
  },
  {
   "metadata": {},
   "cell_type": "markdown",
   "source": "## What happens if the Series differ in position labels",
   "id": "14dacc7b9cc76275"
  },
  {
   "metadata": {
    "ExecuteTime": {
     "end_time": "2024-06-22T12:59:54.179093Z",
     "start_time": "2024-06-22T12:59:54.174832Z"
    }
   },
   "cell_type": "code",
   "source": [
    "s1 = pd.Series(data=[5, 10, 15], index=['A', 'B', 'C'])\n",
    "s2 = pd.Series(data=[4, 8, 12, 14], index=['B', 'C', 'D', 'E'])"
   ],
   "id": "fae5d926ad641d3e",
   "outputs": [],
   "execution_count": 27
  },
  {
   "metadata": {},
   "cell_type": "markdown",
   "source": "![Alt text](/home/diego/Documents/practicing_data_analysis/Pandas in action book/img/op_dif_lab.png)",
   "id": "54dce8dc77fe9e13"
  },
  {
   "metadata": {
    "ExecuteTime": {
     "end_time": "2024-06-22T13:00:19.965650Z",
     "start_time": "2024-06-22T13:00:19.950646Z"
    }
   },
   "cell_type": "code",
   "source": "s1 + s2",
   "id": "c8094bb5f4e7458f",
   "outputs": [
    {
     "data": {
      "text/plain": [
       "A     NaN\n",
       "B    14.0\n",
       "C    23.0\n",
       "D     NaN\n",
       "E     NaN\n",
       "dtype: float64"
      ]
     },
     "execution_count": 28,
     "metadata": {},
     "output_type": "execute_result"
    }
   ],
   "execution_count": 28
  },
  {
   "metadata": {},
   "cell_type": "markdown",
   "source": [
    "# Using built in with Series \n",
    "We can pass a Series to any of Python's built-in functions"
   ],
   "id": "bb86367d91009bd"
  },
  {
   "metadata": {
    "ExecuteTime": {
     "end_time": "2024-06-22T13:13:20.445079Z",
     "start_time": "2024-06-22T13:13:20.440707Z"
    }
   },
   "cell_type": "code",
   "source": "cities = pd.Series(data=['San Francisco', 'Los Angeles', 'Las Vegas', np.nan])",
   "id": "d455512c226476bc",
   "outputs": [],
   "execution_count": 29
  },
  {
   "metadata": {
    "ExecuteTime": {
     "end_time": "2024-06-22T13:14:42.255783Z",
     "start_time": "2024-06-22T13:14:42.250382Z"
    }
   },
   "cell_type": "code",
   "source": [
    "# len returns the number of rows in the series, count all values\n",
    "len(cities)"
   ],
   "id": "980b14a7397ae443",
   "outputs": [
    {
     "data": {
      "text/plain": [
       "4"
      ]
     },
     "execution_count": 30,
     "metadata": {},
     "output_type": "execute_result"
    }
   ],
   "execution_count": 30
  },
  {
   "metadata": {
    "ExecuteTime": {
     "end_time": "2024-06-22T13:16:31.301910Z",
     "start_time": "2024-06-22T13:16:31.296436Z"
    }
   },
   "cell_type": "code",
   "source": "type(cities)",
   "id": "47f5983ddf503cbe",
   "outputs": [
    {
     "data": {
      "text/plain": [
       "pandas.core.series.Series"
      ]
     },
     "execution_count": 31,
     "metadata": {},
     "output_type": "execute_result"
    }
   ],
   "execution_count": 31
  },
  {
   "metadata": {
    "ExecuteTime": {
     "end_time": "2024-06-22T13:17:08.594627Z",
     "start_time": "2024-06-22T13:17:08.569201Z"
    }
   },
   "cell_type": "code",
   "source": "dir(cities)",
   "id": "92d801eea32cfbe2",
   "outputs": [
    {
     "data": {
      "text/plain": [
       "['T',\n",
       " '_AXIS_LEN',\n",
       " '_AXIS_ORDERS',\n",
       " '_AXIS_TO_AXIS_NUMBER',\n",
       " '_HANDLED_TYPES',\n",
       " '__abs__',\n",
       " '__add__',\n",
       " '__and__',\n",
       " '__annotations__',\n",
       " '__array__',\n",
       " '__array_priority__',\n",
       " '__array_ufunc__',\n",
       " '__bool__',\n",
       " '__class__',\n",
       " '__column_consortium_standard__',\n",
       " '__contains__',\n",
       " '__copy__',\n",
       " '__deepcopy__',\n",
       " '__delattr__',\n",
       " '__delitem__',\n",
       " '__dict__',\n",
       " '__dir__',\n",
       " '__divmod__',\n",
       " '__doc__',\n",
       " '__eq__',\n",
       " '__finalize__',\n",
       " '__float__',\n",
       " '__floordiv__',\n",
       " '__format__',\n",
       " '__ge__',\n",
       " '__getattr__',\n",
       " '__getattribute__',\n",
       " '__getitem__',\n",
       " '__getstate__',\n",
       " '__gt__',\n",
       " '__hash__',\n",
       " '__iadd__',\n",
       " '__iand__',\n",
       " '__ifloordiv__',\n",
       " '__imod__',\n",
       " '__imul__',\n",
       " '__init__',\n",
       " '__init_subclass__',\n",
       " '__int__',\n",
       " '__invert__',\n",
       " '__ior__',\n",
       " '__ipow__',\n",
       " '__isub__',\n",
       " '__iter__',\n",
       " '__itruediv__',\n",
       " '__ixor__',\n",
       " '__le__',\n",
       " '__len__',\n",
       " '__lt__',\n",
       " '__matmul__',\n",
       " '__mod__',\n",
       " '__module__',\n",
       " '__mul__',\n",
       " '__ne__',\n",
       " '__neg__',\n",
       " '__new__',\n",
       " '__nonzero__',\n",
       " '__or__',\n",
       " '__pandas_priority__',\n",
       " '__pos__',\n",
       " '__pow__',\n",
       " '__radd__',\n",
       " '__rand__',\n",
       " '__rdivmod__',\n",
       " '__reduce__',\n",
       " '__reduce_ex__',\n",
       " '__repr__',\n",
       " '__rfloordiv__',\n",
       " '__rmatmul__',\n",
       " '__rmod__',\n",
       " '__rmul__',\n",
       " '__ror__',\n",
       " '__round__',\n",
       " '__rpow__',\n",
       " '__rsub__',\n",
       " '__rtruediv__',\n",
       " '__rxor__',\n",
       " '__setattr__',\n",
       " '__setitem__',\n",
       " '__setstate__',\n",
       " '__sizeof__',\n",
       " '__str__',\n",
       " '__sub__',\n",
       " '__subclasshook__',\n",
       " '__truediv__',\n",
       " '__weakref__',\n",
       " '__xor__',\n",
       " '_accessors',\n",
       " '_accum_func',\n",
       " '_agg_examples_doc',\n",
       " '_agg_see_also_doc',\n",
       " '_align_for_op',\n",
       " '_align_frame',\n",
       " '_align_series',\n",
       " '_append',\n",
       " '_arith_method',\n",
       " '_as_manager',\n",
       " '_attrs',\n",
       " '_binop',\n",
       " '_can_hold_na',\n",
       " '_check_inplace_and_allows_duplicate_labels',\n",
       " '_check_is_chained_assignment_possible',\n",
       " '_check_label_or_level_ambiguity',\n",
       " '_check_setitem_copy',\n",
       " '_clear_item_cache',\n",
       " '_clip_with_one_bound',\n",
       " '_clip_with_scalar',\n",
       " '_cmp_method',\n",
       " '_consolidate',\n",
       " '_consolidate_inplace',\n",
       " '_construct_axes_dict',\n",
       " '_construct_result',\n",
       " '_constructor',\n",
       " '_constructor_expanddim',\n",
       " '_constructor_expanddim_from_mgr',\n",
       " '_constructor_from_mgr',\n",
       " '_data',\n",
       " '_deprecate_downcast',\n",
       " '_dir_additions',\n",
       " '_dir_deletions',\n",
       " '_drop_axis',\n",
       " '_drop_labels_or_levels',\n",
       " '_duplicated',\n",
       " '_find_valid_index',\n",
       " '_flags',\n",
       " '_flex_method',\n",
       " '_from_mgr',\n",
       " '_get_axis',\n",
       " '_get_axis_name',\n",
       " '_get_axis_number',\n",
       " '_get_axis_resolvers',\n",
       " '_get_block_manager_axis',\n",
       " '_get_bool_data',\n",
       " '_get_cacher',\n",
       " '_get_cleaned_column_resolvers',\n",
       " '_get_index_resolvers',\n",
       " '_get_label_or_level_values',\n",
       " '_get_numeric_data',\n",
       " '_get_rows_with_mask',\n",
       " '_get_value',\n",
       " '_get_values_tuple',\n",
       " '_get_with',\n",
       " '_getitem_slice',\n",
       " '_gotitem',\n",
       " '_hidden_attrs',\n",
       " '_indexed_same',\n",
       " '_info_axis',\n",
       " '_info_axis_name',\n",
       " '_info_axis_number',\n",
       " '_init_dict',\n",
       " '_init_mgr',\n",
       " '_inplace_method',\n",
       " '_internal_names',\n",
       " '_internal_names_set',\n",
       " '_is_cached',\n",
       " '_is_copy',\n",
       " '_is_label_or_level_reference',\n",
       " '_is_label_reference',\n",
       " '_is_level_reference',\n",
       " '_is_mixed_type',\n",
       " '_is_view',\n",
       " '_is_view_after_cow_rules',\n",
       " '_item_cache',\n",
       " '_ixs',\n",
       " '_logical_func',\n",
       " '_logical_method',\n",
       " '_map_values',\n",
       " '_maybe_update_cacher',\n",
       " '_memory_usage',\n",
       " '_metadata',\n",
       " '_mgr',\n",
       " '_min_count_stat_function',\n",
       " '_name',\n",
       " '_needs_reindex_multi',\n",
       " '_pad_or_backfill',\n",
       " '_protect_consolidate',\n",
       " '_reduce',\n",
       " '_references',\n",
       " '_reindex_axes',\n",
       " '_reindex_indexer',\n",
       " '_reindex_multi',\n",
       " '_reindex_with_indexers',\n",
       " '_rename',\n",
       " '_replace_single',\n",
       " '_repr_data_resource_',\n",
       " '_repr_latex_',\n",
       " '_reset_cache',\n",
       " '_reset_cacher',\n",
       " '_set_as_cached',\n",
       " '_set_axis',\n",
       " '_set_axis_name',\n",
       " '_set_axis_nocheck',\n",
       " '_set_is_copy',\n",
       " '_set_labels',\n",
       " '_set_name',\n",
       " '_set_value',\n",
       " '_set_values',\n",
       " '_set_with',\n",
       " '_set_with_engine',\n",
       " '_shift_with_freq',\n",
       " '_slice',\n",
       " '_stat_function',\n",
       " '_stat_function_ddof',\n",
       " '_take_with_is_copy',\n",
       " '_to_latex_via_styler',\n",
       " '_typ',\n",
       " '_update_inplace',\n",
       " '_validate_dtype',\n",
       " '_values',\n",
       " '_where',\n",
       " 'abs',\n",
       " 'add',\n",
       " 'add_prefix',\n",
       " 'add_suffix',\n",
       " 'agg',\n",
       " 'aggregate',\n",
       " 'align',\n",
       " 'all',\n",
       " 'any',\n",
       " 'apply',\n",
       " 'argmax',\n",
       " 'argmin',\n",
       " 'argsort',\n",
       " 'array',\n",
       " 'asfreq',\n",
       " 'asof',\n",
       " 'astype',\n",
       " 'at',\n",
       " 'at_time',\n",
       " 'attrs',\n",
       " 'autocorr',\n",
       " 'axes',\n",
       " 'backfill',\n",
       " 'between',\n",
       " 'between_time',\n",
       " 'bfill',\n",
       " 'bool',\n",
       " 'case_when',\n",
       " 'clip',\n",
       " 'combine',\n",
       " 'combine_first',\n",
       " 'compare',\n",
       " 'convert_dtypes',\n",
       " 'copy',\n",
       " 'corr',\n",
       " 'count',\n",
       " 'cov',\n",
       " 'cummax',\n",
       " 'cummin',\n",
       " 'cumprod',\n",
       " 'cumsum',\n",
       " 'describe',\n",
       " 'diff',\n",
       " 'div',\n",
       " 'divide',\n",
       " 'divmod',\n",
       " 'dot',\n",
       " 'drop',\n",
       " 'drop_duplicates',\n",
       " 'droplevel',\n",
       " 'dropna',\n",
       " 'dtype',\n",
       " 'dtypes',\n",
       " 'duplicated',\n",
       " 'empty',\n",
       " 'eq',\n",
       " 'equals',\n",
       " 'ewm',\n",
       " 'expanding',\n",
       " 'explode',\n",
       " 'factorize',\n",
       " 'ffill',\n",
       " 'fillna',\n",
       " 'filter',\n",
       " 'first',\n",
       " 'first_valid_index',\n",
       " 'flags',\n",
       " 'floordiv',\n",
       " 'ge',\n",
       " 'get',\n",
       " 'groupby',\n",
       " 'gt',\n",
       " 'hasnans',\n",
       " 'head',\n",
       " 'hist',\n",
       " 'iat',\n",
       " 'idxmax',\n",
       " 'idxmin',\n",
       " 'iloc',\n",
       " 'index',\n",
       " 'infer_objects',\n",
       " 'info',\n",
       " 'interpolate',\n",
       " 'is_monotonic_decreasing',\n",
       " 'is_monotonic_increasing',\n",
       " 'is_unique',\n",
       " 'isin',\n",
       " 'isna',\n",
       " 'isnull',\n",
       " 'item',\n",
       " 'items',\n",
       " 'keys',\n",
       " 'kurt',\n",
       " 'kurtosis',\n",
       " 'last',\n",
       " 'last_valid_index',\n",
       " 'le',\n",
       " 'list',\n",
       " 'loc',\n",
       " 'lt',\n",
       " 'map',\n",
       " 'mask',\n",
       " 'max',\n",
       " 'mean',\n",
       " 'median',\n",
       " 'memory_usage',\n",
       " 'min',\n",
       " 'mod',\n",
       " 'mode',\n",
       " 'mul',\n",
       " 'multiply',\n",
       " 'name',\n",
       " 'nbytes',\n",
       " 'ndim',\n",
       " 'ne',\n",
       " 'nlargest',\n",
       " 'notna',\n",
       " 'notnull',\n",
       " 'nsmallest',\n",
       " 'nunique',\n",
       " 'pad',\n",
       " 'pct_change',\n",
       " 'pipe',\n",
       " 'plot',\n",
       " 'pop',\n",
       " 'pow',\n",
       " 'prod',\n",
       " 'product',\n",
       " 'quantile',\n",
       " 'radd',\n",
       " 'rank',\n",
       " 'ravel',\n",
       " 'rdiv',\n",
       " 'rdivmod',\n",
       " 'reindex',\n",
       " 'reindex_like',\n",
       " 'rename',\n",
       " 'rename_axis',\n",
       " 'reorder_levels',\n",
       " 'repeat',\n",
       " 'replace',\n",
       " 'resample',\n",
       " 'reset_index',\n",
       " 'rfloordiv',\n",
       " 'rmod',\n",
       " 'rmul',\n",
       " 'rolling',\n",
       " 'round',\n",
       " 'rpow',\n",
       " 'rsub',\n",
       " 'rtruediv',\n",
       " 'sample',\n",
       " 'searchsorted',\n",
       " 'sem',\n",
       " 'set_axis',\n",
       " 'set_flags',\n",
       " 'shape',\n",
       " 'shift',\n",
       " 'size',\n",
       " 'skew',\n",
       " 'sort_index',\n",
       " 'sort_values',\n",
       " 'squeeze',\n",
       " 'std',\n",
       " 'str',\n",
       " 'struct',\n",
       " 'sub',\n",
       " 'subtract',\n",
       " 'sum',\n",
       " 'swapaxes',\n",
       " 'swaplevel',\n",
       " 'tail',\n",
       " 'take',\n",
       " 'to_clipboard',\n",
       " 'to_csv',\n",
       " 'to_dict',\n",
       " 'to_excel',\n",
       " 'to_frame',\n",
       " 'to_hdf',\n",
       " 'to_json',\n",
       " 'to_latex',\n",
       " 'to_list',\n",
       " 'to_markdown',\n",
       " 'to_numpy',\n",
       " 'to_period',\n",
       " 'to_pickle',\n",
       " 'to_sql',\n",
       " 'to_string',\n",
       " 'to_timestamp',\n",
       " 'to_xarray',\n",
       " 'transform',\n",
       " 'transpose',\n",
       " 'truediv',\n",
       " 'truncate',\n",
       " 'tz_convert',\n",
       " 'tz_localize',\n",
       " 'unique',\n",
       " 'unstack',\n",
       " 'update',\n",
       " 'value_counts',\n",
       " 'values',\n",
       " 'var',\n",
       " 'view',\n",
       " 'where',\n",
       " 'xs']"
      ]
     },
     "execution_count": 32,
     "metadata": {},
     "output_type": "execute_result"
    }
   ],
   "execution_count": 32
  },
  {
   "metadata": {},
   "cell_type": "markdown",
   "source": "A Series' values can populate a native python data structure",
   "id": "68acd90a0814c549"
  },
  {
   "metadata": {
    "ExecuteTime": {
     "end_time": "2024-06-22T13:19:22.699310Z",
     "start_time": "2024-06-22T13:19:22.693169Z"
    }
   },
   "cell_type": "code",
   "source": "list(cities)",
   "id": "49838a769ffb552e",
   "outputs": [
    {
     "data": {
      "text/plain": [
       "['San Francisco', 'Los Angeles', 'Las Vegas', nan]"
      ]
     },
     "execution_count": 33,
     "metadata": {},
     "output_type": "execute_result"
    }
   ],
   "execution_count": 33
  },
  {
   "metadata": {
    "ExecuteTime": {
     "end_time": "2024-06-22T13:22:22.935188Z",
     "start_time": "2024-06-22T13:22:22.928748Z"
    }
   },
   "cell_type": "code",
   "source": "dict(cities)",
   "id": "d3005f149f9f10e9",
   "outputs": [
    {
     "data": {
      "text/plain": [
       "{0: 'San Francisco', 1: 'Los Angeles', 2: 'Las Vegas', 3: nan}"
      ]
     },
     "execution_count": 35,
     "metadata": {},
     "output_type": "execute_result"
    }
   ],
   "execution_count": 35
  },
  {
   "metadata": {},
   "cell_type": "markdown",
   "source": "We can use `in` **but works with the Series' index**",
   "id": "773bff44de1e095c"
  },
  {
   "metadata": {
    "ExecuteTime": {
     "end_time": "2024-06-22T13:24:30.243894Z",
     "start_time": "2024-06-22T13:24:30.236296Z"
    }
   },
   "cell_type": "code",
   "source": "'San Francisco' in cities",
   "id": "c5d5b6dcadc0bb12",
   "outputs": [
    {
     "data": {
      "text/plain": [
       "False"
      ]
     },
     "execution_count": 36,
     "metadata": {},
     "output_type": "execute_result"
    }
   ],
   "execution_count": 36
  },
  {
   "metadata": {
    "ExecuteTime": {
     "end_time": "2024-06-22T13:24:36.400210Z",
     "start_time": "2024-06-22T13:24:36.392559Z"
    }
   },
   "cell_type": "code",
   "source": "2 in cities",
   "id": "50bb3a13d1144131",
   "outputs": [
    {
     "data": {
      "text/plain": [
       "True"
      ]
     },
     "execution_count": 37,
     "metadata": {},
     "output_type": "execute_result"
    }
   ],
   "execution_count": 37
  },
  {
   "metadata": {},
   "cell_type": "markdown",
   "source": "To check in the values, we can use the `values` attribute",
   "id": "d455f571f799a773"
  },
  {
   "metadata": {
    "ExecuteTime": {
     "end_time": "2024-06-22T13:26:29.304199Z",
     "start_time": "2024-06-22T13:26:29.298868Z"
    }
   },
   "cell_type": "code",
   "source": "cities.values",
   "id": "7605879e3a7411f7",
   "outputs": [
    {
     "data": {
      "text/plain": [
       "array(['San Francisco', 'Los Angeles', 'Las Vegas', nan], dtype=object)"
      ]
     },
     "execution_count": 39,
     "metadata": {},
     "output_type": "execute_result"
    }
   ],
   "execution_count": 39
  },
  {
   "metadata": {
    "ExecuteTime": {
     "end_time": "2024-06-22T13:26:18.431553Z",
     "start_time": "2024-06-22T13:26:18.425737Z"
    }
   },
   "cell_type": "code",
   "source": "'San Francisco' in cities.values",
   "id": "3da14d4bb67ef7e3",
   "outputs": [
    {
     "data": {
      "text/plain": [
       "True"
      ]
     },
     "execution_count": 38,
     "metadata": {},
     "output_type": "execute_result"
    }
   ],
   "execution_count": 38
  }
 ],
 "metadata": {
  "kernelspec": {
   "display_name": "Python 3",
   "language": "python",
   "name": "python3"
  },
  "language_info": {
   "codemirror_mode": {
    "name": "ipython",
    "version": 2
   },
   "file_extension": ".py",
   "mimetype": "text/x-python",
   "name": "python",
   "nbconvert_exporter": "python",
   "pygments_lexer": "ipython2",
   "version": "2.7.6"
  }
 },
 "nbformat": 4,
 "nbformat_minor": 5
}
