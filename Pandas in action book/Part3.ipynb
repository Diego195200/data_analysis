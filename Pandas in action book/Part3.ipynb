{
 "cells": [
  {
   "metadata": {},
   "cell_type": "markdown",
   "source": "# Series methods",
   "id": "ad1a6332e0a7c7b1"
  },
  {
   "cell_type": "code",
   "id": "initial_id",
   "metadata": {
    "collapsed": true,
    "ExecuteTime": {
     "end_time": "2024-06-24T13:59:34.833925Z",
     "start_time": "2024-06-24T13:59:34.825199Z"
    }
   },
   "source": [
    "import pandas as pd\n",
    "import numpy as np"
   ],
   "outputs": [],
   "execution_count": 44
  },
  {
   "metadata": {},
   "cell_type": "markdown",
   "source": "# converting from dataframe to series",
   "id": "85aea1f8a5b21acd"
  },
  {
   "metadata": {
    "ExecuteTime": {
     "end_time": "2024-06-24T13:18:01.986810Z",
     "start_time": "2024-06-24T13:18:01.941445Z"
    }
   },
   "cell_type": "code",
   "source": "pd.read_csv('/home/diego/Documents/Data/pokemon.csv')  # This is a dataframe",
   "id": "b1e9e355cb248bb3",
   "outputs": [
    {
     "data": {
      "text/plain": [
       "         Pokemon            Type\n",
       "0      Bulbasaur  Grass / Poison\n",
       "1        Ivysaur  Grass / Poison\n",
       "2       Venusaur  Grass / Poison\n",
       "3     Charmander            Fire\n",
       "4     Charmeleon            Fire\n",
       "..           ...             ...\n",
       "804    Stakataka    Rock / Steel\n",
       "805  Blacephalon    Fire / Ghost\n",
       "806      Zeraora        Electric\n",
       "807       Meltan           Steel\n",
       "808     Melmetal           Steel\n",
       "\n",
       "[809 rows x 2 columns]"
      ],
      "text/html": [
       "<div>\n",
       "<style scoped>\n",
       "    .dataframe tbody tr th:only-of-type {\n",
       "        vertical-align: middle;\n",
       "    }\n",
       "\n",
       "    .dataframe tbody tr th {\n",
       "        vertical-align: top;\n",
       "    }\n",
       "\n",
       "    .dataframe thead th {\n",
       "        text-align: right;\n",
       "    }\n",
       "</style>\n",
       "<table border=\"1\" class=\"dataframe\">\n",
       "  <thead>\n",
       "    <tr style=\"text-align: right;\">\n",
       "      <th></th>\n",
       "      <th>Pokemon</th>\n",
       "      <th>Type</th>\n",
       "    </tr>\n",
       "  </thead>\n",
       "  <tbody>\n",
       "    <tr>\n",
       "      <th>0</th>\n",
       "      <td>Bulbasaur</td>\n",
       "      <td>Grass / Poison</td>\n",
       "    </tr>\n",
       "    <tr>\n",
       "      <th>1</th>\n",
       "      <td>Ivysaur</td>\n",
       "      <td>Grass / Poison</td>\n",
       "    </tr>\n",
       "    <tr>\n",
       "      <th>2</th>\n",
       "      <td>Venusaur</td>\n",
       "      <td>Grass / Poison</td>\n",
       "    </tr>\n",
       "    <tr>\n",
       "      <th>3</th>\n",
       "      <td>Charmander</td>\n",
       "      <td>Fire</td>\n",
       "    </tr>\n",
       "    <tr>\n",
       "      <th>4</th>\n",
       "      <td>Charmeleon</td>\n",
       "      <td>Fire</td>\n",
       "    </tr>\n",
       "    <tr>\n",
       "      <th>...</th>\n",
       "      <td>...</td>\n",
       "      <td>...</td>\n",
       "    </tr>\n",
       "    <tr>\n",
       "      <th>804</th>\n",
       "      <td>Stakataka</td>\n",
       "      <td>Rock / Steel</td>\n",
       "    </tr>\n",
       "    <tr>\n",
       "      <th>805</th>\n",
       "      <td>Blacephalon</td>\n",
       "      <td>Fire / Ghost</td>\n",
       "    </tr>\n",
       "    <tr>\n",
       "      <th>806</th>\n",
       "      <td>Zeraora</td>\n",
       "      <td>Electric</td>\n",
       "    </tr>\n",
       "    <tr>\n",
       "      <th>807</th>\n",
       "      <td>Meltan</td>\n",
       "      <td>Steel</td>\n",
       "    </tr>\n",
       "    <tr>\n",
       "      <th>808</th>\n",
       "      <td>Melmetal</td>\n",
       "      <td>Steel</td>\n",
       "    </tr>\n",
       "  </tbody>\n",
       "</table>\n",
       "<p>809 rows × 2 columns</p>\n",
       "</div>"
      ]
     },
     "execution_count": 2,
     "metadata": {},
     "output_type": "execute_result"
    }
   ],
   "execution_count": 2
  },
  {
   "metadata": {
    "ExecuteTime": {
     "end_time": "2024-06-24T13:18:02.007508Z",
     "start_time": "2024-06-24T13:18:01.989447Z"
    }
   },
   "cell_type": "code",
   "source": [
    "# change to a series object\n",
    "\n",
    "pokemon = pd.read_csv('/home/diego/Documents/Data/pokemon.csv', index_col='Pokemon')  # DataFrame with a column of values yet\n",
    "\n",
    "# To force change to a Series object, we use the dataframe's method squeeze\n",
    "pokemon = pokemon.squeeze()  # Now a Series\n",
    "type(pokemon)\n",
    "pokemon"
   ],
   "id": "8e5dda0fff966552",
   "outputs": [
    {
     "data": {
      "text/plain": [
       "Pokemon\n",
       "Bulbasaur      Grass / Poison\n",
       "Ivysaur        Grass / Poison\n",
       "Venusaur       Grass / Poison\n",
       "Charmander               Fire\n",
       "Charmeleon               Fire\n",
       "                    ...      \n",
       "Stakataka        Rock / Steel\n",
       "Blacephalon      Fire / Ghost\n",
       "Zeraora              Electric\n",
       "Meltan                  Steel\n",
       "Melmetal                Steel\n",
       "Name: Type, Length: 809, dtype: object"
      ]
     },
     "execution_count": 3,
     "metadata": {},
     "output_type": "execute_result"
    }
   ],
   "execution_count": 3
  },
  {
   "metadata": {},
   "cell_type": "markdown",
   "source": "## now with google.csv",
   "id": "8c3a7d40992ed0e6"
  },
  {
   "metadata": {
    "ExecuteTime": {
     "end_time": "2024-06-24T13:18:02.044896Z",
     "start_time": "2024-06-24T13:18:02.010309Z"
    }
   },
   "cell_type": "code",
   "source": [
    "# We are opening the google_stocks csv. We are changing our Date format from string to Date format, then we set the column as index. Finally, we are converting the Dataframe to a Series object\n",
    "google = pd.read_csv('/home/diego/Documents/Data/google_stocks.csv', parse_dates=['Date'], index_col='Date').squeeze()\n",
    "google"
   ],
   "id": "d1415d814aca6689",
   "outputs": [
    {
     "data": {
      "text/plain": [
       "Date\n",
       "2004-08-19      49.98\n",
       "2004-08-20      53.95\n",
       "2004-08-23      54.50\n",
       "2004-08-24      52.24\n",
       "2004-08-25      52.80\n",
       "               ...   \n",
       "2019-10-21    1246.15\n",
       "2019-10-22    1242.80\n",
       "2019-10-23    1259.13\n",
       "2019-10-24    1260.99\n",
       "2019-10-25    1265.13\n",
       "Name: Close, Length: 3824, dtype: float64"
      ]
     },
     "execution_count": 4,
     "metadata": {},
     "output_type": "execute_result"
    }
   ],
   "execution_count": 4
  },
  {
   "metadata": {},
   "cell_type": "markdown",
   "source": "## Now revolutionary_war file",
   "id": "36057192522dc5c2"
  },
  {
   "metadata": {
    "ExecuteTime": {
     "end_time": "2024-06-24T13:18:02.068832Z",
     "start_time": "2024-06-24T13:18:02.049055Z"
    }
   },
   "cell_type": "code",
   "source": [
    "pd.read_csv('/home/diego/Documents/Data/revolutionary_war.csv', \n",
    "            index_col='Battle', \n",
    "            parse_dates=['Start Date']).tail()"
   ],
   "id": "f02a2b817ab33170",
   "outputs": [
    {
     "data": {
      "text/plain": [
       "                           Start Date     State\n",
       "Battle                                         \n",
       "Siege of Fort Henry        1782-09-11  Virginia\n",
       "Grand Assault on Gibraltar 1782-09-13       NaN\n",
       "Action of 18 October 1782  1782-10-18       NaN\n",
       "Action of 6 December 1782  1782-12-06       NaN\n",
       "Action of 22 January 1783  1783-01-22  Virginia"
      ],
      "text/html": [
       "<div>\n",
       "<style scoped>\n",
       "    .dataframe tbody tr th:only-of-type {\n",
       "        vertical-align: middle;\n",
       "    }\n",
       "\n",
       "    .dataframe tbody tr th {\n",
       "        vertical-align: top;\n",
       "    }\n",
       "\n",
       "    .dataframe thead th {\n",
       "        text-align: right;\n",
       "    }\n",
       "</style>\n",
       "<table border=\"1\" class=\"dataframe\">\n",
       "  <thead>\n",
       "    <tr style=\"text-align: right;\">\n",
       "      <th></th>\n",
       "      <th>Start Date</th>\n",
       "      <th>State</th>\n",
       "    </tr>\n",
       "    <tr>\n",
       "      <th>Battle</th>\n",
       "      <th></th>\n",
       "      <th></th>\n",
       "    </tr>\n",
       "  </thead>\n",
       "  <tbody>\n",
       "    <tr>\n",
       "      <th>Siege of Fort Henry</th>\n",
       "      <td>1782-09-11</td>\n",
       "      <td>Virginia</td>\n",
       "    </tr>\n",
       "    <tr>\n",
       "      <th>Grand Assault on Gibraltar</th>\n",
       "      <td>1782-09-13</td>\n",
       "      <td>NaN</td>\n",
       "    </tr>\n",
       "    <tr>\n",
       "      <th>Action of 18 October 1782</th>\n",
       "      <td>1782-10-18</td>\n",
       "      <td>NaN</td>\n",
       "    </tr>\n",
       "    <tr>\n",
       "      <th>Action of 6 December 1782</th>\n",
       "      <td>1782-12-06</td>\n",
       "      <td>NaN</td>\n",
       "    </tr>\n",
       "    <tr>\n",
       "      <th>Action of 22 January 1783</th>\n",
       "      <td>1783-01-22</td>\n",
       "      <td>Virginia</td>\n",
       "    </tr>\n",
       "  </tbody>\n",
       "</table>\n",
       "</div>"
      ]
     },
     "execution_count": 5,
     "metadata": {},
     "output_type": "execute_result"
    }
   ],
   "execution_count": 5
  },
  {
   "metadata": {},
   "cell_type": "markdown",
   "source": [
    "In this case, if we want to convert from dataframe to Series, we can't do that directly because we have three columns of values\n",
    "\n",
    "So we need to limit the import of columns to only two with the parameter `usecols`\n"
   ],
   "id": "353671b8730445c6"
  },
  {
   "metadata": {
    "ExecuteTime": {
     "end_time": "2024-06-24T13:18:02.089370Z",
     "start_time": "2024-06-24T13:18:02.071489Z"
    }
   },
   "cell_type": "code",
   "source": [
    "battles = pd.read_csv('/home/diego/Documents/Data/revolutionary_war.csv', \n",
    "            usecols=['Start Date', 'State'],\n",
    "            index_col='Start Date', \n",
    "            parse_dates=['Start Date']).squeeze()\n",
    "battles"
   ],
   "id": "6bf7a803f404b539",
   "outputs": [
    {
     "data": {
      "text/plain": [
       "Start Date\n",
       "1774-09-01    Massachusetts\n",
       "1774-12-14    New Hampshire\n",
       "1775-04-19    Massachusetts\n",
       "1775-04-19    Massachusetts\n",
       "1775-04-20         Virginia\n",
       "                  ...      \n",
       "1782-09-11         Virginia\n",
       "1782-09-13              NaN\n",
       "1782-10-18              NaN\n",
       "1782-12-06              NaN\n",
       "1783-01-22         Virginia\n",
       "Name: State, Length: 232, dtype: object"
      ]
     },
     "execution_count": 6,
     "metadata": {},
     "output_type": "execute_result"
    }
   ],
   "execution_count": 6
  },
  {
   "metadata": {},
   "cell_type": "markdown",
   "source": "## sorting values",
   "id": "9a1f571951a0565"
  },
  {
   "metadata": {
    "ExecuteTime": {
     "end_time": "2024-06-24T13:18:02.102110Z",
     "start_time": "2024-06-24T13:18:02.091854Z"
    }
   },
   "cell_type": "code",
   "source": "google.sort_values()",
   "id": "ba81b597b09daca7",
   "outputs": [
    {
     "data": {
      "text/plain": [
       "Date\n",
       "2004-09-03      49.82\n",
       "2004-09-01      49.94\n",
       "2004-08-19      49.98\n",
       "2004-09-02      50.57\n",
       "2004-09-07      50.60\n",
       "               ...   \n",
       "2019-04-23    1264.55\n",
       "2019-10-25    1265.13\n",
       "2018-07-26    1268.33\n",
       "2019-04-26    1272.18\n",
       "2019-04-29    1287.58\n",
       "Name: Close, Length: 3824, dtype: float64"
      ]
     },
     "execution_count": 7,
     "metadata": {},
     "output_type": "execute_result"
    }
   ],
   "execution_count": 7
  },
  {
   "metadata": {
    "ExecuteTime": {
     "end_time": "2024-06-24T13:18:02.116768Z",
     "start_time": "2024-06-24T13:18:02.104431Z"
    }
   },
   "cell_type": "code",
   "source": "pokemon.sort_values()",
   "id": "e898a47139990da6",
   "outputs": [
    {
     "data": {
      "text/plain": [
       "Pokemon\n",
       "Illumise                Bug\n",
       "Silcoon                 Bug\n",
       "Pinsir                  Bug\n",
       "Burmy                   Bug\n",
       "Wurmple                 Bug\n",
       "                  ...      \n",
       "Tirtouga       Water / Rock\n",
       "Relicanth      Water / Rock\n",
       "Corsola        Water / Rock\n",
       "Carracosta     Water / Rock\n",
       "Empoleon      Water / Steel\n",
       "Name: Type, Length: 809, dtype: object"
      ]
     },
     "execution_count": 8,
     "metadata": {},
     "output_type": "execute_result"
    }
   ],
   "execution_count": 8
  },
  {
   "metadata": {
    "ExecuteTime": {
     "end_time": "2024-06-24T13:18:02.134486Z",
     "start_time": "2024-06-24T13:18:02.121384Z"
    }
   },
   "cell_type": "code",
   "source": [
    "# When sorting, by default the nan values are at the end of the series\n",
    "battles.sort_values().tail()"
   ],
   "id": "21905dc8a5f68483",
   "outputs": [
    {
     "data": {
      "text/plain": [
       "Start Date\n",
       "1782-08-08    NaN\n",
       "1782-08-25    NaN\n",
       "1782-09-13    NaN\n",
       "1782-10-18    NaN\n",
       "1782-12-06    NaN\n",
       "Name: State, dtype: object"
      ]
     },
     "execution_count": 9,
     "metadata": {},
     "output_type": "execute_result"
    }
   ],
   "execution_count": 9
  },
  {
   "metadata": {
    "ExecuteTime": {
     "end_time": "2024-06-24T13:18:02.148967Z",
     "start_time": "2024-06-24T13:18:02.136726Z"
    }
   },
   "cell_type": "code",
   "source": [
    "# nan values at first\n",
    "battles.sort_values(na_position='first').head()"
   ],
   "id": "8b587670a041bab5",
   "outputs": [
    {
     "data": {
      "text/plain": [
       "Start Date\n",
       "1775-09-17    NaN\n",
       "1775-12-31    NaN\n",
       "1776-03-03    NaN\n",
       "1776-03-25    NaN\n",
       "1776-05-18    NaN\n",
       "Name: State, dtype: object"
      ]
     },
     "execution_count": 10,
     "metadata": {},
     "output_type": "execute_result"
    }
   ],
   "execution_count": 10
  },
  {
   "metadata": {},
   "cell_type": "markdown",
   "source": "## Dropping nan",
   "id": "f58ada901b10c88f"
  },
  {
   "metadata": {
    "ExecuteTime": {
     "end_time": "2024-06-24T13:18:02.160864Z",
     "start_time": "2024-06-24T13:18:02.151629Z"
    }
   },
   "cell_type": "code",
   "source": "battles.dropna().sort_values()",
   "id": "fd3ac0ef83be8ffe",
   "outputs": [
    {
     "data": {
      "text/plain": [
       "Start Date\n",
       "1781-09-06    Connecticut\n",
       "1779-07-05    Connecticut\n",
       "1777-04-27    Connecticut\n",
       "1777-09-03       Delaware\n",
       "1777-05-17        Florida\n",
       "                 ...     \n",
       "1781-07-06       Virginia\n",
       "1781-07-01       Virginia\n",
       "1781-06-26       Virginia\n",
       "1781-04-25       Virginia\n",
       "1783-01-22       Virginia\n",
       "Name: State, Length: 162, dtype: object"
      ]
     },
     "execution_count": 11,
     "metadata": {},
     "output_type": "execute_result"
    }
   ],
   "execution_count": 11
  },
  {
   "metadata": {},
   "cell_type": "markdown",
   "source": "sorting index",
   "id": "5722039a66e35a3d"
  },
  {
   "metadata": {
    "ExecuteTime": {
     "end_time": "2024-06-24T13:18:02.179862Z",
     "start_time": "2024-06-24T13:18:02.163427Z"
    }
   },
   "cell_type": "code",
   "source": "pokemon.sort_index()",
   "id": "7356451cdedfe022",
   "outputs": [
    {
     "data": {
      "text/plain": [
       "Pokemon\n",
       "Abomasnow        Grass / Ice\n",
       "Abra                 Psychic\n",
       "Absol                   Dark\n",
       "Accelgor                 Bug\n",
       "Aegislash      Steel / Ghost\n",
       "                  ...       \n",
       "Zoroark                 Dark\n",
       "Zorua                   Dark\n",
       "Zubat        Poison / Flying\n",
       "Zweilous       Dark / Dragon\n",
       "Zygarde      Dragon / Ground\n",
       "Name: Type, Length: 809, dtype: object"
      ]
     },
     "execution_count": 12,
     "metadata": {},
     "output_type": "execute_result"
    }
   ],
   "execution_count": 12
  },
  {
   "metadata": {
    "ExecuteTime": {
     "end_time": "2024-06-24T13:18:02.192028Z",
     "start_time": "2024-06-24T13:18:02.182153Z"
    }
   },
   "cell_type": "code",
   "source": "battles.sort_index(na_position='first')",
   "id": "5dd907b28ab7e969",
   "outputs": [
    {
     "data": {
      "text/plain": [
       "Start Date\n",
       "NaT              New Jersey\n",
       "NaT                Virginia\n",
       "NaT                     NaN\n",
       "NaT                     NaN\n",
       "1774-09-01    Massachusetts\n",
       "                  ...      \n",
       "1782-09-11         Virginia\n",
       "1782-09-13              NaN\n",
       "1782-10-18              NaN\n",
       "1782-12-06              NaN\n",
       "1783-01-22         Virginia\n",
       "Name: State, Length: 232, dtype: object"
      ]
     },
     "execution_count": 13,
     "metadata": {},
     "output_type": "execute_result"
    }
   ],
   "execution_count": 13
  },
  {
   "metadata": {},
   "cell_type": "markdown",
   "source": "## nlargest, nsmallest",
   "id": "825a6d2976b16ea9"
  },
  {
   "metadata": {
    "ExecuteTime": {
     "end_time": "2024-06-24T13:18:14.453617Z",
     "start_time": "2024-06-24T13:18:14.440524Z"
    }
   },
   "cell_type": "code",
   "source": "google.nlargest()",
   "id": "30c47b8d48186416",
   "outputs": [
    {
     "data": {
      "text/plain": [
       "Date\n",
       "2019-04-29    1287.58\n",
       "2019-04-26    1272.18\n",
       "2018-07-26    1268.33\n",
       "2019-10-25    1265.13\n",
       "2019-04-23    1264.55\n",
       "Name: Close, dtype: float64"
      ]
     },
     "execution_count": 15,
     "metadata": {},
     "output_type": "execute_result"
    }
   ],
   "execution_count": 15
  },
  {
   "metadata": {
    "ExecuteTime": {
     "end_time": "2024-06-24T13:20:10.746476Z",
     "start_time": "2024-06-24T13:20:10.737456Z"
    }
   },
   "cell_type": "code",
   "source": "google.nsmallest()",
   "id": "e118195d9cf0e003",
   "outputs": [
    {
     "data": {
      "text/plain": [
       "Date\n",
       "2004-09-03    49.82\n",
       "2004-09-01    49.94\n",
       "2004-08-19    49.98\n",
       "2004-09-02    50.57\n",
       "2004-09-07    50.60\n",
       "Name: Close, dtype: float64"
      ]
     },
     "execution_count": 16,
     "metadata": {},
     "output_type": "execute_result"
    }
   ],
   "execution_count": 16
  },
  {
   "metadata": {
    "ExecuteTime": {
     "end_time": "2024-06-24T13:21:12.482778Z",
     "start_time": "2024-06-24T13:21:11.909091Z"
    }
   },
   "cell_type": "code",
   "source": "battles.nsmallest()",
   "id": "62bb9faaae498efb",
   "outputs": [
    {
     "ename": "TypeError",
     "evalue": "Cannot use method 'nsmallest' with dtype object",
     "output_type": "error",
     "traceback": [
      "\u001B[0;31m---------------------------------------------------------------------------\u001B[0m",
      "\u001B[0;31mTypeError\u001B[0m                                 Traceback (most recent call last)",
      "Cell \u001B[0;32mIn[19], line 1\u001B[0m\n\u001B[0;32m----> 1\u001B[0m \u001B[43mbattles\u001B[49m\u001B[38;5;241;43m.\u001B[39;49m\u001B[43mnsmallest\u001B[49m\u001B[43m(\u001B[49m\u001B[43m)\u001B[49m\n",
      "File \u001B[0;32m~/.local/lib/python3.12/site-packages/pandas/core/series.py:4351\u001B[0m, in \u001B[0;36mSeries.nsmallest\u001B[0;34m(self, n, keep)\u001B[0m\n\u001B[1;32m   4254\u001B[0m \u001B[38;5;28;01mdef\u001B[39;00m \u001B[38;5;21mnsmallest\u001B[39m(\n\u001B[1;32m   4255\u001B[0m     \u001B[38;5;28mself\u001B[39m, n: \u001B[38;5;28mint\u001B[39m \u001B[38;5;241m=\u001B[39m \u001B[38;5;241m5\u001B[39m, keep: Literal[\u001B[38;5;124m\"\u001B[39m\u001B[38;5;124mfirst\u001B[39m\u001B[38;5;124m\"\u001B[39m, \u001B[38;5;124m\"\u001B[39m\u001B[38;5;124mlast\u001B[39m\u001B[38;5;124m\"\u001B[39m, \u001B[38;5;124m\"\u001B[39m\u001B[38;5;124mall\u001B[39m\u001B[38;5;124m\"\u001B[39m] \u001B[38;5;241m=\u001B[39m \u001B[38;5;124m\"\u001B[39m\u001B[38;5;124mfirst\u001B[39m\u001B[38;5;124m\"\u001B[39m\n\u001B[1;32m   4256\u001B[0m ) \u001B[38;5;241m-\u001B[39m\u001B[38;5;241m>\u001B[39m Series:\n\u001B[1;32m   4257\u001B[0m \u001B[38;5;250m    \u001B[39m\u001B[38;5;124;03m\"\"\"\u001B[39;00m\n\u001B[1;32m   4258\u001B[0m \u001B[38;5;124;03m    Return the smallest `n` elements.\u001B[39;00m\n\u001B[1;32m   4259\u001B[0m \n\u001B[0;32m   (...)\u001B[0m\n\u001B[1;32m   4349\u001B[0m \u001B[38;5;124;03m    dtype: int64\u001B[39;00m\n\u001B[1;32m   4350\u001B[0m \u001B[38;5;124;03m    \"\"\"\u001B[39;00m\n\u001B[0;32m-> 4351\u001B[0m     \u001B[38;5;28;01mreturn\u001B[39;00m \u001B[43mselectn\u001B[49m\u001B[38;5;241;43m.\u001B[39;49m\u001B[43mSelectNSeries\u001B[49m\u001B[43m(\u001B[49m\u001B[38;5;28;43mself\u001B[39;49m\u001B[43m,\u001B[49m\u001B[43m \u001B[49m\u001B[43mn\u001B[49m\u001B[38;5;241;43m=\u001B[39;49m\u001B[43mn\u001B[49m\u001B[43m,\u001B[49m\u001B[43m \u001B[49m\u001B[43mkeep\u001B[49m\u001B[38;5;241;43m=\u001B[39;49m\u001B[43mkeep\u001B[49m\u001B[43m)\u001B[49m\u001B[38;5;241;43m.\u001B[39;49m\u001B[43mnsmallest\u001B[49m\u001B[43m(\u001B[49m\u001B[43m)\u001B[49m\n",
      "File \u001B[0;32m~/.local/lib/python3.12/site-packages/pandas/core/methods/selectn.py:61\u001B[0m, in \u001B[0;36mSelectN.nsmallest\u001B[0;34m(self)\u001B[0m\n\u001B[1;32m     59\u001B[0m \u001B[38;5;129m@final\u001B[39m\n\u001B[1;32m     60\u001B[0m \u001B[38;5;28;01mdef\u001B[39;00m \u001B[38;5;21mnsmallest\u001B[39m(\u001B[38;5;28mself\u001B[39m):\n\u001B[0;32m---> 61\u001B[0m     \u001B[38;5;28;01mreturn\u001B[39;00m \u001B[38;5;28;43mself\u001B[39;49m\u001B[38;5;241;43m.\u001B[39;49m\u001B[43mcompute\u001B[49m\u001B[43m(\u001B[49m\u001B[38;5;124;43m\"\u001B[39;49m\u001B[38;5;124;43mnsmallest\u001B[39;49m\u001B[38;5;124;43m\"\u001B[39;49m\u001B[43m)\u001B[49m\n",
      "File \u001B[0;32m~/.local/lib/python3.12/site-packages/pandas/core/methods/selectn.py:96\u001B[0m, in \u001B[0;36mSelectNSeries.compute\u001B[0;34m(self, method)\u001B[0m\n\u001B[1;32m     94\u001B[0m dtype \u001B[38;5;241m=\u001B[39m \u001B[38;5;28mself\u001B[39m\u001B[38;5;241m.\u001B[39mobj\u001B[38;5;241m.\u001B[39mdtype\n\u001B[1;32m     95\u001B[0m \u001B[38;5;28;01mif\u001B[39;00m \u001B[38;5;129;01mnot\u001B[39;00m \u001B[38;5;28mself\u001B[39m\u001B[38;5;241m.\u001B[39mis_valid_dtype_n_method(dtype):\n\u001B[0;32m---> 96\u001B[0m     \u001B[38;5;28;01mraise\u001B[39;00m \u001B[38;5;167;01mTypeError\u001B[39;00m(\u001B[38;5;124mf\u001B[39m\u001B[38;5;124m\"\u001B[39m\u001B[38;5;124mCannot use method \u001B[39m\u001B[38;5;124m'\u001B[39m\u001B[38;5;132;01m{\u001B[39;00mmethod\u001B[38;5;132;01m}\u001B[39;00m\u001B[38;5;124m'\u001B[39m\u001B[38;5;124m with dtype \u001B[39m\u001B[38;5;132;01m{\u001B[39;00mdtype\u001B[38;5;132;01m}\u001B[39;00m\u001B[38;5;124m\"\u001B[39m)\n\u001B[1;32m     98\u001B[0m \u001B[38;5;28;01mif\u001B[39;00m n \u001B[38;5;241m<\u001B[39m\u001B[38;5;241m=\u001B[39m \u001B[38;5;241m0\u001B[39m:\n\u001B[1;32m     99\u001B[0m     \u001B[38;5;28;01mreturn\u001B[39;00m \u001B[38;5;28mself\u001B[39m\u001B[38;5;241m.\u001B[39mobj[[]]\n",
      "\u001B[0;31mTypeError\u001B[0m: Cannot use method 'nsmallest' with dtype object"
     ]
    }
   ],
   "execution_count": 19
  },
  {
   "metadata": {},
   "cell_type": "markdown",
   "source": "## Counting occurrences",
   "id": "aa0637b29374800"
  },
  {
   "metadata": {
    "ExecuteTime": {
     "end_time": "2024-06-24T13:44:19.662091Z",
     "start_time": "2024-06-24T13:44:19.647259Z"
    }
   },
   "cell_type": "code",
   "source": "len(pokemon)",
   "id": "33647106fea75e9b",
   "outputs": [
    {
     "data": {
      "text/plain": [
       "809"
      ]
     },
     "execution_count": 29,
     "metadata": {},
     "output_type": "execute_result"
    }
   ],
   "execution_count": 29
  },
  {
   "metadata": {
    "ExecuteTime": {
     "end_time": "2024-06-24T13:40:04.230743Z",
     "start_time": "2024-06-24T13:40:04.224813Z"
    }
   },
   "cell_type": "code",
   "source": "pokemon.nunique()",
   "id": "42b4efa7c1783d0e",
   "outputs": [
    {
     "data": {
      "text/plain": [
       "159"
      ]
     },
     "execution_count": 28,
     "metadata": {},
     "output_type": "execute_result"
    }
   ],
   "execution_count": 28
  },
  {
   "metadata": {
    "ExecuteTime": {
     "end_time": "2024-06-24T13:36:04.142371Z",
     "start_time": "2024-06-24T13:36:04.131518Z"
    }
   },
   "cell_type": "code",
   "source": [
    "# Count the unique values, so it is possible to have less or equal values than in the original data\n",
    "# in this case 159 values of 159\n",
    "pokemon.value_counts()"
   ],
   "id": "dff59e277f50f6d9",
   "outputs": [
    {
     "data": {
      "text/plain": [
       "Type\n",
       "Normal                65\n",
       "Water                 61\n",
       "Grass                 38\n",
       "Psychic               35\n",
       "Fire                  30\n",
       "                      ..\n",
       "Fire / Psychic         1\n",
       "Normal / Ground        1\n",
       "Psychic / Fighting     1\n",
       "Dark / Ghost           1\n",
       "Fire / Ghost           1\n",
       "Name: count, Length: 159, dtype: int64"
      ]
     },
     "execution_count": 26,
     "metadata": {},
     "output_type": "execute_result"
    }
   ],
   "execution_count": 26
  },
  {
   "metadata": {},
   "cell_type": "markdown",
   "source": "`normalize` parameter when us True gives the relative frequency of that value. $N(a) / total$",
   "id": "f24655b0e5f06d01"
  },
  {
   "metadata": {
    "ExecuteTime": {
     "end_time": "2024-06-24T13:46:20.614934Z",
     "start_time": "2024-06-24T13:46:20.605215Z"
    }
   },
   "cell_type": "code",
   "source": "pokemon.value_counts(normalize=True)",
   "id": "58b7863212a7d22e",
   "outputs": [
    {
     "data": {
      "text/plain": [
       "Type\n",
       "Normal                0.080346\n",
       "Water                 0.075402\n",
       "Grass                 0.046972\n",
       "Psychic               0.043263\n",
       "Fire                  0.037083\n",
       "                        ...   \n",
       "Fire / Psychic        0.001236\n",
       "Normal / Ground       0.001236\n",
       "Psychic / Fighting    0.001236\n",
       "Dark / Ghost          0.001236\n",
       "Fire / Ghost          0.001236\n",
       "Name: proportion, Length: 159, dtype: float64"
      ]
     },
     "execution_count": 33,
     "metadata": {},
     "output_type": "execute_result"
    }
   ],
   "execution_count": 33
  },
  {
   "metadata": {},
   "cell_type": "markdown",
   "source": "We can round the values of a Series with the `round()` method",
   "id": "c1bcfe107b280070"
  },
  {
   "metadata": {
    "ExecuteTime": {
     "end_time": "2024-06-24T13:52:03.319879Z",
     "start_time": "2024-06-24T13:52:03.304888Z"
    }
   },
   "cell_type": "code",
   "source": "(pokemon.value_counts(normalize=True) * 100).round(2)",
   "id": "51d6bdedcf04bab",
   "outputs": [
    {
     "data": {
      "text/plain": [
       "Type\n",
       "Normal                8.03\n",
       "Water                 7.54\n",
       "Grass                 4.70\n",
       "Psychic               4.33\n",
       "Fire                  3.71\n",
       "                      ... \n",
       "Fire / Psychic        0.12\n",
       "Normal / Ground       0.12\n",
       "Psychic / Fighting    0.12\n",
       "Dark / Ghost          0.12\n",
       "Fire / Ghost          0.12\n",
       "Name: proportion, Length: 159, dtype: float64"
      ]
     },
     "execution_count": 41,
     "metadata": {},
     "output_type": "execute_result"
    }
   ],
   "execution_count": 41
  },
  {
   "metadata": {},
   "cell_type": "markdown",
   "source": [
    "## Grouping data\n",
    "To identify trends in numeric data sets, it can be more beneficial to group values into\n",
    "predefined intervals rather than count distinct values."
   ],
   "id": "55fb9b01a43b6c1e"
  },
  {
   "metadata": {
    "ExecuteTime": {
     "end_time": "2024-06-24T13:55:42.605328Z",
     "start_time": "2024-06-24T13:55:42.591782Z"
    }
   },
   "cell_type": "code",
   "source": "google.max()",
   "id": "a1a16c357a6d3fda",
   "outputs": [
    {
     "data": {
      "text/plain": [
       "1287.58"
      ]
     },
     "execution_count": 42,
     "metadata": {},
     "output_type": "execute_result"
    }
   ],
   "execution_count": 42
  },
  {
   "metadata": {
    "ExecuteTime": {
     "end_time": "2024-06-24T13:55:48.553185Z",
     "start_time": "2024-06-24T13:55:48.547354Z"
    }
   },
   "cell_type": "code",
   "source": "google.min()",
   "id": "287a29a56b64b877",
   "outputs": [
    {
     "data": {
      "text/plain": [
       "49.82"
      ]
     },
     "execution_count": 43,
     "metadata": {},
     "output_type": "execute_result"
    }
   ],
   "execution_count": 43
  },
  {
   "metadata": {},
   "cell_type": "markdown",
   "source": [
    "The data is between $1287.58$ and $49.82$ so, we have approximately 1250 values in those ranges\n",
    "Let's group the values in intervals of 200"
   ],
   "id": "c6a74438bd67f285"
  },
  {
   "metadata": {
    "ExecuteTime": {
     "end_time": "2024-06-24T14:01:02.847643Z",
     "start_time": "2024-06-24T14:01:02.829859Z"
    }
   },
   "cell_type": "code",
   "source": [
    "bucks = np.linspace(0, 1400, 8)\n",
    "bucks"
   ],
   "id": "c767ed8fbe8af744",
   "outputs": [
    {
     "data": {
      "text/plain": [
       "array([   0.,  200.,  400.,  600.,  800., 1000., 1200., 1400.])"
      ]
     },
     "execution_count": 47,
     "metadata": {},
     "output_type": "execute_result"
    }
   ],
   "execution_count": 47
  },
  {
   "metadata": {},
   "cell_type": "markdown",
   "source": "The `bins` parameter of `value_counts()` group the values in half-open intervals",
   "id": "2439a0bbaedda2d0"
  },
  {
   "metadata": {
    "ExecuteTime": {
     "end_time": "2024-06-24T14:34:00.721790Z",
     "start_time": "2024-06-24T14:34:00.708775Z"
    }
   },
   "cell_type": "code",
   "source": "google.value_counts(bins=bucks, sort=False)",
   "id": "308d7fdd1aa2b68d",
   "outputs": [
    {
     "data": {
      "text/plain": [
       "(-0.001, 200.0]      595\n",
       "(200.0, 400.0]      1568\n",
       "(400.0, 600.0]       575\n",
       "(600.0, 800.0]       380\n",
       "(800.0, 1000.0]      207\n",
       "(1000.0, 1200.0]     406\n",
       "(1200.0, 1400.0]      93\n",
       "Name: count, dtype: int64"
      ]
     },
     "execution_count": 55,
     "metadata": {},
     "output_type": "execute_result"
    }
   ],
   "execution_count": 55
  },
  {
   "metadata": {
    "ExecuteTime": {
     "end_time": "2024-06-24T14:05:26.602504Z",
     "start_time": "2024-06-24T14:05:26.561864Z"
    }
   },
   "cell_type": "code",
   "source": [
    "# Here the price was between 200 and 400 in 1568 values of the dataset\n",
    "google.value_counts(bins=bucks).sort_index(ascending=True)"
   ],
   "id": "e0aa51bc165f8165",
   "outputs": [
    {
     "data": {
      "text/plain": [
       "(-0.001, 200.0]      595\n",
       "(200.0, 400.0]      1568\n",
       "(400.0, 600.0]       575\n",
       "(600.0, 800.0]       380\n",
       "(800.0, 1000.0]      207\n",
       "(1000.0, 1200.0]     406\n",
       "(1200.0, 1400.0]      93\n",
       "Name: count, dtype: int64"
      ]
     },
     "execution_count": 51,
     "metadata": {},
     "output_type": "execute_result"
    }
   ],
   "execution_count": 51
  },
  {
   "metadata": {
    "ExecuteTime": {
     "end_time": "2024-06-24T14:38:37.440292Z",
     "start_time": "2024-06-24T14:38:37.423378Z"
    }
   },
   "cell_type": "code",
   "source": [
    "# with numbers\n",
    "google.value_counts(bins=7, sort=False)"
   ],
   "id": "8252407a43a470bb",
   "outputs": [
    {
     "data": {
      "text/plain": [
       "(48.581, 226.643]       824\n",
       "(226.643, 403.466]     1346\n",
       "(403.466, 580.289]      514\n",
       "(580.289, 757.111]      313\n",
       "(757.111, 933.934]      256\n",
       "(933.934, 1110.757]     293\n",
       "(1110.757, 1287.58]     278\n",
       "Name: count, dtype: int64"
      ]
     },
     "execution_count": 59,
     "metadata": {},
     "output_type": "execute_result"
    }
   ],
   "execution_count": 59
  },
  {
   "metadata": {},
   "cell_type": "markdown",
   "source": "### Working with battles",
   "id": "d5e7428ef4f17377"
  },
  {
   "metadata": {
    "ExecuteTime": {
     "end_time": "2024-06-24T14:40:35.922394Z",
     "start_time": "2024-06-24T14:40:35.913150Z"
    }
   },
   "cell_type": "code",
   "source": "battles.value_counts(dropna=False)",
   "id": "c97f55b279d72582",
   "outputs": [
    {
     "data": {
      "text/plain": [
       "State\n",
       "NaN               70\n",
       "South Carolina    31\n",
       "New York          28\n",
       "New Jersey        24\n",
       "Virginia          21\n",
       "Massachusetts     11\n",
       "Pennsylvania      10\n",
       "North Carolina     9\n",
       "Florida            8\n",
       "Georgia            6\n",
       "Rhode Island       3\n",
       "Connecticut        3\n",
       "Vermont            3\n",
       "New Hampshire      1\n",
       "Delaware           1\n",
       "Indiana            1\n",
       "Louisiana          1\n",
       "Ohio               1\n",
       "Name: count, dtype: int64"
      ]
     },
     "execution_count": 61,
     "metadata": {},
     "output_type": "execute_result"
    }
   ],
   "execution_count": 61
  },
  {
   "metadata": {},
   "cell_type": "markdown",
   "source": "We have seen that all previous method works for values of the Series. We can apply those method also for the index but we need the Series.index attribute",
   "id": "87042ab715a8c732"
  },
  {
   "metadata": {
    "ExecuteTime": {
     "end_time": "2024-06-24T14:55:23.978502Z",
     "start_time": "2024-06-24T14:55:23.968595Z"
    }
   },
   "cell_type": "code",
   "source": "battles.index.value_counts(dropna=False)",
   "id": "2e29aafeb0607239",
   "outputs": [
    {
     "data": {
      "text/plain": [
       "Start Date\n",
       "NaT           4\n",
       "1777-08-22    2\n",
       "1781-05-22    2\n",
       "1782-01-11    2\n",
       "1780-08-18    2\n",
       "             ..\n",
       "1778-06-30    1\n",
       "1778-07-03    1\n",
       "1778-07-27    1\n",
       "1778-08-21    1\n",
       "1783-01-22    1\n",
       "Name: count, Length: 218, dtype: int64"
      ]
     },
     "execution_count": 65,
     "metadata": {},
     "output_type": "execute_result"
    }
   ],
   "execution_count": 65
  },
  {
   "metadata": {},
   "cell_type": "markdown",
   "source": [
    "# apply method\n",
    "\n",
    "This method takes as argument a function **(the name)** and applies the function to each Series' value\n",
    "\n",
    "It can also be a lambda function"
   ],
   "id": "2faa4adcc8516ccb"
  },
  {
   "metadata": {
    "ExecuteTime": {
     "end_time": "2024-06-24T15:16:58.234937Z",
     "start_time": "2024-06-24T15:16:58.224846Z"
    }
   },
   "cell_type": "code",
   "source": "google",
   "id": "4afdd481bc724148",
   "outputs": [
    {
     "data": {
      "text/plain": [
       "Date\n",
       "2004-08-19      49.98\n",
       "2004-08-20      53.95\n",
       "2004-08-23      54.50\n",
       "2004-08-24      52.24\n",
       "2004-08-25      52.80\n",
       "               ...   \n",
       "2019-10-21    1246.15\n",
       "2019-10-22    1242.80\n",
       "2019-10-23    1259.13\n",
       "2019-10-24    1260.99\n",
       "2019-10-25    1265.13\n",
       "Name: Close, Length: 3824, dtype: float64"
      ]
     },
     "execution_count": 67,
     "metadata": {},
     "output_type": "execute_result"
    }
   ],
   "execution_count": 67
  },
  {
   "metadata": {
    "ExecuteTime": {
     "end_time": "2024-06-24T15:16:44.154872Z",
     "start_time": "2024-06-24T15:16:44.151336Z"
    }
   },
   "cell_type": "code",
   "source": [
    "def square(x):\n",
    "    return x ** 2"
   ],
   "id": "ccf2220746c5b1cf",
   "outputs": [],
   "execution_count": 66
  },
  {
   "metadata": {
    "ExecuteTime": {
     "end_time": "2024-06-24T15:17:02.446569Z",
     "start_time": "2024-06-24T15:17:02.424004Z"
    }
   },
   "cell_type": "code",
   "source": "google.apply(square)",
   "id": "564e53cea1b84a2",
   "outputs": [
    {
     "data": {
      "text/plain": [
       "Date\n",
       "2004-08-19    2.498000e+03\n",
       "2004-08-20    2.910603e+03\n",
       "2004-08-23    2.970250e+03\n",
       "2004-08-24    2.729018e+03\n",
       "2004-08-25    2.787840e+03\n",
       "                  ...     \n",
       "2019-10-21    1.552890e+06\n",
       "2019-10-22    1.544552e+06\n",
       "2019-10-23    1.585408e+06\n",
       "2019-10-24    1.590096e+06\n",
       "2019-10-25    1.600554e+06\n",
       "Name: Close, Length: 3824, dtype: float64"
      ]
     },
     "execution_count": 68,
     "metadata": {},
     "output_type": "execute_result"
    }
   ],
   "execution_count": 68
  },
  {
   "metadata": {},
   "cell_type": "markdown",
   "source": "So it is the same do:",
   "id": "41ae42af6ec9119"
  },
  {
   "metadata": {
    "ExecuteTime": {
     "end_time": "2024-06-24T15:19:21.322328Z",
     "start_time": "2024-06-24T15:19:21.313510Z"
    }
   },
   "cell_type": "code",
   "source": [
    "# Here we are using the method that is defined in pandas class Series\n",
    "google.round()"
   ],
   "id": "6eff051e3a36cc94",
   "outputs": [
    {
     "data": {
      "text/plain": [
       "Date\n",
       "2004-08-19      50.0\n",
       "2004-08-20      54.0\n",
       "2004-08-23      54.0\n",
       "2004-08-24      52.0\n",
       "2004-08-25      53.0\n",
       "               ...  \n",
       "2019-10-21    1246.0\n",
       "2019-10-22    1243.0\n",
       "2019-10-23    1259.0\n",
       "2019-10-24    1261.0\n",
       "2019-10-25    1265.0\n",
       "Name: Close, Length: 3824, dtype: float64"
      ]
     },
     "execution_count": 69,
     "metadata": {},
     "output_type": "execute_result"
    }
   ],
   "execution_count": 69
  },
  {
   "metadata": {},
   "cell_type": "markdown",
   "source": "using apply method",
   "id": "cb1e296d5e452a7"
  },
  {
   "metadata": {
    "ExecuteTime": {
     "end_time": "2024-06-24T15:19:43.745137Z",
     "start_time": "2024-06-24T15:19:43.734673Z"
    }
   },
   "cell_type": "code",
   "source": [
    "# Here we are using the built-in function, and the apply method\n",
    "google.apply(round)"
   ],
   "id": "682d19ecae04a9ac",
   "outputs": [
    {
     "data": {
      "text/plain": [
       "Date\n",
       "2004-08-19      50\n",
       "2004-08-20      54\n",
       "2004-08-23      54\n",
       "2004-08-24      52\n",
       "2004-08-25      53\n",
       "              ... \n",
       "2019-10-21    1246\n",
       "2019-10-22    1243\n",
       "2019-10-23    1259\n",
       "2019-10-24    1261\n",
       "2019-10-25    1265\n",
       "Name: Close, Length: 3824, dtype: int64"
      ]
     },
     "execution_count": 70,
     "metadata": {},
     "output_type": "execute_result"
    }
   ],
   "execution_count": 70
  },
  {
   "metadata": {},
   "cell_type": "markdown",
   "source": "I want to know if a pokemon has two or one type. According to the format, a / tell us the pokem has more than one type, make a function to know if has a single or multi type",
   "id": "289252d74f24de86"
  },
  {
   "metadata": {
    "ExecuteTime": {
     "end_time": "2024-06-24T15:25:29.265296Z",
     "start_time": "2024-06-24T15:25:29.261168Z"
    }
   },
   "cell_type": "code",
   "source": [
    "def single_or_multi(pokemon_type: str):\n",
    "    if '/' in pokemon_type:\n",
    "        return 'multi'\n",
    "    \n",
    "    return 'single'"
   ],
   "id": "a4db986f52768712",
   "outputs": [],
   "execution_count": 71
  },
  {
   "metadata": {
    "ExecuteTime": {
     "end_time": "2024-06-24T15:25:51.621159Z",
     "start_time": "2024-06-24T15:25:51.613802Z"
    }
   },
   "cell_type": "code",
   "source": "pokemon",
   "id": "ff1fb84baeb9e867",
   "outputs": [
    {
     "data": {
      "text/plain": [
       "Pokemon\n",
       "Bulbasaur      Grass / Poison\n",
       "Ivysaur        Grass / Poison\n",
       "Venusaur       Grass / Poison\n",
       "Charmander               Fire\n",
       "Charmeleon               Fire\n",
       "                    ...      \n",
       "Stakataka        Rock / Steel\n",
       "Blacephalon      Fire / Ghost\n",
       "Zeraora              Electric\n",
       "Meltan                  Steel\n",
       "Melmetal                Steel\n",
       "Name: Type, Length: 809, dtype: object"
      ]
     },
     "execution_count": 73,
     "metadata": {},
     "output_type": "execute_result"
    }
   ],
   "execution_count": 73
  },
  {
   "metadata": {
    "ExecuteTime": {
     "end_time": "2024-06-24T15:27:33.978755Z",
     "start_time": "2024-06-24T15:27:33.974860Z"
    }
   },
   "cell_type": "code",
   "source": "what_type = pokemon.apply(single_or_multi)",
   "id": "d053f60ed7cf31d2",
   "outputs": [],
   "execution_count": 74
  },
  {
   "metadata": {},
   "cell_type": "markdown",
   "source": "How many are multi and how are single?",
   "id": "cddac7b65fb2e46b"
  },
  {
   "metadata": {
    "ExecuteTime": {
     "end_time": "2024-06-24T15:27:52.448896Z",
     "start_time": "2024-06-24T15:27:52.441777Z"
    }
   },
   "cell_type": "code",
   "source": "what_type.value_counts(dropna=False)",
   "id": "4fd02e0925b25956",
   "outputs": [
    {
     "data": {
      "text/plain": [
       "Type\n",
       "multi     405\n",
       "single    404\n",
       "Name: count, dtype: int64"
      ]
     },
     "execution_count": 75,
     "metadata": {},
     "output_type": "execute_result"
    }
   ],
   "execution_count": 75
  }
 ],
 "metadata": {
  "kernelspec": {
   "display_name": "Python 3",
   "language": "python",
   "name": "python3"
  },
  "language_info": {
   "codemirror_mode": {
    "name": "ipython",
    "version": 2
   },
   "file_extension": ".py",
   "mimetype": "text/x-python",
   "name": "python",
   "nbconvert_exporter": "python",
   "pygments_lexer": "ipython2",
   "version": "2.7.6"
  }
 },
 "nbformat": 4,
 "nbformat_minor": 5
}
