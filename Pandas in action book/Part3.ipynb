{
 "cells": [
  {
   "metadata": {},
   "cell_type": "markdown",
   "source": "# Series methods",
   "id": "ad1a6332e0a7c7b1"
  },
  {
   "cell_type": "code",
   "id": "initial_id",
   "metadata": {
    "collapsed": true,
    "ExecuteTime": {
     "end_time": "2024-06-23T15:17:52.956546Z",
     "start_time": "2024-06-23T15:17:51.727633Z"
    }
   },
   "source": "import pandas as pd",
   "outputs": [
    {
     "name": "stderr",
     "output_type": "stream",
     "text": [
      "/usr/lib/python3/dist-packages/pytz/__init__.py:31: SyntaxWarning: invalid escape sequence '\\s'\n",
      "  match = re.match(\"^#\\s*version\\s*([0-9a-z]*)\\s*$\", line)\n"
     ]
    }
   ],
   "execution_count": 1
  },
  {
   "metadata": {},
   "cell_type": "markdown",
   "source": "# converting from dataframe to series",
   "id": "85aea1f8a5b21acd"
  },
  {
   "metadata": {
    "ExecuteTime": {
     "end_time": "2024-06-23T15:31:12.535501Z",
     "start_time": "2024-06-23T15:31:12.490629Z"
    }
   },
   "cell_type": "code",
   "source": "pd.read_csv('/home/diego/Documents/Data/pokemon.csv')  # This is a dataframe",
   "id": "b1e9e355cb248bb3",
   "outputs": [
    {
     "data": {
      "text/plain": [
       "         Pokemon            Type\n",
       "0      Bulbasaur  Grass / Poison\n",
       "1        Ivysaur  Grass / Poison\n",
       "2       Venusaur  Grass / Poison\n",
       "3     Charmander            Fire\n",
       "4     Charmeleon            Fire\n",
       "..           ...             ...\n",
       "804    Stakataka    Rock / Steel\n",
       "805  Blacephalon    Fire / Ghost\n",
       "806      Zeraora        Electric\n",
       "807       Meltan           Steel\n",
       "808     Melmetal           Steel\n",
       "\n",
       "[809 rows x 2 columns]"
      ],
      "text/html": [
       "<div>\n",
       "<style scoped>\n",
       "    .dataframe tbody tr th:only-of-type {\n",
       "        vertical-align: middle;\n",
       "    }\n",
       "\n",
       "    .dataframe tbody tr th {\n",
       "        vertical-align: top;\n",
       "    }\n",
       "\n",
       "    .dataframe thead th {\n",
       "        text-align: right;\n",
       "    }\n",
       "</style>\n",
       "<table border=\"1\" class=\"dataframe\">\n",
       "  <thead>\n",
       "    <tr style=\"text-align: right;\">\n",
       "      <th></th>\n",
       "      <th>Pokemon</th>\n",
       "      <th>Type</th>\n",
       "    </tr>\n",
       "  </thead>\n",
       "  <tbody>\n",
       "    <tr>\n",
       "      <th>0</th>\n",
       "      <td>Bulbasaur</td>\n",
       "      <td>Grass / Poison</td>\n",
       "    </tr>\n",
       "    <tr>\n",
       "      <th>1</th>\n",
       "      <td>Ivysaur</td>\n",
       "      <td>Grass / Poison</td>\n",
       "    </tr>\n",
       "    <tr>\n",
       "      <th>2</th>\n",
       "      <td>Venusaur</td>\n",
       "      <td>Grass / Poison</td>\n",
       "    </tr>\n",
       "    <tr>\n",
       "      <th>3</th>\n",
       "      <td>Charmander</td>\n",
       "      <td>Fire</td>\n",
       "    </tr>\n",
       "    <tr>\n",
       "      <th>4</th>\n",
       "      <td>Charmeleon</td>\n",
       "      <td>Fire</td>\n",
       "    </tr>\n",
       "    <tr>\n",
       "      <th>...</th>\n",
       "      <td>...</td>\n",
       "      <td>...</td>\n",
       "    </tr>\n",
       "    <tr>\n",
       "      <th>804</th>\n",
       "      <td>Stakataka</td>\n",
       "      <td>Rock / Steel</td>\n",
       "    </tr>\n",
       "    <tr>\n",
       "      <th>805</th>\n",
       "      <td>Blacephalon</td>\n",
       "      <td>Fire / Ghost</td>\n",
       "    </tr>\n",
       "    <tr>\n",
       "      <th>806</th>\n",
       "      <td>Zeraora</td>\n",
       "      <td>Electric</td>\n",
       "    </tr>\n",
       "    <tr>\n",
       "      <th>807</th>\n",
       "      <td>Meltan</td>\n",
       "      <td>Steel</td>\n",
       "    </tr>\n",
       "    <tr>\n",
       "      <th>808</th>\n",
       "      <td>Melmetal</td>\n",
       "      <td>Steel</td>\n",
       "    </tr>\n",
       "  </tbody>\n",
       "</table>\n",
       "<p>809 rows × 2 columns</p>\n",
       "</div>"
      ]
     },
     "execution_count": 8,
     "metadata": {},
     "output_type": "execute_result"
    }
   ],
   "execution_count": 8
  },
  {
   "metadata": {
    "ExecuteTime": {
     "end_time": "2024-06-23T17:34:45.640063Z",
     "start_time": "2024-06-23T17:34:45.623422Z"
    }
   },
   "cell_type": "code",
   "source": [
    "# change to a series object\n",
    "\n",
    "pokemon = pd.read_csv('/home/diego/Documents/Data/pokemon.csv', index_col='Pokemon')  # DataFrame with a column of values yet\n",
    "\n",
    "# To force change to a Series object, we use the dataframe's method squeeze\n",
    "pokemon = pokemon.squeeze()  # Now a Series\n",
    "type(pokemon)\n",
    "pokemon"
   ],
   "id": "8e5dda0fff966552",
   "outputs": [
    {
     "data": {
      "text/plain": [
       "Pokemon\n",
       "Bulbasaur      Grass / Poison\n",
       "Ivysaur        Grass / Poison\n",
       "Venusaur       Grass / Poison\n",
       "Charmander               Fire\n",
       "Charmeleon               Fire\n",
       "                    ...      \n",
       "Stakataka        Rock / Steel\n",
       "Blacephalon      Fire / Ghost\n",
       "Zeraora              Electric\n",
       "Meltan                  Steel\n",
       "Melmetal                Steel\n",
       "Name: Type, Length: 809, dtype: object"
      ]
     },
     "execution_count": 17,
     "metadata": {},
     "output_type": "execute_result"
    }
   ],
   "execution_count": 17
  },
  {
   "metadata": {},
   "cell_type": "markdown",
   "source": "## now with google.csv",
   "id": "8c3a7d40992ed0e6"
  },
  {
   "metadata": {
    "ExecuteTime": {
     "end_time": "2024-06-23T18:00:03.671619Z",
     "start_time": "2024-06-23T18:00:03.653438Z"
    }
   },
   "cell_type": "code",
   "source": [
    "# We are opening the google_stocks csv. We are changing our Date format from string to Date format, then we set the column as index. Finally, we are converting the Dataframe to a Series object\n",
    "google = pd.read_csv('/home/diego/Documents/Data/google_stocks.csv', parse_dates=['Date'], index_col='Date').squeeze()\n",
    "google"
   ],
   "id": "d1415d814aca6689",
   "outputs": [
    {
     "data": {
      "text/plain": [
       "Date\n",
       "2004-08-19      49.98\n",
       "2004-08-20      53.95\n",
       "2004-08-23      54.50\n",
       "2004-08-24      52.24\n",
       "2004-08-25      52.80\n",
       "               ...   \n",
       "2019-10-21    1246.15\n",
       "2019-10-22    1242.80\n",
       "2019-10-23    1259.13\n",
       "2019-10-24    1260.99\n",
       "2019-10-25    1265.13\n",
       "Name: Close, Length: 3824, dtype: float64"
      ]
     },
     "execution_count": 43,
     "metadata": {},
     "output_type": "execute_result"
    }
   ],
   "execution_count": 43
  },
  {
   "metadata": {},
   "cell_type": "markdown",
   "source": "## Now revolutionary_war file",
   "id": "36057192522dc5c2"
  },
  {
   "metadata": {
    "ExecuteTime": {
     "end_time": "2024-06-23T18:18:04.238498Z",
     "start_time": "2024-06-23T18:18:04.222907Z"
    }
   },
   "cell_type": "code",
   "source": [
    "pd.read_csv('/home/diego/Documents/Data/revolutionary_war.csv', \n",
    "            index_col='Battle', \n",
    "            parse_dates=['Start Date']).tail()"
   ],
   "id": "f02a2b817ab33170",
   "outputs": [
    {
     "data": {
      "text/plain": [
       "                           Start Date     State\n",
       "Battle                                         \n",
       "Siege of Fort Henry        1782-09-11  Virginia\n",
       "Grand Assault on Gibraltar 1782-09-13       NaN\n",
       "Action of 18 October 1782  1782-10-18       NaN\n",
       "Action of 6 December 1782  1782-12-06       NaN\n",
       "Action of 22 January 1783  1783-01-22  Virginia"
      ],
      "text/html": [
       "<div>\n",
       "<style scoped>\n",
       "    .dataframe tbody tr th:only-of-type {\n",
       "        vertical-align: middle;\n",
       "    }\n",
       "\n",
       "    .dataframe tbody tr th {\n",
       "        vertical-align: top;\n",
       "    }\n",
       "\n",
       "    .dataframe thead th {\n",
       "        text-align: right;\n",
       "    }\n",
       "</style>\n",
       "<table border=\"1\" class=\"dataframe\">\n",
       "  <thead>\n",
       "    <tr style=\"text-align: right;\">\n",
       "      <th></th>\n",
       "      <th>Start Date</th>\n",
       "      <th>State</th>\n",
       "    </tr>\n",
       "    <tr>\n",
       "      <th>Battle</th>\n",
       "      <th></th>\n",
       "      <th></th>\n",
       "    </tr>\n",
       "  </thead>\n",
       "  <tbody>\n",
       "    <tr>\n",
       "      <th>Siege of Fort Henry</th>\n",
       "      <td>1782-09-11</td>\n",
       "      <td>Virginia</td>\n",
       "    </tr>\n",
       "    <tr>\n",
       "      <th>Grand Assault on Gibraltar</th>\n",
       "      <td>1782-09-13</td>\n",
       "      <td>NaN</td>\n",
       "    </tr>\n",
       "    <tr>\n",
       "      <th>Action of 18 October 1782</th>\n",
       "      <td>1782-10-18</td>\n",
       "      <td>NaN</td>\n",
       "    </tr>\n",
       "    <tr>\n",
       "      <th>Action of 6 December 1782</th>\n",
       "      <td>1782-12-06</td>\n",
       "      <td>NaN</td>\n",
       "    </tr>\n",
       "    <tr>\n",
       "      <th>Action of 22 January 1783</th>\n",
       "      <td>1783-01-22</td>\n",
       "      <td>Virginia</td>\n",
       "    </tr>\n",
       "  </tbody>\n",
       "</table>\n",
       "</div>"
      ]
     },
     "execution_count": 52,
     "metadata": {},
     "output_type": "execute_result"
    }
   ],
   "execution_count": 52
  },
  {
   "metadata": {},
   "cell_type": "markdown",
   "source": [
    "In this case, if we want to convert from dataframe to Series, we can't do that directly because we have three columns of values\n",
    "\n",
    "So we need to limit the import of columns to only two with the parameter `usecols`\n"
   ],
   "id": "353671b8730445c6"
  },
  {
   "metadata": {
    "ExecuteTime": {
     "end_time": "2024-06-23T18:20:56.310408Z",
     "start_time": "2024-06-23T18:20:56.296249Z"
    }
   },
   "cell_type": "code",
   "source": [
    "battles = pd.read_csv('/home/diego/Documents/Data/revolutionary_war.csv', \n",
    "            usecols=['Start Date', 'State'],\n",
    "            index_col='Start Date', \n",
    "            parse_dates=['Start Date']).squeeze()\n",
    "battles"
   ],
   "id": "6bf7a803f404b539",
   "outputs": [
    {
     "data": {
      "text/plain": [
       "Start Date\n",
       "1774-09-01    Massachusetts\n",
       "1774-12-14    New Hampshire\n",
       "1775-04-19    Massachusetts\n",
       "1775-04-19    Massachusetts\n",
       "1775-04-20         Virginia\n",
       "                  ...      \n",
       "1782-09-11         Virginia\n",
       "1782-09-13              NaN\n",
       "1782-10-18              NaN\n",
       "1782-12-06              NaN\n",
       "1783-01-22         Virginia\n",
       "Name: State, Length: 232, dtype: object"
      ]
     },
     "execution_count": 57,
     "metadata": {},
     "output_type": "execute_result"
    }
   ],
   "execution_count": 57
  },
  {
   "metadata": {},
   "cell_type": "markdown",
   "source": "## sorting values",
   "id": "9a1f571951a0565"
  },
  {
   "metadata": {
    "ExecuteTime": {
     "end_time": "2024-06-23T19:33:50.189067Z",
     "start_time": "2024-06-23T19:33:50.179008Z"
    }
   },
   "cell_type": "code",
   "source": "google.sort_values()",
   "id": "ba81b597b09daca7",
   "outputs": [
    {
     "data": {
      "text/plain": [
       "Date\n",
       "2004-09-03      49.82\n",
       "2004-09-01      49.94\n",
       "2004-08-19      49.98\n",
       "2004-09-02      50.57\n",
       "2004-09-07      50.60\n",
       "               ...   \n",
       "2019-04-23    1264.55\n",
       "2019-10-25    1265.13\n",
       "2018-07-26    1268.33\n",
       "2019-04-26    1272.18\n",
       "2019-04-29    1287.58\n",
       "Name: Close, Length: 3824, dtype: float64"
      ]
     },
     "execution_count": 60,
     "metadata": {},
     "output_type": "execute_result"
    }
   ],
   "execution_count": 60
  },
  {
   "metadata": {
    "ExecuteTime": {
     "end_time": "2024-06-23T19:34:05.229420Z",
     "start_time": "2024-06-23T19:34:05.219656Z"
    }
   },
   "cell_type": "code",
   "source": "pokemon.sort_values()",
   "id": "e898a47139990da6",
   "outputs": [
    {
     "data": {
      "text/plain": [
       "Pokemon\n",
       "Illumise                Bug\n",
       "Silcoon                 Bug\n",
       "Pinsir                  Bug\n",
       "Burmy                   Bug\n",
       "Wurmple                 Bug\n",
       "                  ...      \n",
       "Tirtouga       Water / Rock\n",
       "Relicanth      Water / Rock\n",
       "Corsola        Water / Rock\n",
       "Carracosta     Water / Rock\n",
       "Empoleon      Water / Steel\n",
       "Name: Type, Length: 809, dtype: object"
      ]
     },
     "execution_count": 61,
     "metadata": {},
     "output_type": "execute_result"
    }
   ],
   "execution_count": 61
  },
  {
   "metadata": {
    "ExecuteTime": {
     "end_time": "2024-06-23T19:37:48.231857Z",
     "start_time": "2024-06-23T19:37:48.224735Z"
    }
   },
   "cell_type": "code",
   "source": [
    "# When sorting, by default the nan values are at the end of the series\n",
    "battles.sort_values().tail()"
   ],
   "id": "21905dc8a5f68483",
   "outputs": [
    {
     "data": {
      "text/plain": [
       "Start Date\n",
       "1782-08-08    NaN\n",
       "1782-08-25    NaN\n",
       "1782-09-13    NaN\n",
       "1782-10-18    NaN\n",
       "1782-12-06    NaN\n",
       "Name: State, dtype: object"
      ]
     },
     "execution_count": 63,
     "metadata": {},
     "output_type": "execute_result"
    }
   ],
   "execution_count": 63
  },
  {
   "metadata": {
    "ExecuteTime": {
     "end_time": "2024-06-23T19:39:41.732115Z",
     "start_time": "2024-06-23T19:39:41.724285Z"
    }
   },
   "cell_type": "code",
   "source": [
    "# nan values at first\n",
    "battles.sort_values(na_position='first').head()"
   ],
   "id": "8b587670a041bab5",
   "outputs": [
    {
     "data": {
      "text/plain": [
       "Start Date\n",
       "1775-09-17    NaN\n",
       "1775-12-31    NaN\n",
       "1776-03-03    NaN\n",
       "1776-03-25    NaN\n",
       "1776-05-18    NaN\n",
       "Name: State, dtype: object"
      ]
     },
     "execution_count": 65,
     "metadata": {},
     "output_type": "execute_result"
    }
   ],
   "execution_count": 65
  },
  {
   "metadata": {},
   "cell_type": "markdown",
   "source": "## Dropping nan",
   "id": "f58ada901b10c88f"
  },
  {
   "metadata": {
    "ExecuteTime": {
     "end_time": "2024-06-23T19:45:41.689486Z",
     "start_time": "2024-06-23T19:45:41.678326Z"
    }
   },
   "cell_type": "code",
   "source": "battles.dropna().sort_values()",
   "id": "fd3ac0ef83be8ffe",
   "outputs": [
    {
     "data": {
      "text/plain": [
       "Start Date\n",
       "1781-09-06    Connecticut\n",
       "1779-07-05    Connecticut\n",
       "1777-04-27    Connecticut\n",
       "1777-09-03       Delaware\n",
       "1777-05-17        Florida\n",
       "                 ...     \n",
       "1781-07-06       Virginia\n",
       "1781-07-01       Virginia\n",
       "1781-06-26       Virginia\n",
       "1781-04-25       Virginia\n",
       "1783-01-22       Virginia\n",
       "Name: State, Length: 162, dtype: object"
      ]
     },
     "execution_count": 67,
     "metadata": {},
     "output_type": "execute_result"
    }
   ],
   "execution_count": 67
  },
  {
   "metadata": {},
   "cell_type": "markdown",
   "source": "sorting index",
   "id": "5722039a66e35a3d"
  },
  {
   "metadata": {
    "ExecuteTime": {
     "end_time": "2024-06-23T19:51:16.398068Z",
     "start_time": "2024-06-23T19:51:16.379832Z"
    }
   },
   "cell_type": "code",
   "source": "pokemon.sort_index()",
   "id": "7356451cdedfe022",
   "outputs": [
    {
     "data": {
      "text/plain": [
       "Pokemon\n",
       "Abomasnow        Grass / Ice\n",
       "Abra                 Psychic\n",
       "Absol                   Dark\n",
       "Accelgor                 Bug\n",
       "Aegislash      Steel / Ghost\n",
       "                  ...       \n",
       "Zoroark                 Dark\n",
       "Zorua                   Dark\n",
       "Zubat        Poison / Flying\n",
       "Zweilous       Dark / Dragon\n",
       "Zygarde      Dragon / Ground\n",
       "Name: Type, Length: 809, dtype: object"
      ]
     },
     "execution_count": 68,
     "metadata": {},
     "output_type": "execute_result"
    }
   ],
   "execution_count": 68
  },
  {
   "metadata": {
    "ExecuteTime": {
     "end_time": "2024-06-23T19:58:04.973127Z",
     "start_time": "2024-06-23T19:58:04.947805Z"
    }
   },
   "cell_type": "code",
   "source": "battles.sort_index(na_position='first')",
   "id": "5dd907b28ab7e969",
   "outputs": [
    {
     "data": {
      "text/plain": [
       "Start Date\n",
       "NaT              New Jersey\n",
       "NaT                Virginia\n",
       "NaT                     NaN\n",
       "NaT                     NaN\n",
       "1774-09-01    Massachusetts\n",
       "                  ...      \n",
       "1782-09-11         Virginia\n",
       "1782-09-13              NaN\n",
       "1782-10-18              NaN\n",
       "1782-12-06              NaN\n",
       "1783-01-22         Virginia\n",
       "Name: State, Length: 232, dtype: object"
      ]
     },
     "execution_count": 74,
     "metadata": {},
     "output_type": "execute_result"
    }
   ],
   "execution_count": 74
  },
  {
   "metadata": {},
   "cell_type": "code",
   "outputs": [],
   "execution_count": null,
   "source": "",
   "id": "30c47b8d48186416"
  }
 ],
 "metadata": {
  "kernelspec": {
   "display_name": "Python 3",
   "language": "python",
   "name": "python3"
  },
  "language_info": {
   "codemirror_mode": {
    "name": "ipython",
    "version": 2
   },
   "file_extension": ".py",
   "mimetype": "text/x-python",
   "name": "python",
   "nbconvert_exporter": "python",
   "pygments_lexer": "ipython2",
   "version": "2.7.6"
  }
 },
 "nbformat": 4,
 "nbformat_minor": 5
}
