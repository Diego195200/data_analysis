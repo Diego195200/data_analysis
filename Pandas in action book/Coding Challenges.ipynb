{
 "cells": [
  {
   "metadata": {
    "ExecuteTime": {
     "end_time": "2024-06-22T17:51:46.852669Z",
     "start_time": "2024-06-22T17:51:45.477984Z"
    }
   },
   "cell_type": "code",
   "source": "import pandas as pd",
   "id": "95d1bf40a16456af",
   "outputs": [
    {
     "name": "stderr",
     "output_type": "stream",
     "text": [
      "/usr/lib/python3/dist-packages/pytz/__init__.py:31: SyntaxWarning: invalid escape sequence '\\s'\n",
      "  match = re.match(\"^#\\s*version\\s*([0-9a-z]*)\\s*$\", line)\n"
     ]
    }
   ],
   "execution_count": 2
  },
  {
   "metadata": {},
   "cell_type": "markdown",
   "source": "# 2.7 Coding challenge",
   "id": "9ec437502ee342a5"
  },
  {
   "cell_type": "code",
   "id": "initial_id",
   "metadata": {
    "collapsed": true,
    "ExecuteTime": {
     "end_time": "2024-06-22T17:50:22.979613Z",
     "start_time": "2024-06-22T17:50:22.973624Z"
    }
   },
   "source": [
    "superheroes = [\n",
    "    \"Batman\",\n",
    "    'Superman',\n",
    "    'Spider-Man',\n",
    "    'Iron Man',\n",
    "    'Captain America',\n",
    "    'Wonder Woman'\n",
    "]\n",
    "\n",
    "strength_levels = (100, 120, 90, 95, 110, 120)"
   ],
   "outputs": [],
   "execution_count": 1
  },
  {
   "metadata": {},
   "cell_type": "markdown",
   "source": "1. Use the list of superheroes to populate a new Series object",
   "id": "546a873510264448"
  },
  {
   "metadata": {
    "ExecuteTime": {
     "end_time": "2024-06-22T18:01:30.752909Z",
     "start_time": "2024-06-22T18:01:30.746437Z"
    }
   },
   "cell_type": "code",
   "source": "pd.Series(superheroes)",
   "id": "7c30f3acbe70a449",
   "outputs": [
    {
     "data": {
      "text/plain": [
       "0             Batman\n",
       "1           Superman\n",
       "2         Spider-Man\n",
       "3           Iron Man\n",
       "4    Captain America\n",
       "5       Wonder Woman\n",
       "dtype: object"
      ]
     },
     "execution_count": 23,
     "metadata": {},
     "output_type": "execute_result"
    }
   ],
   "execution_count": 23
  },
  {
   "metadata": {},
   "cell_type": "markdown",
   "source": "2. Use the tuple of strength to populate a new Series object",
   "id": "d738b4e2d1cb3f36"
  },
  {
   "metadata": {
    "ExecuteTime": {
     "end_time": "2024-06-22T18:01:38.863092Z",
     "start_time": "2024-06-22T18:01:38.854519Z"
    }
   },
   "cell_type": "code",
   "source": "pd.Series(strength_levels)",
   "id": "4127eccaf9026b4e",
   "outputs": [
    {
     "data": {
      "text/plain": [
       "0    100\n",
       "1    120\n",
       "2     90\n",
       "3     95\n",
       "4    110\n",
       "5    120\n",
       "dtype: int64"
      ]
     },
     "execution_count": 24,
     "metadata": {},
     "output_type": "execute_result"
    }
   ],
   "execution_count": 24
  },
  {
   "metadata": {},
   "cell_type": "markdown",
   "source": "3. Create a Series with the superheroes as index labels and the strength as values. Assign it to a heroes variable",
   "id": "2124d894b6082dda"
  },
  {
   "metadata": {
    "ExecuteTime": {
     "end_time": "2024-06-22T17:54:46.890462Z",
     "start_time": "2024-06-22T17:54:46.869279Z"
    }
   },
   "cell_type": "code",
   "source": [
    "heroes = pd.Series(data=strength_levels, index=superh)\n",
    "heroes"
   ],
   "id": "93bbb10f53e6cf53",
   "outputs": [
    {
     "data": {
      "text/plain": [
       "Batman             100\n",
       "Superman           120\n",
       "Spider-Man          90\n",
       "Iron Man            95\n",
       "Captain America    110\n",
       "Wonder Woman       120\n",
       "dtype: int64"
      ]
     },
     "execution_count": 9,
     "metadata": {},
     "output_type": "execute_result"
    }
   ],
   "execution_count": 9
  },
  {
   "metadata": {},
   "cell_type": "markdown",
   "source": "4. Extract the first two rows of the heroes series",
   "id": "e90d04fa3f4140b3"
  },
  {
   "metadata": {
    "ExecuteTime": {
     "end_time": "2024-06-22T17:55:54.414055Z",
     "start_time": "2024-06-22T17:55:54.392817Z"
    }
   },
   "cell_type": "code",
   "source": "heroes.head(2)",
   "id": "1d9f943e38899ae2",
   "outputs": [
    {
     "data": {
      "text/plain": [
       "Batman      100\n",
       "Superman    120\n",
       "dtype: int64"
      ]
     },
     "execution_count": 10,
     "metadata": {},
     "output_type": "execute_result"
    }
   ],
   "execution_count": 10
  },
  {
   "metadata": {},
   "cell_type": "markdown",
   "source": "5. Extract the last four rows of the heroes series",
   "id": "5aa93d9e71ff04e4"
  },
  {
   "metadata": {
    "ExecuteTime": {
     "end_time": "2024-06-22T17:56:32.116917Z",
     "start_time": "2024-06-22T17:56:32.099567Z"
    }
   },
   "cell_type": "code",
   "source": "heroes.tail(4)",
   "id": "20a620e65404619f",
   "outputs": [
    {
     "data": {
      "text/plain": [
       "Spider-Man          90\n",
       "Iron Man            95\n",
       "Captain America    110\n",
       "Wonder Woman       120\n",
       "dtype: int64"
      ]
     },
     "execution_count": 11,
     "metadata": {},
     "output_type": "execute_result"
    }
   ],
   "execution_count": 11
  },
  {
   "metadata": {},
   "cell_type": "markdown",
   "source": "6. Determine the number of unique values in your heroes Series.",
   "id": "e28b722e3ff6d4a"
  },
  {
   "metadata": {
    "ExecuteTime": {
     "end_time": "2024-06-22T17:58:04.778757Z",
     "start_time": "2024-06-22T17:58:04.764863Z"
    }
   },
   "cell_type": "code",
   "source": "heroes.values",
   "id": "1401ae37512259ef",
   "outputs": [
    {
     "data": {
      "text/plain": [
       "array([100, 120,  90,  95, 110, 120])"
      ]
     },
     "execution_count": 13,
     "metadata": {},
     "output_type": "execute_result"
    }
   ],
   "execution_count": 13
  },
  {
   "metadata": {
    "ExecuteTime": {
     "end_time": "2024-06-22T17:57:13.604025Z",
     "start_time": "2024-06-22T17:57:13.588501Z"
    }
   },
   "cell_type": "code",
   "source": "heroes.nunique()",
   "id": "ef4dab80809d62d9",
   "outputs": [
    {
     "data": {
      "text/plain": [
       "5"
      ]
     },
     "execution_count": 12,
     "metadata": {},
     "output_type": "execute_result"
    }
   ],
   "execution_count": 12
  },
  {
   "metadata": {},
   "cell_type": "markdown",
   "source": "7. Calculate the average strength of the superheroes in heroes.",
   "id": "1e659b3e4c014ad8"
  },
  {
   "metadata": {
    "ExecuteTime": {
     "end_time": "2024-06-22T17:58:34.619191Z",
     "start_time": "2024-06-22T17:58:34.612486Z"
    }
   },
   "cell_type": "code",
   "source": "heroes.mean()",
   "id": "3e974102a16e585f",
   "outputs": [
    {
     "data": {
      "text/plain": [
       "105.83333333333333"
      ]
     },
     "execution_count": 14,
     "metadata": {},
     "output_type": "execute_result"
    }
   ],
   "execution_count": 14
  },
  {
   "metadata": {},
   "cell_type": "markdown",
   "source": "8. Calculate the maximum and minimum strengths in heroes",
   "id": "e085c76c0136bfb"
  },
  {
   "metadata": {
    "ExecuteTime": {
     "end_time": "2024-06-22T17:59:41.811778Z",
     "start_time": "2024-06-22T17:59:41.791637Z"
    }
   },
   "cell_type": "code",
   "source": "heroes.max()\n",
   "id": "f71def0b506bb122",
   "outputs": [
    {
     "data": {
      "text/plain": [
       "120"
      ]
     },
     "execution_count": 18,
     "metadata": {},
     "output_type": "execute_result"
    }
   ],
   "execution_count": 18
  },
  {
   "metadata": {
    "ExecuteTime": {
     "end_time": "2024-06-22T17:59:40.381291Z",
     "start_time": "2024-06-22T17:59:40.365924Z"
    }
   },
   "cell_type": "code",
   "source": "heroes.min()",
   "id": "f02ca9ecc1261829",
   "outputs": [
    {
     "data": {
      "text/plain": [
       "90"
      ]
     },
     "execution_count": 17,
     "metadata": {},
     "output_type": "execute_result"
    }
   ],
   "execution_count": 17
  },
  {
   "metadata": {},
   "cell_type": "markdown",
   "source": "9. Calculate what each superhero’s strength level would be if it doubled",
   "id": "d85526856e04dd21"
  },
  {
   "metadata": {
    "ExecuteTime": {
     "end_time": "2024-06-22T18:00:22.630298Z",
     "start_time": "2024-06-22T18:00:22.621820Z"
    }
   },
   "cell_type": "code",
   "source": "heroes.mul(2)",
   "id": "15c5c7cde490268c",
   "outputs": [
    {
     "data": {
      "text/plain": [
       "Batman             200\n",
       "Superman           240\n",
       "Spider-Man         180\n",
       "Iron Man           190\n",
       "Captain America    220\n",
       "Wonder Woman       240\n",
       "dtype: int64"
      ]
     },
     "execution_count": 19,
     "metadata": {},
     "output_type": "execute_result"
    }
   ],
   "execution_count": 19
  },
  {
   "metadata": {},
   "cell_type": "markdown",
   "source": "10. Convert the heroes Series to a Python dictionary",
   "id": "e72981293b2ded62"
  },
  {
   "metadata": {
    "ExecuteTime": {
     "end_time": "2024-06-22T18:01:06.475818Z",
     "start_time": "2024-06-22T18:01:06.467102Z"
    }
   },
   "cell_type": "code",
   "source": "dict(heroes)",
   "id": "b97e597a7adfb66c",
   "outputs": [
    {
     "data": {
      "text/plain": [
       "{'Batman': 100,\n",
       " 'Superman': 120,\n",
       " 'Spider-Man': 90,\n",
       " 'Iron Man': 95,\n",
       " 'Captain America': 110,\n",
       " 'Wonder Woman': 120}"
      ]
     },
     "execution_count": 22,
     "metadata": {},
     "output_type": "execute_result"
    }
   ],
   "execution_count": 22
  }
 ],
 "metadata": {
  "kernelspec": {
   "display_name": "Python 3",
   "language": "python",
   "name": "python3"
  },
  "language_info": {
   "codemirror_mode": {
    "name": "ipython",
    "version": 2
   },
   "file_extension": ".py",
   "mimetype": "text/x-python",
   "name": "python",
   "nbconvert_exporter": "python",
   "pygments_lexer": "ipython2",
   "version": "2.7.6"
  }
 },
 "nbformat": 4,
 "nbformat_minor": 5
}
