{
 "cells": [
  {
   "metadata": {
    "ExecuteTime": {
     "end_time": "2024-06-25T19:11:52.443982Z",
     "start_time": "2024-06-25T19:11:51.158342Z"
    }
   },
   "cell_type": "code",
   "source": [
    "import pandas as pd\n",
    "import numpy as np"
   ],
   "id": "95d1bf40a16456af",
   "outputs": [
    {
     "name": "stderr",
     "output_type": "stream",
     "text": [
      "/usr/lib/python3/dist-packages/pytz/__init__.py:31: SyntaxWarning: invalid escape sequence '\\s'\n",
      "  match = re.match(\"^#\\s*version\\s*([0-9a-z]*)\\s*$\", line)\n"
     ]
    }
   ],
   "execution_count": 1
  },
  {
   "metadata": {},
   "cell_type": "markdown",
   "source": "# 2.7 Coding challenge",
   "id": "9ec437502ee342a5"
  },
  {
   "cell_type": "code",
   "id": "initial_id",
   "metadata": {
    "collapsed": true,
    "ExecuteTime": {
     "end_time": "2024-06-22T17:50:22.979613Z",
     "start_time": "2024-06-22T17:50:22.973624Z"
    }
   },
   "source": [
    "superheroes = [\n",
    "    \"Batman\",\n",
    "    'Superman',\n",
    "    'Spider-Man',\n",
    "    'Iron Man',\n",
    "    'Captain America',\n",
    "    'Wonder Woman'\n",
    "]\n",
    "\n",
    "strength_levels = (100, 120, 90, 95, 110, 120)"
   ],
   "outputs": [],
   "execution_count": 1
  },
  {
   "metadata": {},
   "cell_type": "markdown",
   "source": "1. Use the list of superheroes to populate a new Series object",
   "id": "546a873510264448"
  },
  {
   "metadata": {
    "ExecuteTime": {
     "end_time": "2024-06-22T18:01:30.752909Z",
     "start_time": "2024-06-22T18:01:30.746437Z"
    }
   },
   "cell_type": "code",
   "source": "pd.Series(superheroes)",
   "id": "7c30f3acbe70a449",
   "outputs": [
    {
     "data": {
      "text/plain": [
       "0             Batman\n",
       "1           Superman\n",
       "2         Spider-Man\n",
       "3           Iron Man\n",
       "4    Captain America\n",
       "5       Wonder Woman\n",
       "dtype: object"
      ]
     },
     "execution_count": 23,
     "metadata": {},
     "output_type": "execute_result"
    }
   ],
   "execution_count": 23
  },
  {
   "metadata": {},
   "cell_type": "markdown",
   "source": "2. Use the tuple of strength to populate a new Series object",
   "id": "d738b4e2d1cb3f36"
  },
  {
   "metadata": {
    "ExecuteTime": {
     "end_time": "2024-06-22T18:01:38.863092Z",
     "start_time": "2024-06-22T18:01:38.854519Z"
    }
   },
   "cell_type": "code",
   "source": "pd.Series(strength_levels)",
   "id": "4127eccaf9026b4e",
   "outputs": [
    {
     "data": {
      "text/plain": [
       "0    100\n",
       "1    120\n",
       "2     90\n",
       "3     95\n",
       "4    110\n",
       "5    120\n",
       "dtype: int64"
      ]
     },
     "execution_count": 24,
     "metadata": {},
     "output_type": "execute_result"
    }
   ],
   "execution_count": 24
  },
  {
   "metadata": {},
   "cell_type": "markdown",
   "source": "3. Create a Series with the superheroes as index labels and the strength as values. Assign it to a heroes variable",
   "id": "2124d894b6082dda"
  },
  {
   "metadata": {
    "ExecuteTime": {
     "end_time": "2024-06-22T17:54:46.890462Z",
     "start_time": "2024-06-22T17:54:46.869279Z"
    }
   },
   "cell_type": "code",
   "source": [
    "heroes = pd.Series(data=strength_levels, index=superh)\n",
    "heroes"
   ],
   "id": "93bbb10f53e6cf53",
   "outputs": [
    {
     "data": {
      "text/plain": [
       "Batman             100\n",
       "Superman           120\n",
       "Spider-Man          90\n",
       "Iron Man            95\n",
       "Captain America    110\n",
       "Wonder Woman       120\n",
       "dtype: int64"
      ]
     },
     "execution_count": 9,
     "metadata": {},
     "output_type": "execute_result"
    }
   ],
   "execution_count": 9
  },
  {
   "metadata": {},
   "cell_type": "markdown",
   "source": "4. Extract the first two rows of the heroes series",
   "id": "e90d04fa3f4140b3"
  },
  {
   "metadata": {
    "ExecuteTime": {
     "end_time": "2024-06-22T17:55:54.414055Z",
     "start_time": "2024-06-22T17:55:54.392817Z"
    }
   },
   "cell_type": "code",
   "source": "heroes.head(2)",
   "id": "1d9f943e38899ae2",
   "outputs": [
    {
     "data": {
      "text/plain": [
       "Batman      100\n",
       "Superman    120\n",
       "dtype: int64"
      ]
     },
     "execution_count": 10,
     "metadata": {},
     "output_type": "execute_result"
    }
   ],
   "execution_count": 10
  },
  {
   "metadata": {},
   "cell_type": "markdown",
   "source": "5. Extract the last four rows of the heroes series",
   "id": "5aa93d9e71ff04e4"
  },
  {
   "metadata": {
    "ExecuteTime": {
     "end_time": "2024-06-22T17:56:32.116917Z",
     "start_time": "2024-06-22T17:56:32.099567Z"
    }
   },
   "cell_type": "code",
   "source": "heroes.tail(4)",
   "id": "20a620e65404619f",
   "outputs": [
    {
     "data": {
      "text/plain": [
       "Spider-Man          90\n",
       "Iron Man            95\n",
       "Captain America    110\n",
       "Wonder Woman       120\n",
       "dtype: int64"
      ]
     },
     "execution_count": 11,
     "metadata": {},
     "output_type": "execute_result"
    }
   ],
   "execution_count": 11
  },
  {
   "metadata": {},
   "cell_type": "markdown",
   "source": "6. Determine the number of unique values in your heroes Series.",
   "id": "e28b722e3ff6d4a"
  },
  {
   "metadata": {
    "ExecuteTime": {
     "end_time": "2024-06-22T17:58:04.778757Z",
     "start_time": "2024-06-22T17:58:04.764863Z"
    }
   },
   "cell_type": "code",
   "source": "heroes.values",
   "id": "1401ae37512259ef",
   "outputs": [
    {
     "data": {
      "text/plain": [
       "array([100, 120,  90,  95, 110, 120])"
      ]
     },
     "execution_count": 13,
     "metadata": {},
     "output_type": "execute_result"
    }
   ],
   "execution_count": 13
  },
  {
   "metadata": {
    "ExecuteTime": {
     "end_time": "2024-06-22T17:57:13.604025Z",
     "start_time": "2024-06-22T17:57:13.588501Z"
    }
   },
   "cell_type": "code",
   "source": "heroes.nunique()",
   "id": "ef4dab80809d62d9",
   "outputs": [
    {
     "data": {
      "text/plain": [
       "5"
      ]
     },
     "execution_count": 12,
     "metadata": {},
     "output_type": "execute_result"
    }
   ],
   "execution_count": 12
  },
  {
   "metadata": {},
   "cell_type": "markdown",
   "source": "7. Calculate the average strength of the superheroes in heroes.",
   "id": "1e659b3e4c014ad8"
  },
  {
   "metadata": {
    "ExecuteTime": {
     "end_time": "2024-06-22T17:58:34.619191Z",
     "start_time": "2024-06-22T17:58:34.612486Z"
    }
   },
   "cell_type": "code",
   "source": "heroes.mean()",
   "id": "3e974102a16e585f",
   "outputs": [
    {
     "data": {
      "text/plain": [
       "105.83333333333333"
      ]
     },
     "execution_count": 14,
     "metadata": {},
     "output_type": "execute_result"
    }
   ],
   "execution_count": 14
  },
  {
   "metadata": {},
   "cell_type": "markdown",
   "source": "8. Calculate the maximum and minimum strengths in heroes",
   "id": "e085c76c0136bfb"
  },
  {
   "metadata": {
    "ExecuteTime": {
     "end_time": "2024-06-22T17:59:41.811778Z",
     "start_time": "2024-06-22T17:59:41.791637Z"
    }
   },
   "cell_type": "code",
   "source": "heroes.max()\n",
   "id": "f71def0b506bb122",
   "outputs": [
    {
     "data": {
      "text/plain": [
       "120"
      ]
     },
     "execution_count": 18,
     "metadata": {},
     "output_type": "execute_result"
    }
   ],
   "execution_count": 18
  },
  {
   "metadata": {
    "ExecuteTime": {
     "end_time": "2024-06-22T17:59:40.381291Z",
     "start_time": "2024-06-22T17:59:40.365924Z"
    }
   },
   "cell_type": "code",
   "source": "heroes.min()",
   "id": "f02ca9ecc1261829",
   "outputs": [
    {
     "data": {
      "text/plain": [
       "90"
      ]
     },
     "execution_count": 17,
     "metadata": {},
     "output_type": "execute_result"
    }
   ],
   "execution_count": 17
  },
  {
   "metadata": {},
   "cell_type": "markdown",
   "source": "9. Calculate what each superhero’s strength level would be if it doubled",
   "id": "d85526856e04dd21"
  },
  {
   "metadata": {
    "ExecuteTime": {
     "end_time": "2024-06-22T18:00:22.630298Z",
     "start_time": "2024-06-22T18:00:22.621820Z"
    }
   },
   "cell_type": "code",
   "source": "heroes.mul(2)",
   "id": "15c5c7cde490268c",
   "outputs": [
    {
     "data": {
      "text/plain": [
       "Batman             200\n",
       "Superman           240\n",
       "Spider-Man         180\n",
       "Iron Man           190\n",
       "Captain America    220\n",
       "Wonder Woman       240\n",
       "dtype: int64"
      ]
     },
     "execution_count": 19,
     "metadata": {},
     "output_type": "execute_result"
    }
   ],
   "execution_count": 19
  },
  {
   "metadata": {},
   "cell_type": "markdown",
   "source": "10. Convert the heroes Series to a Python dictionary",
   "id": "e72981293b2ded62"
  },
  {
   "metadata": {
    "ExecuteTime": {
     "end_time": "2024-06-22T18:01:06.475818Z",
     "start_time": "2024-06-22T18:01:06.467102Z"
    }
   },
   "cell_type": "code",
   "source": "dict(heroes)",
   "id": "b97e597a7adfb66c",
   "outputs": [
    {
     "data": {
      "text/plain": [
       "{'Batman': 100,\n",
       " 'Superman': 120,\n",
       " 'Spider-Man': 90,\n",
       " 'Iron Man': 95,\n",
       " 'Captain America': 110,\n",
       " 'Wonder Woman': 120}"
      ]
     },
     "execution_count": 22,
     "metadata": {},
     "output_type": "execute_result"
    }
   ],
   "execution_count": 22
  },
  {
   "metadata": {},
   "cell_type": "markdown",
   "source": "# 3.6 Coding Challenge",
   "id": "fcd8786d7dc12289"
  },
  {
   "metadata": {
    "ExecuteTime": {
     "end_time": "2024-06-25T19:29:16.113272Z",
     "start_time": "2024-06-25T19:29:16.104808Z"
    }
   },
   "cell_type": "code",
   "source": "from datetime import date",
   "id": "85e367ab943f56b5",
   "outputs": [],
   "execution_count": 12
  },
  {
   "metadata": {},
   "cell_type": "markdown",
   "source": "Which day of thw week saw the most battles during the Revolutionary War",
   "id": "fc46c1b7d1d63bc9"
  },
  {
   "metadata": {
    "ExecuteTime": {
     "end_time": "2024-06-25T20:21:33.722580Z",
     "start_time": "2024-06-25T20:21:33.688064Z"
    }
   },
   "cell_type": "code",
   "source": [
    "# I just need the start date column\n",
    "battles = pd.read_csv('/home/diego/Documents/Data/revolutionary_war.csv', usecols=['Start Date'], parse_dates=['Start Date']).squeeze().dropna()\n",
    "battles"
   ],
   "id": "7c9e6f971eb6a120",
   "outputs": [
    {
     "data": {
      "text/plain": [
       "0     1774-09-01\n",
       "1     1774-12-14\n",
       "2     1775-04-19\n",
       "3     1775-04-19\n",
       "4     1775-04-20\n",
       "         ...    \n",
       "227   1782-09-11\n",
       "228   1782-09-13\n",
       "229   1782-10-18\n",
       "230   1782-12-06\n",
       "231   1783-01-22\n",
       "Name: Start Date, Length: 228, dtype: datetime64[ns]"
      ]
     },
     "execution_count": 96,
     "metadata": {},
     "output_type": "execute_result"
    }
   ],
   "execution_count": 96
  },
  {
   "metadata": {
    "ExecuteTime": {
     "end_time": "2024-06-25T19:42:55.625649Z",
     "start_time": "2024-06-25T19:42:55.620195Z"
    }
   },
   "cell_type": "code",
   "source": [
    "# Now we have a Series with only the dates, let's convert the dates into the correspond day\n",
    "date(2024, 6, 25).strftime('%A')\n"
   ],
   "id": "235f33ebae17296f",
   "outputs": [
    {
     "data": {
      "text/plain": [
       "'Tuesday'"
      ]
     },
     "execution_count": 20,
     "metadata": {},
     "output_type": "execute_result"
    }
   ],
   "execution_count": 20
  },
  {
   "metadata": {},
   "cell_type": "markdown",
   "source": "I need a function that converts each value of the series",
   "id": "a8ea9ee45cd6ebab"
  },
  {
   "metadata": {
    "ExecuteTime": {
     "end_time": "2024-06-25T20:29:26.750793Z",
     "start_time": "2024-06-25T20:29:26.726444Z"
    }
   },
   "cell_type": "code",
   "source": [
    "# the Series has a Datetime object, so strftime is a CLASSMETHOD we can use the current object to apply the method\n",
    "def to_day(battle_date):\n",
    "    return battle_date.strftime('%A')\n",
    "    "
   ],
   "id": "aa6ab732ad5579be",
   "outputs": [],
   "execution_count": 106
  },
  {
   "metadata": {},
   "cell_type": "markdown",
   "source": "Now I will use the apply method with the `to_day` function",
   "id": "f0007a9683b8e33d"
  },
  {
   "metadata": {
    "ExecuteTime": {
     "end_time": "2024-06-25T20:22:42.081859Z",
     "start_time": "2024-06-25T20:22:42.071926Z"
    }
   },
   "cell_type": "code",
   "source": [
    "battle_days = battles.apply(to_day)\n",
    "battle_days"
   ],
   "id": "e081aebe2e5f98fa",
   "outputs": [
    {
     "data": {
      "text/plain": [
       "0       Thursday\n",
       "1      Wednesday\n",
       "2      Wednesday\n",
       "3      Wednesday\n",
       "4       Thursday\n",
       "         ...    \n",
       "227    Wednesday\n",
       "228       Friday\n",
       "229       Friday\n",
       "230       Friday\n",
       "231    Wednesday\n",
       "Name: Start Date, Length: 228, dtype: object"
      ]
     },
     "execution_count": 100,
     "metadata": {},
     "output_type": "execute_result"
    }
   ],
   "execution_count": 100
  },
  {
   "metadata": {},
   "cell_type": "markdown",
   "source": "Now counting the values",
   "id": "59d8902fe0c9cb14"
  },
  {
   "metadata": {
    "ExecuteTime": {
     "end_time": "2024-06-25T20:23:25.259475Z",
     "start_time": "2024-06-25T20:23:25.239487Z"
    }
   },
   "cell_type": "code",
   "source": "battle_days.value_counts()",
   "id": "237e6c53bb195559",
   "outputs": [
    {
     "data": {
      "text/plain": [
       "Start Date\n",
       "Saturday     39\n",
       "Friday       39\n",
       "Wednesday    32\n",
       "Thursday     31\n",
       "Sunday       31\n",
       "Tuesday      29\n",
       "Monday       27\n",
       "Name: count, dtype: int64"
      ]
     },
     "execution_count": 102,
     "metadata": {},
     "output_type": "execute_result"
    }
   ],
   "execution_count": 102
  }
 ],
 "metadata": {
  "kernelspec": {
   "display_name": "Python 3",
   "language": "python",
   "name": "python3"
  },
  "language_info": {
   "codemirror_mode": {
    "name": "ipython",
    "version": 2
   },
   "file_extension": ".py",
   "mimetype": "text/x-python",
   "name": "python",
   "nbconvert_exporter": "python",
   "pygments_lexer": "ipython2",
   "version": "2.7.6"
  }
 },
 "nbformat": 4,
 "nbformat_minor": 5
}
